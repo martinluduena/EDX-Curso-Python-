{
 "cells": [
  {
   "cell_type": "markdown",
   "metadata": {},
   "source": [
    "# Week 2 \n",
    "\n",
    "## introduces you to Python libraries and concepts used in research.\n",
    "\n",
    "### In week 2, you will:\n",
    "\n",
    "Learn about Python scope rules;\n",
    "Learn the basics of scientific and vectorized computing using numpy;\n",
    "Learn the basics of plotting with matplotlib.pyplot;\n",
    "Learn the basics of random numbers with the random module;\n",
    "Learn how to measure time"
   ]
  },
  {
   "cell_type": "markdown",
   "metadata": {},
   "source": [
    "### 2.1.1: Scope Rules\n",
    "# LEGB \n",
    "### Local\n",
    "Local is the current function you're in.\n",
    "### Enclosing Function\n",
    "Enclosing function is the function that called the current function, if any.\n",
    "### Global\n",
    "Global refers to the module in which the function was defined.\n",
    "### Built-in\n",
    "And built-in refers to Python's built-in namespace."
   ]
  },
  {
   "cell_type": "markdown",
   "metadata": {},
   "source": [
    "We first call main.\n",
    "\n",
    "Main calls update.\n",
    "\n",
    "The execution then returns to main.\n",
    "\n",
    "And once main exits, we return the global scope,\n",
    "the scope where we defined the functions main and update."
   ]
  },
  {
   "cell_type": "code",
   "execution_count": 2,
   "metadata": {},
   "outputs": [
    {
     "name": "stdout",
     "output_type": "stream",
     "text": [
      "main:  1 [0, 1, 2, 3]\n",
      "update:  2 [0, 1, 2, 3, 4]\n",
      "main:  1 [0, 1, 2, 3, 4]\n"
     ]
    }
   ],
   "source": [
    "def update(n,x):\n",
    "    n = 2                    #Remember that variables that are \n",
    "    x.append(4)              #created within a function, such as n\n",
    "    print('update: ', n, x) #in the case of the update function, \n",
    "                             #are deleted as soon as Python exits\n",
    "                             #that function.\n",
    "def main():\n",
    "    n = 1\n",
    "    x = [0,1,2,3]\n",
    "    print('main: ', n, x)\n",
    "    update(n,x)\n",
    "    print('main: ', n, x)\n",
    "\n",
    "main()"
   ]
  },
  {
   "cell_type": "markdown",
   "metadata": {},
   "source": [
    "Here, n and x are assigned in the function main,\n",
    "so when we get to the first print function,\n",
    "Python finds the objects n and x in the local scope,\n",
    "meaning that the values of the objects are n equal to 1\n",
    "and x is equal to 0, 1, 2, 3, a list.\n",
    "\n",
    "The program then calls the function update with arguments\n",
    "n and x.\n",
    "So the program's control then moves to the function update.\n",
    "All of the function update has a parameter, n.\n",
    "On the first line of the function, we have an assignment,\n",
    "n equals 2, which creates a new variable that happens to\n",
    "be called \"n,\" And its value is set to 2.\n",
    "On the second line, we append the number 4\n",
    "to the object x, which is one of the function's parameters.\n",
    "Just to be clear on terminology, remember\n",
    "that an argument is an object that is passed to a function\n",
    "as its input when the function is called.\n",
    "A parameter, in contrast, is a variable that is used\n",
    "in the function definition to refer to that argument.\n",
    "That means that the second line will append the number 4 to\n",
    "the list that we have created in the main function.\n",
    "So when we get to the print function, Python\n",
    "finds the objects n and x in the local scope,\n",
    "meaning that the values of the objects are n equal to 2\n",
    "and x is a list, 0, 1, 2, 3, 4.\n",
    "\n",
    "Python then exits the function and control returns to the\n",
    "main function.\n",
    "Remember that variables that are created within a function, \n",
    "such as n in the case of the update function, are deleted\n",
    "as soon as Python exits that function.\n",
    "\n",
    "Looking at the final print function, the objects n and x\n",
    "are found in the local scope where n is equal to 1\n",
    "and x is a list, 0, 1, 2, 3 4."
   ]
  },
  {
   "cell_type": "code",
   "execution_count": 3,
   "metadata": {},
   "outputs": [
    {
     "name": "stdout",
     "output_type": "stream",
     "text": [
      "2\n",
      "1\n"
     ]
    }
   ],
   "source": [
    "def increment(n): \n",
    "   n += 1 \n",
    "   print(n) \n",
    "\n",
    "n = 1 \n",
    "increment(n) \n",
    "print(n) "
   ]
  },
  {
   "cell_type": "markdown",
   "metadata": {},
   "source": [
    "Fill in the #blank# to ensure this prints 10."
   ]
  },
  {
   "cell_type": "code",
   "execution_count": 4,
   "metadata": {},
   "outputs": [
    {
     "name": "stdout",
     "output_type": "stream",
     "text": [
      "10\n"
     ]
    }
   ],
   "source": [
    "def increment(n):\n",
    "   n += 1\n",
    "   return n # blank #\n",
    "\n",
    "n = 1\n",
    "while n < 10:\n",
    "   n = increment(n)\n",
    "print(n)"
   ]
  },
  {
   "cell_type": "markdown",
   "metadata": {},
   "source": [
    "### 2.1.2: Classes and Object-Oriented Programming\n",
    "Aprenda lo básico de la herencia en lo que respecta a las clases y la programación orientada a objetos.\n",
    "\n",
    "In general, an object consists of both internal data and methods\n",
    "that perform operations on the data.\n",
    "\n",
    "Inheritance means that you can define a new object type, a new class, that inherits properties from an existing object\n",
    "\n",
    "Un objeto es una instancia de la clase: the class statement doesn't create any instance of the class"
   ]
  },
  {
   "cell_type": "markdown",
   "metadata": {},
   "source": [
    "Clase derivada de list: puede redefinir cualquier attributo heredado de list, y además, puede agregar sus nuevos y propios a\n",
    "attributes.\n",
    "\n",
    "Notice that we placed parentheses after MyList. This is how Python specifies inheritance.\n",
    "When a class is created via inheritance, the new class inherits the attributes defined by its base class, the \n",
    "class it is inheriting attributes from -- in this case -- a list. \n",
    "\n",
    "The functions defined inside a class are known as \"instance methods\" because they operate on an instance of the class.\n",
    "\n",
    "By convention, the name of the class instance is called \"self\",and it is always passed as the first argument\n",
    "to the functions defined as part of a class."
   ]
  },
  {
   "cell_type": "code",
   "execution_count": 6,
   "metadata": {},
   "outputs": [],
   "source": [
    "class Mylist(list):\n",
    "    def remove_min(self):\n",
    "        self.remove(min(self))\n",
    "    def remove_max(self):\n",
    "        self.remove(max(self))"
   ]
  },
  {
   "cell_type": "code",
   "execution_count": 7,
   "metadata": {},
   "outputs": [
    {
     "data": {
      "text/plain": [
       "['__add__',\n",
       " '__class__',\n",
       " '__contains__',\n",
       " '__delattr__',\n",
       " '__delitem__',\n",
       " '__dict__',\n",
       " '__dir__',\n",
       " '__doc__',\n",
       " '__eq__',\n",
       " '__format__',\n",
       " '__ge__',\n",
       " '__getattribute__',\n",
       " '__getitem__',\n",
       " '__gt__',\n",
       " '__hash__',\n",
       " '__iadd__',\n",
       " '__imul__',\n",
       " '__init__',\n",
       " '__init_subclass__',\n",
       " '__iter__',\n",
       " '__le__',\n",
       " '__len__',\n",
       " '__lt__',\n",
       " '__module__',\n",
       " '__mul__',\n",
       " '__ne__',\n",
       " '__new__',\n",
       " '__reduce__',\n",
       " '__reduce_ex__',\n",
       " '__repr__',\n",
       " '__reversed__',\n",
       " '__rmul__',\n",
       " '__setattr__',\n",
       " '__setitem__',\n",
       " '__sizeof__',\n",
       " '__str__',\n",
       " '__subclasshook__',\n",
       " '__weakref__',\n",
       " 'append',\n",
       " 'clear',\n",
       " 'copy',\n",
       " 'count',\n",
       " 'extend',\n",
       " 'index',\n",
       " 'insert',\n",
       " 'pop',\n",
       " 'remove',\n",
       " 'remove_max',\n",
       " 'remove_min',\n",
       " 'reverse',\n",
       " 'sort']"
      ]
     },
     "execution_count": 7,
     "metadata": {},
     "output_type": "execute_result"
    }
   ],
   "source": [
    "x = [1,5,7,9,4,5,7]\n",
    "y = Mylist(x)\n",
    "dir(y) #you'll see that the method to remove max and remove min\n",
    "       #are now available"
   ]
  },
  {
   "cell_type": "code",
   "execution_count": 8,
   "metadata": {},
   "outputs": [],
   "source": [
    "y.remove_min()"
   ]
  },
  {
   "cell_type": "code",
   "execution_count": 9,
   "metadata": {},
   "outputs": [
    {
     "data": {
      "text/plain": [
       "[5, 7, 9, 4, 5, 7]"
      ]
     },
     "execution_count": 9,
     "metadata": {},
     "output_type": "execute_result"
    }
   ],
   "source": [
    "y"
   ]
  },
  {
   "cell_type": "code",
   "execution_count": 10,
   "metadata": {},
   "outputs": [
    {
     "data": {
      "text/plain": [
       "[5, 7, 4, 5, 7]"
      ]
     },
     "execution_count": 10,
     "metadata": {},
     "output_type": "execute_result"
    }
   ],
   "source": [
    "y.remove_max()\n",
    "y"
   ]
  },
  {
   "cell_type": "markdown",
   "metadata": {},
   "source": [
    "### 2.2.1: Introduction to NumPy Arrays\n",
    "\n",
    "NumPy is a Python module designed for scientific computation.\n",
    "\n",
    "NumPy arrays are n-dimensional array objects\n",
    "\n",
    "NumPy arrays are an additional data type provided by NumPy,\n",
    "and they are used for representing vectors and matrices."
   ]
  },
  {
   "cell_type": "code",
   "execution_count": 11,
   "metadata": {},
   "outputs": [],
   "source": [
    "import numpy as np\n",
    "zero_vector = np.zeros(5)\n",
    "zero_matrix = np.zeros((5,3)) "
   ]
  },
  {
   "cell_type": "code",
   "execution_count": 12,
   "metadata": {},
   "outputs": [
    {
     "data": {
      "text/plain": [
       "array([[0., 0., 0.],\n",
       "       [0., 0., 0.],\n",
       "       [0., 0., 0.],\n",
       "       [0., 0., 0.],\n",
       "       [0., 0., 0.]])"
      ]
     },
     "execution_count": 12,
     "metadata": {},
     "output_type": "execute_result"
    }
   ],
   "source": [
    "zero_matrix"
   ]
  },
  {
   "cell_type": "code",
   "execution_count": 13,
   "metadata": {},
   "outputs": [
    {
     "data": {
      "text/plain": [
       "array([1, 2, 3])"
      ]
     },
     "execution_count": 13,
     "metadata": {},
     "output_type": "execute_result"
    }
   ],
   "source": [
    "x = np.array([1,2,3])\n",
    "x"
   ]
  },
  {
   "cell_type": "code",
   "execution_count": 14,
   "metadata": {},
   "outputs": [
    {
     "data": {
      "text/plain": [
       "array([[1, 3],\n",
       "       [5, 6]])"
      ]
     },
     "execution_count": 14,
     "metadata": {},
     "output_type": "execute_result"
    }
   ],
   "source": [
    "m = np.array([[1,3],[5,6]])\n",
    "m"
   ]
  },
  {
   "cell_type": "code",
   "execution_count": 15,
   "metadata": {},
   "outputs": [
    {
     "data": {
      "text/plain": [
       "array([[1, 5],\n",
       "       [3, 6]])"
      ]
     },
     "execution_count": 15,
     "metadata": {},
     "output_type": "execute_result"
    }
   ],
   "source": [
    "mt = m.transpose()\n",
    "mt"
   ]
  },
  {
   "cell_type": "code",
   "execution_count": 16,
   "metadata": {},
   "outputs": [
    {
     "data": {
      "text/plain": [
       "array([0., 0., 0., 0., 0.])"
      ]
     },
     "execution_count": 16,
     "metadata": {},
     "output_type": "execute_result"
    }
   ],
   "source": [
    "np.array([0., 0., 0., 0., 0.])"
   ]
  },
  {
   "cell_type": "code",
   "execution_count": 17,
   "metadata": {},
   "outputs": [
    {
     "data": {
      "text/plain": [
       "array([0., 0., 0., 0., 0.])"
      ]
     },
     "execution_count": 17,
     "metadata": {},
     "output_type": "execute_result"
    }
   ],
   "source": [
    "np.zeros(5)"
   ]
  },
  {
   "cell_type": "code",
   "execution_count": 18,
   "metadata": {},
   "outputs": [
    {
     "name": "stdout",
     "output_type": "stream",
     "text": [
      "[[3 5]\n",
      " [6 7]]\n"
     ]
    }
   ],
   "source": [
    "x = np.array([[3,6],[5,7]]) \n",
    "y = x.transpose() \n",
    "print(y) "
   ]
  },
  {
   "cell_type": "markdown",
   "metadata": {},
   "source": [
    "### 2.2.2: Slicing NumPy Arrays\n",
    "\n",
    "With two-dimensional arrays, the first index specifies the row of the array and the second index\n",
    "specifies the column of the array.\n",
    "\n",
    "With multi-dimensional arrays, you can use the colon character in place of a fixed value for an index, which\n",
    "means that the array elements corresponding to all values of that particular index will be returned."
   ]
  },
  {
   "cell_type": "code",
   "execution_count": 19,
   "metadata": {},
   "outputs": [],
   "source": [
    "import numpy as np\n",
    "x = np.array([1,2,3])\n",
    "y = np.array([2,4,6])\n",
    "X = np.array([[1,2,3],[4,5,6]])\n",
    "Y = np.array([[2,4,6],[8,10,12]])"
   ]
  },
  {
   "cell_type": "code",
   "execution_count": 20,
   "metadata": {},
   "outputs": [
    {
     "data": {
      "text/plain": [
       "array([1, 2, 3])"
      ]
     },
     "execution_count": 20,
     "metadata": {},
     "output_type": "execute_result"
    }
   ],
   "source": [
    "x"
   ]
  },
  {
   "cell_type": "code",
   "execution_count": 21,
   "metadata": {},
   "outputs": [
    {
     "data": {
      "text/plain": [
       "array([[1, 2, 3],\n",
       "       [4, 5, 6]])"
      ]
     },
     "execution_count": 21,
     "metadata": {},
     "output_type": "execute_result"
    }
   ],
   "source": [
    "X"
   ]
  },
  {
   "cell_type": "code",
   "execution_count": 22,
   "metadata": {},
   "outputs": [
    {
     "data": {
      "text/plain": [
       "3"
      ]
     },
     "execution_count": 22,
     "metadata": {},
     "output_type": "execute_result"
    }
   ],
   "source": [
    "x[2] "
   ]
  },
  {
   "cell_type": "code",
   "execution_count": 23,
   "metadata": {},
   "outputs": [
    {
     "data": {
      "text/plain": [
       "array([1, 2])"
      ]
     },
     "execution_count": 23,
     "metadata": {},
     "output_type": "execute_result"
    }
   ],
   "source": [
    "x[0:2] # Slicing "
   ]
  },
  {
   "cell_type": "code",
   "execution_count": 24,
   "metadata": {},
   "outputs": [
    {
     "data": {
      "text/plain": [
       "array([3, 6, 9])"
      ]
     },
     "execution_count": 24,
     "metadata": {},
     "output_type": "execute_result"
    }
   ],
   "source": [
    "z = x + y  \n",
    "z"
   ]
  },
  {
   "cell_type": "code",
   "execution_count": 27,
   "metadata": {},
   "outputs": [
    {
     "data": {
      "text/plain": [
       "array([2, 5])"
      ]
     },
     "execution_count": 27,
     "metadata": {},
     "output_type": "execute_result"
    }
   ],
   "source": [
    "X[:,1] # Columna 1 (Todas las filas de la columna 1)"
   ]
  },
  {
   "cell_type": "code",
   "execution_count": 28,
   "metadata": {},
   "outputs": [
    {
     "data": {
      "text/plain": [
       "array([1, 4])"
      ]
     },
     "execution_count": 28,
     "metadata": {},
     "output_type": "execute_result"
    }
   ],
   "source": [
    "X[:,0] # Columna 0 (Todas las filas de la columna 0)"
   ]
  },
  {
   "cell_type": "code",
   "execution_count": 29,
   "metadata": {},
   "outputs": [
    {
     "data": {
      "text/plain": [
       "array([ 6, 15])"
      ]
     },
     "execution_count": 29,
     "metadata": {},
     "output_type": "execute_result"
    }
   ],
   "source": [
    "X[:,1] + Y[:,1]"
   ]
  },
  {
   "cell_type": "code",
   "execution_count": 30,
   "metadata": {},
   "outputs": [
    {
     "data": {
      "text/plain": [
       "array([1, 2, 3])"
      ]
     },
     "execution_count": 30,
     "metadata": {},
     "output_type": "execute_result"
    }
   ],
   "source": [
    "X[0,:]   # Fila 0 , todas las columnas"
   ]
  },
  {
   "cell_type": "code",
   "execution_count": 31,
   "metadata": {},
   "outputs": [
    {
     "data": {
      "text/plain": [
       "array([1, 2, 3])"
      ]
     },
     "execution_count": 31,
     "metadata": {},
     "output_type": "execute_result"
    }
   ],
   "source": [
    "X[0]  # Fila 0"
   ]
  },
  {
   "cell_type": "code",
   "execution_count": 32,
   "metadata": {},
   "outputs": [
    {
     "data": {
      "text/plain": [
       "array([2])"
      ]
     },
     "execution_count": 32,
     "metadata": {},
     "output_type": "execute_result"
    }
   ],
   "source": [
    "x = np.array([1,2,5]) \n",
    "#Recall that indices start at 0 in Python.\n",
    "#The end of a slice (i.e., the number to the right of the colon) is not included \n",
    "# in the slice.\n",
    "x[1:2]"
   ]
  },
  {
   "cell_type": "markdown",
   "metadata": {},
   "source": [
    "### 2.2.3: Indexing NumPy Arrays"
   ]
  },
  {
   "cell_type": "code",
   "execution_count": 33,
   "metadata": {},
   "outputs": [],
   "source": [
    "z1 = np.array([1,2,3,4,5,6])"
   ]
  },
  {
   "cell_type": "code",
   "execution_count": 34,
   "metadata": {},
   "outputs": [
    {
     "data": {
      "text/plain": [
       "array([2, 3, 4, 5, 6, 7])"
      ]
     },
     "execution_count": 34,
     "metadata": {},
     "output_type": "execute_result"
    }
   ],
   "source": [
    "z2 = z1 + 1\n",
    "z2"
   ]
  },
  {
   "cell_type": "code",
   "execution_count": 35,
   "metadata": {},
   "outputs": [],
   "source": [
    "index_list = [1,2,3]"
   ]
  },
  {
   "cell_type": "code",
   "execution_count": 36,
   "metadata": {},
   "outputs": [
    {
     "data": {
      "text/plain": [
       "array([3, 4, 5])"
      ]
     },
     "execution_count": 36,
     "metadata": {},
     "output_type": "execute_result"
    }
   ],
   "source": [
    "z2[index_list]"
   ]
  },
  {
   "cell_type": "code",
   "execution_count": 37,
   "metadata": {},
   "outputs": [],
   "source": [
    "index_array = np.array(index_list)"
   ]
  },
  {
   "cell_type": "code",
   "execution_count": 38,
   "metadata": {},
   "outputs": [
    {
     "data": {
      "text/plain": [
       "array([3, 4, 5])"
      ]
     },
     "execution_count": 38,
     "metadata": {},
     "output_type": "execute_result"
    }
   ],
   "source": [
    "z2[index_array]"
   ]
  },
  {
   "cell_type": "code",
   "execution_count": 39,
   "metadata": {},
   "outputs": [
    {
     "data": {
      "text/plain": [
       "array([False, False, False,  True,  True,  True])"
      ]
     },
     "execution_count": 39,
     "metadata": {},
     "output_type": "execute_result"
    }
   ],
   "source": [
    "z1 > 3 # Let's first construct a Boolean array."
   ]
  },
  {
   "cell_type": "code",
   "execution_count": 40,
   "metadata": {},
   "outputs": [
    {
     "data": {
      "text/plain": [
       "array([4, 5, 6])"
      ]
     },
     "execution_count": 40,
     "metadata": {},
     "output_type": "execute_result"
    }
   ],
   "source": [
    "z1[z1  > 3]"
   ]
  },
  {
   "cell_type": "code",
   "execution_count": 41,
   "metadata": {},
   "outputs": [
    {
     "data": {
      "text/plain": [
       "array([5, 6, 7])"
      ]
     },
     "execution_count": 41,
     "metadata": {},
     "output_type": "execute_result"
    }
   ],
   "source": [
    "z2[z1 > 3] #Python returns those elements\n",
    "           #of the array for which the corresponding value in the Boolean vector is true."
   ]
  },
  {
   "cell_type": "code",
   "execution_count": 42,
   "metadata": {},
   "outputs": [
    {
     "data": {
      "text/plain": [
       "array([5, 6, 7])"
      ]
     },
     "execution_count": 42,
     "metadata": {},
     "output_type": "execute_result"
    }
   ],
   "source": [
    "index_bol = z1 > 3\n",
    "z2[index_bol]"
   ]
  },
  {
   "cell_type": "markdown",
   "metadata": {},
   "source": [
    "When you slice an array using the colon operator, you get a view of the object.\n",
    "This means that if you modify it, the original array will also be modified.\n",
    "\n",
    "This is in contrast with what happens when you index an array, in which case\n",
    "what is returned to you is a copy of the original data."
   ]
  },
  {
   "cell_type": "code",
   "execution_count": 43,
   "metadata": {},
   "outputs": [],
   "source": [
    "z1 = np.array([1,3,5,7,9])"
   ]
  },
  {
   "cell_type": "code",
   "execution_count": 44,
   "metadata": {},
   "outputs": [
    {
     "data": {
      "text/plain": [
       "array([1, 3, 5])"
      ]
     },
     "execution_count": 44,
     "metadata": {},
     "output_type": "execute_result"
    }
   ],
   "source": [
    "w = z1[0:3] # Slicing \n",
    "w"
   ]
  },
  {
   "cell_type": "code",
   "execution_count": 45,
   "metadata": {},
   "outputs": [
    {
     "data": {
      "text/plain": [
       "array([3, 3, 5])"
      ]
     },
     "execution_count": 45,
     "metadata": {},
     "output_type": "execute_result"
    }
   ],
   "source": [
    "w[0] = 3\n",
    "w"
   ]
  },
  {
   "cell_type": "code",
   "execution_count": 46,
   "metadata": {},
   "outputs": [
    {
     "data": {
      "text/plain": [
       "array([3, 3, 5, 7, 9])"
      ]
     },
     "execution_count": 46,
     "metadata": {},
     "output_type": "execute_result"
    }
   ],
   "source": [
    "z1"
   ]
  },
  {
   "cell_type": "code",
   "execution_count": 47,
   "metadata": {},
   "outputs": [],
   "source": [
    "z2 = np.array([1,3,5,7,9])"
   ]
  },
  {
   "cell_type": "code",
   "execution_count": 48,
   "metadata": {},
   "outputs": [
    {
     "data": {
      "text/plain": [
       "array([1, 3, 5])"
      ]
     },
     "execution_count": 48,
     "metadata": {},
     "output_type": "execute_result"
    }
   ],
   "source": [
    "w2 = z2[[0,1,2]] # Indexing\n",
    "w2"
   ]
  },
  {
   "cell_type": "code",
   "execution_count": 49,
   "metadata": {},
   "outputs": [
    {
     "data": {
      "text/plain": [
       "array([3, 3, 5])"
      ]
     },
     "execution_count": 49,
     "metadata": {},
     "output_type": "execute_result"
    }
   ],
   "source": [
    "w2[0] = 3\n",
    "w2"
   ]
  },
  {
   "cell_type": "code",
   "execution_count": 50,
   "metadata": {},
   "outputs": [
    {
     "data": {
      "text/plain": [
       "array([1, 3, 5, 7, 9])"
      ]
     },
     "execution_count": 50,
     "metadata": {},
     "output_type": "execute_result"
    }
   ],
   "source": [
    "z2"
   ]
  },
  {
   "cell_type": "code",
   "execution_count": 51,
   "metadata": {},
   "outputs": [
    {
     "data": {
      "text/plain": [
       "array([4, 5])"
      ]
     },
     "execution_count": 51,
     "metadata": {},
     "output_type": "execute_result"
    }
   ],
   "source": [
    "a = np.array([1,2]) \n",
    "b = np.array([3,4,5]) \n",
    "b[a]  # INDEXING"
   ]
  },
  {
   "cell_type": "code",
   "execution_count": 52,
   "metadata": {},
   "outputs": [
    {
     "data": {
      "text/plain": [
       "array([4, 5])"
      ]
     },
     "execution_count": 52,
     "metadata": {},
     "output_type": "execute_result"
    }
   ],
   "source": [
    "c = b[1:] # Slicing. \n",
    "c"
   ]
  },
  {
   "cell_type": "code",
   "execution_count": 53,
   "metadata": {},
   "outputs": [
    {
     "data": {
      "text/plain": [
       "False"
      ]
     },
     "execution_count": 53,
     "metadata": {},
     "output_type": "execute_result"
    }
   ],
   "source": [
    "b[a] is c"
   ]
  },
  {
   "cell_type": "markdown",
   "metadata": {},
   "source": [
    "### 2.2.4: Building and Examining NumPy Arrays\n",
    "\n",
    "To construct an array of 10 linearly spaced elements starting with 0\n",
    "and ending with 100, we can use the NumPy linspace function."
   ]
  },
  {
   "cell_type": "code",
   "execution_count": 54,
   "metadata": {},
   "outputs": [
    {
     "data": {
      "text/plain": [
       "array([  0.        ,  11.11111111,  22.22222222,  33.33333333,\n",
       "        44.44444444,  55.55555556,  66.66666667,  77.77777778,\n",
       "        88.88888889, 100.        ])"
      ]
     },
     "execution_count": 54,
     "metadata": {},
     "output_type": "execute_result"
    }
   ],
   "source": [
    "np.linspace(0,100,10)"
   ]
  },
  {
   "cell_type": "markdown",
   "metadata": {},
   "source": [
    "Now, to construct an average of 10 logarithmically spaced elements\n",
    "between 10 and 100, we can do the following.\n",
    "In this case we use the NumPy logspace command.\n",
    "But now careful, the first argument that goes into logspace\n",
    "is going to be the log of the starting point.\n",
    "If you want the sequence to start at 10, the first argument\n",
    "has to be the log of 10 which is 1.\n",
    "The second argument is the endpoint of the array, which is 100.\n",
    "And again, we need to put in the log of that, which is 2.\n",
    "And the third argument as before, is the number of elements in our array."
   ]
  },
  {
   "cell_type": "code",
   "execution_count": 55,
   "metadata": {},
   "outputs": [
    {
     "data": {
      "text/plain": [
       "array([ 10.        ,  12.91549665,  16.68100537,  21.5443469 ,\n",
       "        27.82559402,  35.93813664,  46.41588834,  59.94842503,\n",
       "        77.42636827, 100.        ])"
      ]
     },
     "execution_count": 55,
     "metadata": {},
     "output_type": "execute_result"
    }
   ],
   "source": [
    "np.logspace(1,2,10)"
   ]
  },
  {
   "cell_type": "code",
   "execution_count": 56,
   "metadata": {},
   "outputs": [
    {
     "data": {
      "text/plain": [
       "array([250.        , 270.01493472, 291.63225989, 314.98026247,\n",
       "       340.19750004, 367.43362307, 396.85026299, 428.62199143,\n",
       "       462.93735614, 500.        ])"
      ]
     },
     "execution_count": 56,
     "metadata": {},
     "output_type": "execute_result"
    }
   ],
   "source": [
    "np.logspace(np.log10(250),np.log10(500),10)"
   ]
  },
  {
   "cell_type": "code",
   "execution_count": 57,
   "metadata": {},
   "outputs": [
    {
     "data": {
      "text/plain": [
       "(2, 3)"
      ]
     },
     "execution_count": 57,
     "metadata": {},
     "output_type": "execute_result"
    }
   ],
   "source": [
    "X.shape # Cantidad de filas y columnas"
   ]
  },
  {
   "cell_type": "code",
   "execution_count": 58,
   "metadata": {},
   "outputs": [
    {
     "data": {
      "text/plain": [
       "6"
      ]
     },
     "execution_count": 58,
     "metadata": {},
     "output_type": "execute_result"
    }
   ],
   "source": [
    "X.size # Cantidad de elementos"
   ]
  },
  {
   "cell_type": "code",
   "execution_count": 62,
   "metadata": {},
   "outputs": [],
   "source": [
    "x = np.random.random(10)"
   ]
  },
  {
   "cell_type": "code",
   "execution_count": 63,
   "metadata": {},
   "outputs": [
    {
     "data": {
      "text/plain": [
       "array([0.39618495, 0.60113798, 0.81539844, 0.95088066, 0.55090635,\n",
       "       0.23280889, 0.78974462, 0.5713472 , 0.97447082, 0.86514114])"
      ]
     },
     "execution_count": 63,
     "metadata": {},
     "output_type": "execute_result"
    }
   ],
   "source": [
    "x"
   ]
  },
  {
   "cell_type": "code",
   "execution_count": 66,
   "metadata": {},
   "outputs": [
    {
     "data": {
      "text/plain": [
       "False"
      ]
     },
     "execution_count": 66,
     "metadata": {},
     "output_type": "execute_result"
    }
   ],
   "source": [
    "np.any( x > 0.99)"
   ]
  },
  {
   "cell_type": "code",
   "execution_count": 67,
   "metadata": {},
   "outputs": [
    {
     "data": {
      "text/plain": [
       "True"
      ]
     },
     "execution_count": 67,
     "metadata": {},
     "output_type": "execute_result"
    }
   ],
   "source": [
    "np.all(x >= 0.1)"
   ]
  },
  {
   "cell_type": "code",
   "execution_count": 69,
   "metadata": {},
   "outputs": [
    {
     "data": {
      "text/plain": [
       "[False, False, False]"
      ]
     },
     "execution_count": 69,
     "metadata": {},
     "output_type": "execute_result"
    }
   ],
   "source": [
    "x = 5    #x%i: Resto del Cociente \n",
    "[x%i == 0 for i in range(2, x)]"
   ]
  },
  {
   "cell_type": "code",
   "execution_count": 72,
   "metadata": {},
   "outputs": [
    {
     "data": {
      "text/plain": [
       "True"
      ]
     },
     "execution_count": 72,
     "metadata": {},
     "output_type": "execute_result"
    }
   ],
   "source": [
    "x= 11\n",
    "not np.any([x%i ==0 for i in range(2, x)]) # Determina si x es primo o no !!"
   ]
  },
  {
   "cell_type": "markdown",
   "metadata": {},
   "source": [
    "### 2.3.1: Introduction to Matplotlib and Pyplot\n",
    "Learn how to create simple plots using matplotlib.pyplot\n",
    "\n",
    "Matplotlib is a very large library, and getting to know it well takes time.\n",
    "But often we don't need the full matplotlib library in our programs,\n",
    "and this is where Pyplot comes in handy.\n",
    "\n",
    "Pyplot is a collection of functions that make matplotlib work like Matlab"
   ]
  },
  {
   "cell_type": "code",
   "execution_count": 73,
   "metadata": {},
   "outputs": [],
   "source": [
    "import matplotlib.pyplot as plt "
   ]
  },
  {
   "cell_type": "code",
   "execution_count": 74,
   "metadata": {},
   "outputs": [
    {
     "data": {
      "image/png": "[encoded data removed]",
      "text/plain": [
       "<Figure size 432x288 with 1 Axes>"
      ]
     },
     "metadata": {
      "needs_background": "light"
     },
     "output_type": "display_data"
    }
   ],
   "source": [
    "plt.plot([0,1,4,9,16]);"
   ]
  },
  {
   "cell_type": "code",
   "execution_count": 75,
   "metadata": {},
   "outputs": [
    {
     "data": {
      "image/png": "[encoded data removed]",
      "text/plain": [
       "<Figure size 432x288 with 1 Axes>"
      ]
     },
     "metadata": {
      "needs_background": "light"
     },
     "output_type": "display_data"
    }
   ],
   "source": [
    "x = np.linspace(0,4,5)\n",
    "y = x**2\n",
    "plt.plot(x,y);"
   ]
  },
  {
   "cell_type": "code",
   "execution_count": 76,
   "metadata": {},
   "outputs": [
    {
     "data": {
      "text/plain": [
       "array([ 0.,  1.,  4.,  9., 16.])"
      ]
     },
     "execution_count": 76,
     "metadata": {},
     "output_type": "execute_result"
    }
   ],
   "source": [
    "y "
   ]
  },
  {
   "cell_type": "code",
   "execution_count": 77,
   "metadata": {},
   "outputs": [
    {
     "data": {
      "text/plain": [
       "[<matplotlib.lines.Line2D at 0x2491f1ad748>]"
      ]
     },
     "execution_count": 77,
     "metadata": {},
     "output_type": "execute_result"
    },
    {
     "data": {
      "image/png": "[encoded data removed]",
      "text/plain": [
       "<Figure size 432x288 with 1 Axes>"
      ]
     },
     "metadata": {
      "needs_background": "light"
     },
     "output_type": "display_data"
    }
   ],
   "source": [
    "y1 = x**2.0 \n",
    "y2 = x**1.5\n",
    "plt.plot(x,y1,\"bo-\") # bo- = b(blue)o(circles)-(solid line)"
   ]
  },
  {
   "cell_type": "code",
   "execution_count": 78,
   "metadata": {},
   "outputs": [
    {
     "data": {
      "text/plain": [
       "[<matplotlib.lines.Line2D at 0x2491f0aaef0>]"
      ]
     },
     "execution_count": 78,
     "metadata": {},
     "output_type": "execute_result"
    },
    {
     "data": {
      "image/png": "[encoded data removed]",
      "text/plain": [
       "<Figure size 432x288 with 1 Axes>"
      ]
     },
     "metadata": {
      "needs_background": "light"
     },
     "output_type": "display_data"
    }
   ],
   "source": [
    "plt.plot(x,y1,\"bo-\", linewidth=2, markersize=12 )"
   ]
  },
  {
   "cell_type": "code",
   "execution_count": 79,
   "metadata": {},
   "outputs": [
    {
     "data": {
      "image/png": "[encoded data removed]",
      "text/plain": [
       "<Figure size 432x288 with 1 Axes>"
      ]
     },
     "metadata": {
      "needs_background": "light"
     },
     "output_type": "display_data"
    }
   ],
   "source": [
    "plt.plot(x,y2,\"gs-\", linewidth=2, markersize=12 );"
   ]
  },
  {
   "cell_type": "code",
   "execution_count": 80,
   "metadata": {},
   "outputs": [
    {
     "data": {
      "text/plain": [
       "[<matplotlib.lines.Line2D at 0x2491f260dd8>]"
      ]
     },
     "execution_count": 80,
     "metadata": {},
     "output_type": "execute_result"
    },
    {
     "data": {
      "image/png": "[encoded data removed]",
      "text/plain": [
       "<Figure size 432x288 with 1 Axes>"
      ]
     },
     "metadata": {
      "needs_background": "light"
     },
     "output_type": "display_data"
    }
   ],
   "source": [
    "plt.plot([0,1,2],[0,1,4],\"rd-\")"
   ]
  },
  {
   "cell_type": "markdown",
   "metadata": {},
   "source": [
    "### 2.3.2: Customizing Your Plots\n",
    "Learn how to customize your plots by adding a legend, adjusting and labeling the axes, and saving your figures"
   ]
  },
  {
   "cell_type": "code",
   "execution_count": 85,
   "metadata": {},
   "outputs": [
    {
     "data": {
      "image/png": "[encoded data removed]",
      "text/plain": [
       "<Figure size 432x288 with 1 Axes>"
      ]
     },
     "metadata": {
      "needs_background": "light"
     },
     "output_type": "display_data"
    }
   ],
   "source": [
    "x = np.linspace(0,10,20)\n",
    "y1 = x**2.0 \n",
    "y2 = x**1.5\n",
    "plt.plot(x,y1,\"bo-\", linewidth=2, markersize=5 , label=\"First\" );\n",
    "plt.plot(x,y2,\"gd-\", linewidth=2, markersize=5 , label=\"Second\" );\n",
    "plt.xlabel(\"$X$\") # LaTeX Code \n",
    "plt.ylabel(\"Y\")   # \n",
    "xmin = -0.5\n",
    "xmax = 10.5\n",
    "ymin = -5\n",
    "ymax = 105\n",
    "plt.axis([xmin,xmax,ymin,ymax])\n",
    "plt.legend(loc=\"upper left\") # \n",
    "plt.savefig(\"myplot.pdf\")"
   ]
  },
  {
   "cell_type": "markdown",
   "metadata": {},
   "source": [
    "### 2.3.3: Plotting Using Logarithmic Axes\n",
    "\n",
    "Learn how to create plots with logarithmic axes using semilogx, semilogy, and loglog\n",
    "\n",
    "$y=x^a$\n",
    "\n",
    "$log(y) = alog(x)$\n",
    "\n",
    "$y' = ax'$"
   ]
  },
  {
   "cell_type": "code",
   "execution_count": 87,
   "metadata": {},
   "outputs": [
    {
     "data": {
      "image/png": "[encoded data removed]",
      "text/plain": [
       "<Figure size 432x288 with 1 Axes>"
      ]
     },
     "metadata": {
      "needs_background": "light"
     },
     "output_type": "display_data"
    }
   ],
   "source": [
    "x = np.linspace(0.1,10,20)\n",
    "y1 = x**2.0 \n",
    "y2 = x**1.5\n",
    "plt.loglog(x,y1,\"bo-\", linewidth=2, markersize=5 , label=\"First\" );\n",
    "plt.loglog(x,y2,\"gd-\", linewidth=2, markersize=5 , label=\"Second\" );\n",
    "plt.xlabel(\"$X$\") # LaTeX Code \n",
    "plt.ylabel(\"Y\")   # \n",
    "xmin = -0.5\n",
    "xmax = 10.5\n",
    "ymin = 0\n",
    "ymax = 105\n",
    "#plt.axis([xmin,xmax,ymin,ymax])\n",
    "plt.legend(loc=\"upper left\")\n",
    "plt.savefig(\"myplot.pdf\")"
   ]
  },
  {
   "cell_type": "markdown",
   "metadata": {},
   "source": [
    "A logarithmic plot, which looks like a straight line with equal spacing. correcto"
   ]
  },
  {
   "cell_type": "code",
   "execution_count": 88,
   "metadata": {},
   "outputs": [
    {
     "data": {
      "image/png": "[encoded data removed]",
      "text/plain": [
       "<Figure size 432x288 with 1 Axes>"
      ]
     },
     "metadata": {
      "needs_background": "light"
     },
     "output_type": "display_data"
    }
   ],
   "source": [
    "x = np.logspace(-1,1,20)\n",
    "y1 = x**2.0 \n",
    "y2 = x**1.5\n",
    "plt.loglog(x,y1,\"bo-\", linewidth=2, markersize=5 , label=\"First\" );\n",
    "plt.loglog(x,y2,\"gd-\", linewidth=2, markersize=5 , label=\"Second\" );\n",
    "plt.xlabel(\"$X$\") # LaTeX Code \n",
    "plt.ylabel(\"Y\")   # \n",
    "xmin = -0.5\n",
    "xmax = 10.5\n",
    "ymin = 0\n",
    "ymax = 105\n",
    "#plt.axis([xmin,xmax,ymin,ymax])\n",
    "plt.legend(loc=\"upper left\")\n",
    "plt.savefig(\"myplot.pdf\")"
   ]
  },
  {
   "cell_type": "markdown",
   "metadata": {},
   "source": [
    "### 2.3.4: Generating Histograms\n",
    "\n",
    "#### Learn how to generate histograms using plt.hist()\n",
    "In this case, we'll use the np random normal function\n",
    "to generate 10000 samples or draws from the standard normal distribution, which\n",
    "is a special case of the normal distribution that has mean equal to 0\n",
    "and variance equal to 1.\n",
    "\n",
    "\n",
    "#### Learn how to create subplots using plt.subplot()\n"
   ]
  },
  {
   "cell_type": "code",
   "execution_count": 90,
   "metadata": {},
   "outputs": [
    {
     "data": {
      "image/png": "[encoded data removed]",
      "text/plain": [
       "<Figure size 432x288 with 1 Axes>"
      ]
     },
     "metadata": {
      "needs_background": "light"
     },
     "output_type": "display_data"
    }
   ],
   "source": [
    "x = np.random.normal(size=10000)\n",
    "plt.hist(x,bins=100); # Número de observaciones"
   ]
  },
  {
   "cell_type": "code",
   "execution_count": 91,
   "metadata": {},
   "outputs": [
    {
     "data": {
      "image/png": "[encoded data removed]",
      "text/plain": [
       "<Figure size 432x288 with 1 Axes>"
      ]
     },
     "metadata": {
      "needs_background": "light"
     },
     "output_type": "display_data"
    }
   ],
   "source": [
    "plt.hist(x,density=True,bins=100); # Histograma normalizado"
   ]
  },
  {
   "cell_type": "code",
   "execution_count": 92,
   "metadata": {},
   "outputs": [
    {
     "data": {
      "image/png": "[encoded data removed]",
      "text/plain": [
       "<Figure size 432x288 with 1 Axes>"
      ]
     },
     "metadata": {
      "needs_background": "light"
     },
     "output_type": "display_data"
    }
   ],
   "source": [
    "plt.hist(x,density=True,bins=np.linspace(-6,6,100));"
   ]
  },
  {
   "cell_type": "code",
   "execution_count": 93,
   "metadata": {},
   "outputs": [
    {
     "data": {
      "image/png": "[encoded data removed]",
      "text/plain": [
       "<Figure size 432x288 with 1 Axes>"
      ]
     },
     "metadata": {
      "needs_background": "light"
     },
     "output_type": "display_data"
    }
   ],
   "source": [
    "plt.hist(x,density=True,bins=np.linspace(-3,3,6)); # son 6 puntos, por lo tanto son 5 bins"
   ]
  },
  {
   "cell_type": "code",
   "execution_count": 94,
   "metadata": {},
   "outputs": [
    {
     "data": {
      "image/png": "[encoded data removed]",
      "text/plain": [
       "<Figure size 432x288 with 1 Axes>"
      ]
     },
     "metadata": {
      "needs_background": "light"
     },
     "output_type": "display_data"
    }
   ],
   "source": [
    "x = np.random.gamma(2,3,100000)\n",
    "plt.hist(x, bins = 100, density=True);"
   ]
  },
  {
   "cell_type": "code",
   "execution_count": 96,
   "metadata": {},
   "outputs": [
    {
     "data": {
      "image/png": "[encoded data removed]",
      "text/plain": [
       "<Figure size 432x288 with 1 Axes>"
      ]
     },
     "metadata": {
      "needs_background": "light"
     },
     "output_type": "display_data"
    }
   ],
   "source": [
    "plt.hist(x, bins = 100, cumulative=True, density = True, histtype=\"step\");"
   ]
  },
  {
   "cell_type": "markdown",
   "metadata": {},
   "source": [
    "$plt.subplot(221)$ : The first integer describes the number of subplot rows, the second integer describes the number of subplot columns, and the third integer describes the location index of the subplot to be created, where indices are laid out along the rows and columns in the same order as reading Latin characters on a page.\n",
    "\n",
    "$plt.subplot(2, 2 , 1) = plt.subplot(221) $"
   ]
  },
  {
   "cell_type": "code",
   "execution_count": 97,
   "metadata": {},
   "outputs": [
    {
     "data": {
      "image/png": "[encoded data removed]",
      "text/plain": [
       "<Figure size 432x288 with 4 Axes>"
      ]
     },
     "metadata": {
      "needs_background": "light"
     },
     "output_type": "display_data"
    }
   ],
   "source": [
    "plt.figure()\n",
    "plt.subplot(2,2,1)\n",
    "plt.hist(x, bins = 100);\n",
    "plt.subplot(2,2,2)\n",
    "plt.hist(x, bins = 100, density=True);\n",
    "plt.subplot(2,2,3)\n",
    "plt.hist(x, bins = 100, cumulative=True);\n",
    "plt.subplot(2,2,4)\n",
    "plt.hist(x, bins = 100, cumulative=True, density = True, histtype=\"step\");"
   ]
  },
  {
   "cell_type": "markdown",
   "metadata": {},
   "source": [
    "### 2.4.1: Simulating Randomness\n",
    "Learn how to use random.choice to simulate random processes such as coin flips or the roll of a die"
   ]
  },
  {
   "cell_type": "code",
   "execution_count": 98,
   "metadata": {},
   "outputs": [],
   "source": [
    "import random "
   ]
  },
  {
   "cell_type": "code",
   "execution_count": 99,
   "metadata": {},
   "outputs": [
    {
     "name": "stdout",
     "output_type": "stream",
     "text": [
      "H\n",
      "I\n",
      "I\n",
      "H\n"
     ]
    }
   ],
   "source": [
    "for i in range(4):\n",
    "    C = random.choice([\"H\",\"I\"])\n",
    "    print(C) "
   ]
  },
  {
   "cell_type": "code",
   "execution_count": 100,
   "metadata": {},
   "outputs": [
    {
     "name": "stdout",
     "output_type": "stream",
     "text": [
      "['I', 'H', 'H', 'H', 'H', 'I', 'H', 'H', 'I', 'I']\n"
     ]
    }
   ],
   "source": [
    "print([random.choice([\"H\",\"I\"]) for i in range(10) ])"
   ]
  },
  {
   "cell_type": "code",
   "execution_count": 101,
   "metadata": {},
   "outputs": [
    {
     "name": "stdout",
     "output_type": "stream",
     "text": [
      "[4, 3, 6, 3, 0, 3, 3, 0, 1, 5]\n"
     ]
    }
   ],
   "source": [
    "print([random.choice([0,1,2,3,4,5,6]) for i in range(10) ]) # Dado"
   ]
  },
  {
   "cell_type": "code",
   "execution_count": 102,
   "metadata": {},
   "outputs": [
    {
     "name": "stdout",
     "output_type": "stream",
     "text": [
      "[3, 2, 2, 5, 6, 2, 1, 5, 5, 4]\n"
     ]
    }
   ],
   "source": [
    "print([random.choice(range(1,7)) for i in range(10) ]) # Dado"
   ]
  },
  {
   "cell_type": "code",
   "execution_count": 103,
   "metadata": {},
   "outputs": [
    {
     "data": {
      "text/plain": [
       "range(1, 7)"
      ]
     },
     "execution_count": 103,
     "metadata": {},
     "output_type": "execute_result"
    }
   ],
   "source": [
    "random.choice([range(1,7), range(1,9), range(1,11)]) # Elijo el dado de 6, 8 o 10 caras"
   ]
  },
  {
   "cell_type": "code",
   "execution_count": 104,
   "metadata": {},
   "outputs": [
    {
     "data": {
      "text/plain": [
       "6"
      ]
     },
     "execution_count": 104,
     "metadata": {},
     "output_type": "execute_result"
    }
   ],
   "source": [
    "# Elijo el dado, y luego elijo una de las caras del dado elejido\n",
    "random.choice(random.choice([range(1,7), range(1,9), range(1,11)]))"
   ]
  },
  {
   "cell_type": "markdown",
   "metadata": {},
   "source": [
    "Use random.choice and range to generate a random integer from 0-9."
   ]
  },
  {
   "cell_type": "code",
   "execution_count": 105,
   "metadata": {},
   "outputs": [
    {
     "data": {
      "text/plain": [
       "1"
      ]
     },
     "execution_count": 105,
     "metadata": {},
     "output_type": "execute_result"
    }
   ],
   "source": [
    "random.choice(range(10))"
   ]
  },
  {
   "cell_type": "markdown",
   "metadata": {},
   "source": [
    "What will random.choice(list([1,2,3,4])) produce?"
   ]
  },
  {
   "cell_type": "code",
   "execution_count": 106,
   "metadata": {},
   "outputs": [
    {
     "data": {
      "text/plain": [
       "4"
      ]
     },
     "execution_count": 106,
     "metadata": {},
     "output_type": "execute_result"
    }
   ],
   "source": [
    "random.choice(list([1,2,3,4]))"
   ]
  },
  {
   "cell_type": "markdown",
   "metadata": {},
   "source": [
    "takes the sum of 10 random integers between 0 and 9?"
   ]
  },
  {
   "cell_type": "code",
   "execution_count": 112,
   "metadata": {},
   "outputs": [
    {
     "data": {
      "text/plain": [
       "51"
      ]
     },
     "execution_count": 112,
     "metadata": {},
     "output_type": "execute_result"
    }
   ],
   "source": [
    "sum(random.choice(range(10)) for i in range(10))"
   ]
  },
  {
   "cell_type": "markdown",
   "metadata": {},
   "source": [
    "### 2.4.2: Examples Involving Randomness"
   ]
  },
  {
   "cell_type": "markdown",
   "metadata": {},
   "source": [
    "Our first example is to roll the die 100 times\n",
    "and plot a histogram of the outcomes, meaning\n",
    "a histogram that shows how frequent the numbers from 1 to 6\n",
    "appeared in the 100 samples."
   ]
  },
  {
   "cell_type": "code",
   "execution_count": 117,
   "metadata": {},
   "outputs": [],
   "source": [
    "r = []\n",
    "for k in range(1000):\n",
    "    r.append( random.choice( range(1,7)) )"
   ]
  },
  {
   "cell_type": "code",
   "execution_count": 118,
   "metadata": {},
   "outputs": [
    {
     "data": {
      "image/png": "[encoded data removed]",
      "text/plain": [
       "<Figure size 432x288 with 1 Axes>"
      ]
     },
     "metadata": {
      "needs_background": "light"
     },
     "output_type": "display_data"
    }
   ],
   "source": [
    "plt.hist(r, bins = np.linspace(0.5,6.5,7));"
   ]
  },
  {
   "cell_type": "markdown",
   "metadata": {},
   "source": [
    "Considering now rolling not one die, but 10 independent dies\n",
    "denoted with x1 to x10.\n",
    "We're going to define a new random variable called y, which\n",
    "is the sum of all of the 10x variables."
   ]
  },
  {
   "cell_type": "code",
   "execution_count": 119,
   "metadata": {},
   "outputs": [
    {
     "data": {
      "image/png": "[encoded data removed]",
      "text/plain": [
       "<Figure size 432x288 with 1 Axes>"
      ]
     },
     "metadata": {
      "needs_background": "light"
     },
     "output_type": "display_data"
    }
   ],
   "source": [
    "xs = []\n",
    "ndados = 10\n",
    "for t in range(1000000):\n",
    "    xs.append(sum(random.choice(range(1,7)) for i in range(ndados)))\n",
    "\n",
    "plt.hist(xs, bins = np.linspace(ndados,6*ndados, 5*ndados + 1 + 1  ));"
   ]
  },
  {
   "cell_type": "markdown",
   "metadata": {},
   "source": [
    "Although list() and [] both represent lists, list((1,2,3,4)) casts the tuple as a list. random.choice then samples from the elements in the list."
   ]
  },
  {
   "cell_type": "code",
   "execution_count": 120,
   "metadata": {},
   "outputs": [
    {
     "data": {
      "text/plain": [
       "1"
      ]
     },
     "execution_count": 120,
     "metadata": {},
     "output_type": "execute_result"
    }
   ],
   "source": [
    "random.choice(list((1,2,3,4))) "
   ]
  },
  {
   "cell_type": "markdown",
   "metadata": {},
   "source": [
    "### 2.4.3: Using the NumPy Random Module"
   ]
  },
  {
   "cell_type": "code",
   "execution_count": 121,
   "metadata": {},
   "outputs": [
    {
     "data": {
      "text/plain": [
       "array([0.50445424, 0.65777818, 0.69985969, 0.04402528, 0.24462491])"
      ]
     },
     "execution_count": 121,
     "metadata": {},
     "output_type": "execute_result"
    }
   ],
   "source": [
    "np.random.random(5)"
   ]
  },
  {
   "cell_type": "code",
   "execution_count": 122,
   "metadata": {},
   "outputs": [
    {
     "data": {
      "text/plain": [
       "array([[0.29696906, 0.94924799, 0.56578936],\n",
       "       [0.65921539, 0.68071569, 0.41306009],\n",
       "       [0.63329854, 0.67875028, 0.93756575],\n",
       "       [0.70220136, 0.66084041, 0.38122536],\n",
       "       [0.47305886, 0.78867411, 0.24912178]])"
      ]
     },
     "execution_count": 122,
     "metadata": {},
     "output_type": "execute_result"
    }
   ],
   "source": [
    "np.random.random((5,3))"
   ]
  },
  {
   "cell_type": "code",
   "execution_count": 124,
   "metadata": {},
   "outputs": [
    {
     "data": {
      "text/plain": [
       "-0.6439338446004196"
      ]
     },
     "execution_count": 124,
     "metadata": {},
     "output_type": "execute_result"
    }
   ],
   "source": [
    "np.random.normal(0,1)"
   ]
  },
  {
   "cell_type": "code",
   "execution_count": 125,
   "metadata": {},
   "outputs": [
    {
     "data": {
      "text/plain": [
       "array([ 1.20771696, -0.3133172 , -0.82705511, -2.07683115,  0.42443537])"
      ]
     },
     "execution_count": 125,
     "metadata": {},
     "output_type": "execute_result"
    }
   ],
   "source": [
    "np.random.normal(0,1, 5)"
   ]
  },
  {
   "cell_type": "code",
   "execution_count": 126,
   "metadata": {},
   "outputs": [
    {
     "data": {
      "text/plain": [
       "array([[-0.90262697,  1.16128763,  0.33596067],\n",
       "       [-1.07897217, -0.21366912,  0.19933067]])"
      ]
     },
     "execution_count": 126,
     "metadata": {},
     "output_type": "execute_result"
    }
   ],
   "source": [
    "np.random.normal(0,1, (2,3)) #2D"
   ]
  },
  {
   "cell_type": "code",
   "execution_count": 128,
   "metadata": {},
   "outputs": [
    {
     "data": {
      "text/plain": [
       "array([[1, 4, 2],\n",
       "       [6, 5, 3]])"
      ]
     },
     "execution_count": 128,
     "metadata": {},
     "output_type": "execute_result"
    }
   ],
   "source": [
    "X = np.random.randint(1,7, (2,3))  # 2 filas y 3 Columnas\n",
    "X"
   ]
  },
  {
   "cell_type": "code",
   "execution_count": 130,
   "metadata": {},
   "outputs": [
    {
     "data": {
      "text/plain": [
       "(2, 3)"
      ]
     },
     "execution_count": 130,
     "metadata": {},
     "output_type": "execute_result"
    }
   ],
   "source": [
    "X.shape # 2 filas y 3 Columnas"
   ]
  },
  {
   "cell_type": "code",
   "execution_count": 132,
   "metadata": {},
   "outputs": [],
   "source": [
    "help(np.sum)"
   ]
  },
  {
   "cell_type": "code",
   "execution_count": 133,
   "metadata": {},
   "outputs": [
    {
     "data": {
      "text/plain": [
       "array([7, 9, 5])"
      ]
     },
     "execution_count": 133,
     "metadata": {},
     "output_type": "execute_result"
    }
   ],
   "source": [
    "np.sum(X, axis=0) # Suma sobre las filas"
   ]
  },
  {
   "cell_type": "code",
   "execution_count": 134,
   "metadata": {},
   "outputs": [
    {
     "data": {
      "text/plain": [
       "array([ 7, 14])"
      ]
     },
     "execution_count": 134,
     "metadata": {},
     "output_type": "execute_result"
    }
   ],
   "source": [
    "np.sum(X, axis=1) # Suma sobre las columnas"
   ]
  },
  {
   "cell_type": "code",
   "execution_count": 135,
   "metadata": {},
   "outputs": [],
   "source": [
    "Y = np.sum(X, axis=1)"
   ]
  },
  {
   "cell_type": "code",
   "execution_count": 136,
   "metadata": {},
   "outputs": [
    {
     "data": {
      "text/plain": [
       "array([ 7, 14])"
      ]
     },
     "execution_count": 136,
     "metadata": {},
     "output_type": "execute_result"
    }
   ],
   "source": [
    "Y"
   ]
  },
  {
   "cell_type": "markdown",
   "metadata": {},
   "source": [
    "# Esto corre muucho más rapido !!"
   ]
  },
  {
   "cell_type": "code",
   "execution_count": 137,
   "metadata": {},
   "outputs": [
    {
     "data": {
      "image/png": "[encoded data removed]",
      "text/plain": [
       "<Figure size 432x288 with 1 Axes>"
      ]
     },
     "metadata": {
      "needs_background": "light"
     },
     "output_type": "display_data"
    }
   ],
   "source": [
    "ndados = 10\n",
    "X =  np.random.randint(1,7, (10000000,ndados))\n",
    "Y = np.sum(X, axis = 1 )\n",
    "plt.hist(Y, bins= np.linspace(ndados,6*ndados,5*ndados + 1 +1));"
   ]
  },
  {
   "cell_type": "markdown",
   "metadata": {},
   "source": [
    "numpyp.random.random((5,2,3))  : Generate a 5 x 2 x 3 NumPy array with random uniform values. \n",
    "\n",
    "numpy.random.normal(1,2,3) :  Generate 3 samples with mean 1 and standard deviation 2\n",
    "\n",
    " numpy.random.randint(1,5,(2,3)) : Generate a 2 x 3 array with random integers from 1-4 ."
   ]
  },
  {
   "cell_type": "markdown",
   "metadata": {},
   "source": [
    "### 2.4.4: Measuring Time"
   ]
  },
  {
   "cell_type": "code",
   "execution_count": 138,
   "metadata": {},
   "outputs": [],
   "source": [
    "import time "
   ]
  },
  {
   "cell_type": "code",
   "execution_count": 139,
   "metadata": {},
   "outputs": [
    {
     "data": {
      "text/plain": [
       "0.0"
      ]
     },
     "execution_count": 139,
     "metadata": {},
     "output_type": "execute_result"
    }
   ],
   "source": [
    "start_time = time.process_time()\n",
    "end_time = time.process_time()\n",
    "end_time - start_time"
   ]
  },
  {
   "cell_type": "code",
   "execution_count": 140,
   "metadata": {},
   "outputs": [
    {
     "data": {
      "text/plain": [
       "3.244099934818223e-05"
      ]
     },
     "execution_count": 140,
     "metadata": {},
     "output_type": "execute_result"
    }
   ],
   "source": [
    "start_time = time.perf_counter()\n",
    "end_time = time.perf_counter()\n",
    "end_time - start_time"
   ]
  },
  {
   "cell_type": "code",
   "execution_count": 141,
   "metadata": {},
   "outputs": [
    {
     "data": {
      "text/plain": [
       "21.04197650899914"
      ]
     },
     "execution_count": 141,
     "metadata": {},
     "output_type": "execute_result"
    }
   ],
   "source": [
    "start_time = time.perf_counter()\n",
    "\n",
    "xs = []\n",
    "ndados = 10\n",
    "for t in range(1000000):\n",
    "    xs.append(sum(random.choice(range(1,7)) for i in range(ndados)))\n",
    "\n",
    "end_time = time.perf_counter()\n",
    "end_time - start_time"
   ]
  },
  {
   "cell_type": "markdown",
   "metadata": {},
   "source": [
    "# NUMPY es RAPIDISIMO "
   ]
  },
  {
   "cell_type": "code",
   "execution_count": 142,
   "metadata": {},
   "outputs": [
    {
     "data": {
      "text/plain": [
       "0.2849578029999975"
      ]
     },
     "execution_count": 142,
     "metadata": {},
     "output_type": "execute_result"
    }
   ],
   "source": [
    "start_time = time.perf_counter()\n",
    "\n",
    "ndados = 10\n",
    "X =  np.random.randint(1,7, (1000000,ndados))\n",
    "Y = np.sum(X, axis = 1 )\n",
    "\n",
    "end_time = time.perf_counter()\n",
    "end_time - start_time"
   ]
  },
  {
   "cell_type": "markdown",
   "metadata": {},
   "source": [
    "### 2.4.5: Random Walks "
   ]
  },
  {
   "cell_type": "code",
   "execution_count": null,
   "metadata": {},
   "outputs": [],
   "source": []
  },
  {
   "cell_type": "code",
   "execution_count": 149,
   "metadata": {},
   "outputs": [
    {
     "data": {
      "text/plain": [
       "array([[-0.13833659,  0.32991947, -0.60622924,  1.31948096, -2.17691994],\n",
       "       [-1.04310723,  0.59639297,  1.04660887,  2.16713809,  1.335097  ]])"
      ]
     },
     "execution_count": 149,
     "metadata": {},
     "output_type": "execute_result"
    }
   ],
   "source": [
    "delta_x = np.random.normal(0,1, (2,5))\n",
    "delta_x"
   ]
  },
  {
   "cell_type": "code",
   "execution_count": 151,
   "metadata": {},
   "outputs": [
    {
     "data": {
      "image/png": "[encoded data removed]",
      "text/plain": [
       "<Figure size 432x288 with 1 Axes>"
      ]
     },
     "metadata": {
      "needs_background": "light"
     },
     "output_type": "display_data"
    }
   ],
   "source": [
    "plt.plot(delta_x[0,:],delta_x[1,:],\"go-\");"
   ]
  },
  {
   "cell_type": "code",
   "execution_count": 153,
   "metadata": {},
   "outputs": [
    {
     "data": {
      "text/plain": [
       "array([[-0.13833659,  0.19158288, -0.41464636,  0.9048346 , -1.27208535],\n",
       "       [-1.04310723, -0.44671427,  0.5998946 ,  2.76703269,  4.1021297 ]])"
      ]
     },
     "execution_count": 153,
     "metadata": {},
     "output_type": "execute_result"
    }
   ],
   "source": [
    "X = np.cumsum(delta_x, axis = 1)\n",
    "X"
   ]
  },
  {
   "cell_type": "code",
   "execution_count": 157,
   "metadata": {},
   "outputs": [
    {
     "data": {
      "image/png": "[encoded data removed]",
      "text/plain": [
       "<Figure size 432x288 with 1 Axes>"
      ]
     },
     "metadata": {
      "needs_background": "light"
     },
     "output_type": "display_data"
    }
   ],
   "source": [
    "plt.plot(X[0],X[1], \"ro-\");"
   ]
  },
  {
   "cell_type": "code",
   "execution_count": 159,
   "metadata": {},
   "outputs": [
    {
     "data": {
      "text/plain": [
       "array([[0],\n",
       "       [0]])"
      ]
     },
     "execution_count": 159,
     "metadata": {},
     "output_type": "execute_result"
    }
   ],
   "source": [
    "X_0 = np.array([[0],[0]])\n",
    "X_0"
   ]
  },
  {
   "cell_type": "code",
   "execution_count": 178,
   "metadata": {},
   "outputs": [
    {
     "data": {
      "image/png": "[encoded data removed]",
      "text/plain": [
       "<Figure size 432x288 with 1 Axes>"
      ]
     },
     "metadata": {
      "needs_background": "light"
     },
     "output_type": "display_data"
    }
   ],
   "source": [
    "nsteps = 1000\n",
    "delta_x = np.random.normal(0,1, (2,nsteps))\n",
    "X = np.cumsum(delta_x, axis = 1)\n",
    "X_0 = np.array([[0],[0]])\n",
    "#Takes an iterable of np.arrays as arguments, and binds them along the axis argument.\n",
    "X_w = np.concatenate((X_0, X ), axis =1 )\n",
    "plt.plot(X_w[0],X_w[1], \"r-\");"
   ]
  },
  {
   "cell_type": "markdown",
   "metadata": {},
   "source": [
    "## Exercise 1\n",
    "\n",
    "Tic-tac-toe (or noughts and crosses) is a simple strategy game in which two players take turns placing a mark on a 3x3 board, attempting to make a row, column, or diagonal of three with their mark. In this homework, we will use the tools we've covered in the past two weeks to create a tic-tac-toe simulator and evaluate basic winning strategies.\n",
    "\n",
    "In the following 13 exercises, we will learn to create a tic-tac-toe board, place markers on the board, evaluate if either player has won, and use this to simulate two basic strategies."
   ]
  },
  {
   "cell_type": "markdown",
   "metadata": {},
   "source": [
    "For our tic-tac-toe board, we will use a numpy array with dimension 3 by 3. Make a function create_board() that creates such a board, with values of integers 0.\n",
    "Call create_board(), and store this as board"
   ]
  },
  {
   "cell_type": "code",
   "execution_count": 197,
   "metadata": {},
   "outputs": [],
   "source": [
    "def create_board():\n",
    "    board = np.random.randint(0,1 , (3,3))\n",
    "    return board "
   ]
  },
  {
   "cell_type": "code",
   "execution_count": 198,
   "metadata": {},
   "outputs": [
    {
     "data": {
      "text/plain": [
       "numpy.int32"
      ]
     },
     "execution_count": 198,
     "metadata": {},
     "output_type": "execute_result"
    }
   ],
   "source": [
    "board = create_board()\n",
    "type(board[1,1])"
   ]
  },
  {
   "cell_type": "markdown",
   "metadata": {},
   "source": [
    "Players 1 and 2 will take turns changing values of this array from a 0 to a 1 or 2, indicating the number of the player who places there."
   ]
  },
  {
   "cell_type": "markdown",
   "metadata": {},
   "source": [
    "Create a function place(board, player, position), where:\n",
    "player is the current player (an integer 1 or 2)\n",
    "position a tuple of length 2 specifying a desired location to place their marker.\n",
    "Your function should only allow the current player to place a marker on the board (change the board position to their number) if that position is empty (zero).\n",
    "Use create_board() to store a board as board, and use place to have Player 1 place a marker on location (0, 0)."
   ]
  },
  {
   "cell_type": "code",
   "execution_count": 199,
   "metadata": {},
   "outputs": [
    {
     "name": "stdout",
     "output_type": "stream",
     "text": [
      "[[0 0 0]\n",
      " [0 0 0]\n",
      " [0 0 0]]\n"
     ]
    }
   ],
   "source": [
    "print(board)"
   ]
  },
  {
   "cell_type": "code",
   "execution_count": 231,
   "metadata": {},
   "outputs": [
    {
     "name": "stdout",
     "output_type": "stream",
     "text": [
      "1 1\n",
      "True\n",
      "[[0 0 0]\n",
      " [0 2 0]\n",
      " [0 0 0]]\n"
     ]
    }
   ],
   "source": [
    "board = create_board()\n",
    "(c1, c2 ) = (np.random.randint(1,3),np.random.randint(1,3) )\n",
    "print(c1,c2)\n",
    "\n",
    "print (board[(c1,c2)] == 0)\n",
    "board\n",
    "\n",
    "player = 2\n",
    "if (board[(c1,c2)] == 0):\n",
    "    board[(c1,c2)] = player\n",
    "\n",
    "print(board)"
   ]
  },
  {
   "cell_type": "code",
   "execution_count": 232,
   "metadata": {},
   "outputs": [],
   "source": [
    "def place(board, player, position):\n",
    "    if (board[position] == 0):\n",
    "        board[position] = player\n",
    "    return board"
   ]
  },
  {
   "cell_type": "code",
   "execution_count": 233,
   "metadata": {},
   "outputs": [
    {
     "name": "stdout",
     "output_type": "stream",
     "text": [
      "[[1 0 0]\n",
      " [0 0 0]\n",
      " [0 0 0]]\n"
     ]
    }
   ],
   "source": [
    "board = create_board()\n",
    "position = (0,0)\n",
    "player = 1\n",
    "\n",
    "board = place(board, player, position)\n",
    "print(board)"
   ]
  },
  {
   "cell_type": "markdown",
   "metadata": {},
   "source": [
    "In this exercise, we will determine which positions are available to either player for placing their marker."
   ]
  },
  {
   "cell_type": "markdown",
   "metadata": {},
   "source": [
    "Create a function possibilities(board) that returns a list of all positions (tuples) on the board that are not occupied (0). (Hint: numpy.where is a handy function that returns a list of indices that meet a condition.)\n",
    "board is already defined from previous exercises. Call possibilities(board) to see what it returns!"
   ]
  },
  {
   "cell_type": "code",
   "execution_count": 235,
   "metadata": {},
   "outputs": [
    {
     "name": "stdout",
     "output_type": "stream",
     "text": [
      "[[1 0 0]\n",
      " [0 0 0]\n",
      " [0 0 0]]\n"
     ]
    }
   ],
   "source": [
    "print(board)"
   ]
  },
  {
   "cell_type": "code",
   "execution_count": 255,
   "metadata": {},
   "outputs": [
    {
     "data": {
      "text/plain": [
       "(array([0, 0, 1, 1, 1, 2, 2, 2], dtype=int64),\n",
       " array([1, 2, 0, 1, 2, 0, 1, 2], dtype=int64))"
      ]
     },
     "execution_count": 255,
     "metadata": {},
     "output_type": "execute_result"
    }
   ],
   "source": [
    "posible = np.where(board == 0)\n",
    "posible"
   ]
  },
  {
   "cell_type": "code",
   "execution_count": 271,
   "metadata": {},
   "outputs": [
    {
     "name": "stdout",
     "output_type": "stream",
     "text": [
      "[(0, 1), (0, 2), (1, 0), (1, 1), (1, 2), (2, 0), (2, 1), (2, 2)]\n"
     ]
    }
   ],
   "source": [
    "posible_list = []\n",
    "for i in range(0,len(posible[0])):\n",
    "    posible_list.append((posible[0][i],posible[1][i]))\n",
    "\n",
    "\n",
    "print(posible_list)"
   ]
  },
  {
   "cell_type": "code",
   "execution_count": 272,
   "metadata": {},
   "outputs": [],
   "source": [
    "def possibilities(board):\n",
    "    posible = np.where(board == 0)\n",
    "    possition= []\n",
    "    for i in range(0,len(posible[0])):\n",
    "        possition.append((posible[0][i],posible[1][i]))\n",
    "    return possition    "
   ]
  },
  {
   "cell_type": "code",
   "execution_count": 273,
   "metadata": {},
   "outputs": [
    {
     "data": {
      "text/plain": [
       "[(0, 1), (0, 2), (1, 0), (1, 1), (1, 2), (2, 0), (2, 1), (2, 2)]"
      ]
     },
     "execution_count": 273,
     "metadata": {},
     "output_type": "execute_result"
    }
   ],
   "source": [
    "possibilities(board)"
   ]
  },
  {
   "cell_type": "markdown",
   "metadata": {},
   "source": [
    "The next step is for the current player to place a marker among the available positions. In this exercise, we will select an available board position at random and place a marker there."
   ]
  },
  {
   "cell_type": "markdown",
   "metadata": {},
   "source": [
    "Write a function random_place(board, player) that places a marker for the current player at random among all the available positions (those currently set to 0).\n",
    "Find possible placements with possibilities(board).\n",
    "Select one possible placement at random using random.choice(selection).\n",
    "board is already defined from previous exercises. Call random_place(board, player) to place a random marker for Player 2, and store this as board to update its value."
   ]
  },
  {
   "cell_type": "code",
   "execution_count": 277,
   "metadata": {},
   "outputs": [
    {
     "data": {
      "text/plain": [
       "(1, 2)"
      ]
     },
     "execution_count": 277,
     "metadata": {},
     "output_type": "execute_result"
    }
   ],
   "source": [
    "selection = possibilities(board)\n",
    "random.choice(selection)"
   ]
  },
  {
   "cell_type": "code",
   "execution_count": 278,
   "metadata": {},
   "outputs": [],
   "source": [
    "position = random.choice( possibilities(board)  )\n",
    "player = 2\n",
    "board = place(board, player, position)"
   ]
  },
  {
   "cell_type": "code",
   "execution_count": 279,
   "metadata": {},
   "outputs": [
    {
     "name": "stdout",
     "output_type": "stream",
     "text": [
      "[[1 0 0]\n",
      " [2 0 0]\n",
      " [0 0 0]]\n"
     ]
    }
   ],
   "source": [
    "print(board)"
   ]
  },
  {
   "cell_type": "code",
   "execution_count": 280,
   "metadata": {},
   "outputs": [],
   "source": [
    "position = random.choice( possibilities(board)  )\n",
    "player = 1\n",
    "board = place(board, player, position)"
   ]
  },
  {
   "cell_type": "code",
   "execution_count": 281,
   "metadata": {},
   "outputs": [
    {
     "name": "stdout",
     "output_type": "stream",
     "text": [
      "[[1 0 0]\n",
      " [2 0 0]\n",
      " [0 0 1]]\n"
     ]
    }
   ],
   "source": [
    "print(board)"
   ]
  },
  {
   "cell_type": "code",
   "execution_count": 282,
   "metadata": {},
   "outputs": [],
   "source": [
    "def random_place(board,player):\n",
    "    position = random.choice( possibilities(board)  )\n",
    "    board = place(board, player, position)\n",
    "    return board"
   ]
  },
  {
   "cell_type": "code",
   "execution_count": 283,
   "metadata": {},
   "outputs": [
    {
     "name": "stdout",
     "output_type": "stream",
     "text": [
      "[[1 0 0]\n",
      " [2 0 2]\n",
      " [0 0 1]]\n"
     ]
    }
   ],
   "source": [
    "player = 2\n",
    "random_place(board,player)\n",
    "print(board)"
   ]
  },
  {
   "cell_type": "markdown",
   "metadata": {},
   "source": [
    "We will now have both players place three markers each."
   ]
  },
  {
   "cell_type": "markdown",
   "metadata": {},
   "source": [
    "board is already given. Call random_place(board, player) to place three pieces each on board for players 1 and 2.\n",
    "Print board to see your result."
   ]
  },
  {
   "cell_type": "code",
   "execution_count": 290,
   "metadata": {},
   "outputs": [
    {
     "name": "stdout",
     "output_type": "stream",
     "text": [
      "[[0 2 1]\n",
      " [2 2 0]\n",
      " [0 1 1]]\n"
     ]
    }
   ],
   "source": [
    "board = create_board()\n",
    "for i in range(0,6):\n",
    "    if (i%2 == 0 ):\n",
    "        player = 1\n",
    "    else:\n",
    "        player = 2\n",
    "        \n",
    "    random_place(board,player)\n",
    "    \n",
    "print(board)  "
   ]
  },
  {
   "cell_type": "markdown",
   "metadata": {},
   "source": [
    "In the next few exercises, we will make functions that verify if either player has won the game."
   ]
  },
  {
   "cell_type": "markdown",
   "metadata": {},
   "source": [
    "Make a function row_win(board, player) that takes the player (integer), and determines if any row consists of only their marker. Have it return True of this condition is met, and False otherwise.\n",
    "board is already defined from previous exercises. Call row_win to check if Player 1 has a complete row.\n",
    "\n",
    "\n",
    "Create a similar function col_win(board, player) that takes the player (integer), and determines if any column consists of only their marker. Have it return True if this condition is met, and False otherwise.\n",
    "board is already defined from previous exercises. Call col_win to check if Player 1 has a complete column.\n"
   ]
  },
  {
   "cell_type": "code",
   "execution_count": 297,
   "metadata": {},
   "outputs": [
    {
     "data": {
      "text/plain": [
       "array([1, 0, 1])"
      ]
     },
     "execution_count": 297,
     "metadata": {},
     "output_type": "execute_result"
    }
   ],
   "source": [
    "board[:,2]"
   ]
  },
  {
   "cell_type": "code",
   "execution_count": 301,
   "metadata": {},
   "outputs": [
    {
     "name": "stdout",
     "output_type": "stream",
     "text": [
      "False\n",
      "False\n"
     ]
    }
   ],
   "source": [
    "print(np.any(board[:,1] == 0)) #Alguno de la columna 0 es cero?\n",
    "print(np.all(board[:,1] == 0)) #Todos son cero ? \n"
   ]
  },
  {
   "cell_type": "code",
   "execution_count": 304,
   "metadata": {},
   "outputs": [
    {
     "data": {
      "text/plain": [
       "3"
      ]
     },
     "execution_count": 304,
     "metadata": {},
     "output_type": "execute_result"
    }
   ],
   "source": [
    "len(board)"
   ]
  },
  {
   "cell_type": "code",
   "execution_count": 320,
   "metadata": {},
   "outputs": [],
   "source": [
    "def row_win(board,player): # gano la fila ?\n",
    "    bool_row = []\n",
    "    for i in range(0,len(board)):\n",
    "        bool_row.append( np.all(board[i,:] == player) )\n",
    "    row_won = np.any(np.array(bool_row))\n",
    "    return row_won\n",
    "\n",
    "def col_win(board,player): # gano la columna ?\n",
    "    bool_col = []\n",
    "    for i in range(0,len(board)):\n",
    "        bool_col.append( np.all(board[:,i] == player) )\n",
    "    col_won = np.any(np.array(bool_col))\n",
    "    return col_won"
   ]
  },
  {
   "cell_type": "code",
   "execution_count": 314,
   "metadata": {},
   "outputs": [
    {
     "data": {
      "text/plain": [
       "False"
      ]
     },
     "execution_count": 314,
     "metadata": {},
     "output_type": "execute_result"
    }
   ],
   "source": [
    "row_win(board,player)"
   ]
  },
  {
   "cell_type": "code",
   "execution_count": 315,
   "metadata": {},
   "outputs": [
    {
     "name": "stdout",
     "output_type": "stream",
     "text": [
      "[[0 2 1]\n",
      " [2 2 1]\n",
      " [0 1 1]]\n"
     ]
    }
   ],
   "source": [
    "print(board)"
   ]
  },
  {
   "cell_type": "code",
   "execution_count": 318,
   "metadata": {},
   "outputs": [
    {
     "data": {
      "text/plain": [
       "array([[0, 2, 1],\n",
       "       [2, 2, 1],\n",
       "       [1, 1, 1]])"
      ]
     },
     "execution_count": 318,
     "metadata": {},
     "output_type": "execute_result"
    }
   ],
   "source": [
    "place(board,1,(2,0))"
   ]
  },
  {
   "cell_type": "code",
   "execution_count": 322,
   "metadata": {},
   "outputs": [
    {
     "data": {
      "text/plain": [
       "False"
      ]
     },
     "execution_count": 322,
     "metadata": {},
     "output_type": "execute_result"
    }
   ],
   "source": [
    "player = 2\n",
    "col_win(board,player)"
   ]
  },
  {
   "cell_type": "markdown",
   "metadata": {},
   "source": [
    "Finally, create a function diag_win(board, player) that tests if either diagonal of the board consists of only their marker. Have it return True if this condition is met, and False otherwise.\n",
    "board is already defined from previous exercises. Call diag_win to check if Player 1 has a complete diagonal"
   ]
  },
  {
   "cell_type": "code",
   "execution_count": 332,
   "metadata": {},
   "outputs": [
    {
     "name": "stdout",
     "output_type": "stream",
     "text": [
      "[[0 2 1]\n",
      " [2 2 1]\n",
      " [1 1 1]]\n"
     ]
    }
   ],
   "source": [
    "print(board)\n",
    "diag_1 = []\n",
    "for i in range(0,len(board)):\n",
    "       diag_1.append(board[i,i])\n",
    "d1 = np.array(diag_1)\n",
    "\n",
    "diag_2 = []\n",
    "for i in range(0,len(board)):\n",
    "       diag_2.append(board[i,len(board)-i-1])\n",
    "d2 = np.array(diag_2)"
   ]
  },
  {
   "cell_type": "code",
   "execution_count": 337,
   "metadata": {},
   "outputs": [
    {
     "name": "stdout",
     "output_type": "stream",
     "text": [
      "[0 2 1]\n",
      "[1 2 1]\n",
      "True\n"
     ]
    },
    {
     "data": {
      "text/plain": [
       "3"
      ]
     },
     "execution_count": 337,
     "metadata": {},
     "output_type": "execute_result"
    }
   ],
   "source": [
    "print(d1)\n",
    "print(d2)\n",
    "print(np.any(d1 == 0))\n",
    "len(d1)"
   ]
  },
  {
   "cell_type": "code",
   "execution_count": 339,
   "metadata": {},
   "outputs": [],
   "source": [
    "def diag_win(board,player): # gano la diagonal ?\n",
    "    diag_1 = []\n",
    "    for i in range(0,len(board)):\n",
    "        diag_1.append(board[i,i])\n",
    "    d1 = np.array(diag_1)\n",
    "\n",
    "    diag_2 = []\n",
    "    for i in range(0,len(board)):\n",
    "        diag_2.append(board[i,len(board)-i-1])\n",
    "    d2 = np.array(diag_2)\n",
    "        \n",
    "    bool_diag = []\n",
    "    bool_diag.append( np.all(d1 == player) )\n",
    "    bool_diag.append( np.all(d2 == player) )\n",
    "    diag_won = np.any(np.array(bool_diag))\n",
    "    return diag_won"
   ]
  },
  {
   "cell_type": "code",
   "execution_count": 341,
   "metadata": {},
   "outputs": [
    {
     "data": {
      "text/plain": [
       "False"
      ]
     },
     "execution_count": 341,
     "metadata": {},
     "output_type": "execute_result"
    }
   ],
   "source": [
    "diag_win(board,player = 2 )"
   ]
  },
  {
   "cell_type": "code",
   "execution_count": 342,
   "metadata": {},
   "outputs": [
    {
     "name": "stdout",
     "output_type": "stream",
     "text": [
      "[[0 2 1]\n",
      " [2 2 1]\n",
      " [1 1 1]]\n"
     ]
    }
   ],
   "source": [
    "print(board)"
   ]
  },
  {
   "cell_type": "code",
   "execution_count": 345,
   "metadata": {},
   "outputs": [
    {
     "name": "stdout",
     "output_type": "stream",
     "text": [
      "[[1 0 0]\n",
      " [0 1 0]\n",
      " [0 0 1]]\n"
     ]
    }
   ],
   "source": [
    "board = create_board()\n",
    "position = (0,0)\n",
    "player = 1\n",
    "\n",
    "board = place(board, player, position)\n",
    "\n",
    "\n",
    "position = (1,1)\n",
    "player = 1\n",
    "\n",
    "board = place(board, player, position)\n",
    "\n",
    "\n",
    "position = (2,2)\n",
    "player = 1\n",
    "\n",
    "board = place(board, player, position)\n",
    "print(board)"
   ]
  },
  {
   "cell_type": "code",
   "execution_count": 346,
   "metadata": {},
   "outputs": [
    {
     "data": {
      "text/plain": [
       "True"
      ]
     },
     "execution_count": 346,
     "metadata": {},
     "output_type": "execute_result"
    }
   ],
   "source": [
    "diag_win(board,player = 1 )"
   ]
  },
  {
   "cell_type": "markdown",
   "metadata": {},
   "source": [
    "Create a function evaluate(board) that uses row_win, col_win, and diag_win functions for both players. If one of them has won, return that player's number. If the board is full but no one has won, return -1. Otherwise, return 0.\n",
    "board is already defined from previous exercises. Call evaluate to see if either player has won the game yet."
   ]
  },
  {
   "cell_type": "code",
   "execution_count": 347,
   "metadata": {},
   "outputs": [],
   "source": [
    "def evaluate(board):\n",
    "    winner = 0\n",
    "    for player in [1, 2]:\n",
    "        if (row_win(board,player)):\n",
    "            winner = player\n",
    "        elif (col_win(board,player)):\n",
    "            winner = player    \n",
    "        elif (diag_win(board,player)):\n",
    "            winner = player    \n",
    "        \n",
    "        \n",
    "    if np.all(board != 0) and winner == 0:\n",
    "        winner = -1\n",
    "    return winner"
   ]
  },
  {
   "cell_type": "code",
   "execution_count": 348,
   "metadata": {},
   "outputs": [
    {
     "name": "stdout",
     "output_type": "stream",
     "text": [
      "[[1 0 0]\n",
      " [0 1 0]\n",
      " [0 0 1]]\n"
     ]
    }
   ],
   "source": [
    "print(board)"
   ]
  },
  {
   "cell_type": "code",
   "execution_count": 349,
   "metadata": {},
   "outputs": [
    {
     "name": "stdout",
     "output_type": "stream",
     "text": [
      "[[1 0 2]\n",
      " [0 1 2]\n",
      " [2 0 1]]\n"
     ]
    }
   ],
   "source": [
    "position = (0,2)\n",
    "player = 2\n",
    "\n",
    "board = place(board, player, position)\n",
    "\n",
    "\n",
    "position = (1,2)\n",
    "player = 2\n",
    "\n",
    "board = place(board, player, position)\n",
    "\n",
    "\n",
    "position = (2,0)\n",
    "player = 2\n",
    "\n",
    "board = place(board, player, position)\n",
    "print(board)"
   ]
  },
  {
   "cell_type": "code",
   "execution_count": 350,
   "metadata": {},
   "outputs": [
    {
     "data": {
      "text/plain": [
       "1"
      ]
     },
     "execution_count": 350,
     "metadata": {},
     "output_type": "execute_result"
    }
   ],
   "source": [
    "evaluate(board)"
   ]
  },
  {
   "cell_type": "markdown",
   "metadata": {},
   "source": [
    "In this exercise, we will use all the functions we have made to simulate an entire game."
   ]
  },
  {
   "cell_type": "code",
   "execution_count": 351,
   "metadata": {},
   "outputs": [],
   "source": [
    "def create_board():\n",
    "    board = np.random.randint(0,1 , (3,3))\n",
    "    return board \n",
    "\n",
    "def place(board, player, position):\n",
    "    if (board[position] == 0):\n",
    "        board[position] = player\n",
    "    return board\n",
    "\n",
    "def possibilities(board):\n",
    "    posible = np.where(board == 0)\n",
    "    possition= []\n",
    "    for i in range(0,len(posible[0])):\n",
    "        possition.append((posible[0][i],posible[1][i]))\n",
    "    return possition    \n",
    "\n",
    "def random_place(board,player):\n",
    "    position = random.choice( possibilities(board)  )\n",
    "    board = place(board, player, position)\n",
    "    return board\n",
    "\n",
    "def row_win(board,player): # gano la fila ?\n",
    "    bool_row = []\n",
    "    for i in range(0,len(board)):\n",
    "        bool_row.append( np.all(board[i,:] == player) )\n",
    "    row_won = np.any(np.array(bool_row))\n",
    "    return row_won\n",
    "\n",
    "def col_win(board,player): # gano la columna ?\n",
    "    bool_col = []\n",
    "    for i in range(0,len(board)):\n",
    "        bool_col.append( np.all(board[:,i] == player) )\n",
    "    col_won = np.any(np.array(bool_col))\n",
    "    return col_won\n",
    "\n",
    "def diag_win(board,player): # gano la diagonal ?\n",
    "    diag_1 = []\n",
    "    for i in range(0,len(board)):\n",
    "        diag_1.append(board[i,i])\n",
    "    d1 = np.array(diag_1)\n",
    "\n",
    "    diag_2 = []\n",
    "    for i in range(0,len(board)):\n",
    "        diag_2.append(board[i,len(board)-i-1])\n",
    "    d2 = np.array(diag_2)\n",
    "        \n",
    "    bool_diag = []\n",
    "    bool_diag.append( np.all(d1 == player) )\n",
    "    bool_diag.append( np.all(d2 == player) )\n",
    "    diag_won = np.any(np.array(bool_diag))\n",
    "    return diag_won\n",
    "\n",
    "def evaluate(board):\n",
    "    winner = 0\n",
    "    for player in [1, 2]:\n",
    "        if (row_win(board,player)):\n",
    "            winner = player\n",
    "        elif (col_win(board,player)):\n",
    "            winner = player    \n",
    "        elif (diag_win(board,player)):\n",
    "            winner = player    \n",
    "        \n",
    "        \n",
    "    if np.all(board != 0) and winner == 0:\n",
    "        winner = -1\n",
    "    return winner"
   ]
  },
  {
   "cell_type": "code",
   "execution_count": 353,
   "metadata": {},
   "outputs": [],
   "source": [
    "def play_game():\n",
    "    board = create_board()\n",
    "    player = 1\n",
    "    while evaluate(board) == 0: \n",
    "        random_place(board,player)\n",
    "        if (player == 1):\n",
    "            player = 2\n",
    "        elif(player == 2):\n",
    "            player = 1\n",
    "     \n",
    "    winner = evaluate(board)\n",
    "    return winner"
   ]
  },
  {
   "cell_type": "code",
   "execution_count": 369,
   "metadata": {},
   "outputs": [
    {
     "data": {
      "text/plain": [
       "1"
      ]
     },
     "execution_count": 369,
     "metadata": {},
     "output_type": "execute_result"
    }
   ],
   "source": [
    "play_game()"
   ]
  },
  {
   "cell_type": "markdown",
   "metadata": {},
   "source": [
    "We will now play several games, and visualize how often either player wins, or how often the game is a draw."
   ]
  },
  {
   "cell_type": "markdown",
   "metadata": {},
   "source": [
    "Use the play_game() function to play 1,000 random games, where Player 1 always goes first.\n",
    "Import and use the time library to call the time() function both before and after playing all 1,000 games.\n",
    "Store these times as start and stop, respectively.\n",
    "Subtract them to evaluate how long it takes to play 1,000 games, and print your answer.\n",
    "The library matplotlib.pyplot has already been stored as plt. Use plt.hist() and plt.show() to plot a histogram of the results.\n",
    "Does Player 1 win more than Player 2?\n",
    "Does either player win more than each player draws?"
   ]
  },
  {
   "cell_type": "code",
   "execution_count": 397,
   "metadata": {},
   "outputs": [
    {
     "data": {
      "text/plain": [
       "2.443967580795288"
      ]
     },
     "execution_count": 397,
     "metadata": {},
     "output_type": "execute_result"
    }
   ],
   "source": [
    "import time \n",
    "start = time.time()\n",
    "player1_first = []\n",
    "player1_first.append([play_game() for i in range(0,1000)])\n",
    "stop = time.time()\n",
    "stop - start"
   ]
  },
  {
   "cell_type": "code",
   "execution_count": 398,
   "metadata": {},
   "outputs": [
    {
     "data": {
      "image/png": "[encoded data removed]",
      "text/plain": [
       "<Figure size 432x288 with 1 Axes>"
      ]
     },
     "metadata": {
      "needs_background": "light"
     },
     "output_type": "display_data"
    }
   ],
   "source": [
    "import matplotlib.pyplot as plt\n",
    "plt.hist(player1_first);\n",
    "plt.show(); # Esto es para otros entornos, para notebook no es necesario!!"
   ]
  },
  {
   "cell_type": "markdown",
   "metadata": {},
   "source": [
    "In the previous exercise, we see that when guessing at random, it's better to go first, as expected. Let's see if Player 1 can improve their strategy."
   ]
  },
  {
   "cell_type": "markdown",
   "metadata": {},
   "source": [
    "Create a function play_strategic_game(), where Player 1 always starts with the middle square, and otherwise both players place their markers randomly.\n",
    "Call play_strategic_game once."
   ]
  },
  {
   "cell_type": "code",
   "execution_count": 399,
   "metadata": {},
   "outputs": [],
   "source": [
    "def play_strategic_game():\n",
    "    board = create_board()\n",
    "    player = 1\n",
    "    center = (1,1)\n",
    "    place(board,player, position = center)\n",
    "    \n",
    "    \n",
    "    player = 2\n",
    "    while evaluate(board) == 0: \n",
    "        random_place(board,player)\n",
    "        if (player == 1):\n",
    "            player = 2\n",
    "        elif(player == 2):\n",
    "            player = 1\n",
    "     \n",
    "    winner = evaluate(board)\n",
    "    return winner"
   ]
  },
  {
   "cell_type": "code",
   "execution_count": 394,
   "metadata": {},
   "outputs": [
    {
     "data": {
      "text/plain": [
       "1"
      ]
     },
     "execution_count": 394,
     "metadata": {},
     "output_type": "execute_result"
    }
   ],
   "source": [
    "play_strategic_game()"
   ]
  },
  {
   "cell_type": "code",
   "execution_count": 400,
   "metadata": {},
   "outputs": [
    {
     "data": {
      "text/plain": [
       "2.44195294380188"
      ]
     },
     "execution_count": 400,
     "metadata": {},
     "output_type": "execute_result"
    }
   ],
   "source": [
    "start = time.time()\n",
    "player1_strategic = []\n",
    "player1_strategic.append([play_strategic_game() for i in range(0,1000)])\n",
    "stop = time.time()\n",
    "stop - start"
   ]
  },
  {
   "cell_type": "code",
   "execution_count": 401,
   "metadata": {},
   "outputs": [
    {
     "data": {
      "image/png": "[encoded data removed]",
      "text/plain": [
       "<Figure size 432x288 with 1 Axes>"
      ]
     },
     "metadata": {
      "needs_background": "light"
     },
     "output_type": "display_data"
    }
   ],
   "source": [
    "import matplotlib.pyplot as plt\n",
    "plt.hist(player1_strategic);\n",
    "plt.show();"
   ]
  },
  {
   "cell_type": "code",
   "execution_count": 402,
   "metadata": {},
   "outputs": [
    {
     "data": {
      "image/png": "[encoded data removed]",
      "text/plain": [
       "<Figure size 432x288 with 2 Axes>"
      ]
     },
     "metadata": {
      "needs_background": "light"
     },
     "output_type": "display_data"
    }
   ],
   "source": [
    "plt.figure()\n",
    "plt.subplot(1,2,1)\n",
    "plt.hist(player1_strategic);\n",
    "plt.subplot(1,2,2)\n",
    "plt.hist(player1_first);"
   ]
  },
  {
   "cell_type": "markdown",
   "metadata": {},
   "source": [
    "starting in the middle square is a large advantage when play is otherwise random. Also, each game takes less time to play, because each victory is decided earlier. Player 1 wins much more than Player 2, and draws are less common. "
   ]
  },
  {
   "cell_type": "code",
   "execution_count": null,
   "metadata": {},
   "outputs": [],
   "source": []
  }
 ],
 "metadata": {
  "kernelspec": {
   "display_name": "Python 3",
   "language": "python",
   "name": "python3"
  },
  "language_info": {
   "codemirror_mode": {
    "name": "ipython",
    "version": 3
   },
   "file_extension": ".py",
   "mimetype": "text/x-python",
   "name": "python",
   "nbconvert_exporter": "python",
   "pygments_lexer": "ipython3",
   "version": "3.7.0"
  }
 },
 "nbformat": 4,
 "nbformat_minor": 2
}
