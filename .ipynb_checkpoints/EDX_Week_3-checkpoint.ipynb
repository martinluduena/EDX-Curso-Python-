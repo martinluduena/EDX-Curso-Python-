{
 "cells": [
  {
   "cell_type": "markdown",
   "metadata": {},
   "source": [
    "## Week 3"
   ]
  },
  {
   "cell_type": "markdown",
   "metadata": {},
   "source": [
    "### 3.1.1: Introduction to DNA Translation\n",
    "\n",
    "In this case study, we will first download a DNA strand as a text file from a public web-based repository of DNA sequences.\n",
    "We will then write code to translate the DNA sequence\n",
    "to a sequence of amino acids where each amino acid is\n",
    "represented by a unique letter.\n",
    "We will also download the amino acid sequence to check our solution.\n",
    "\n",
    "##### Tasks\n",
    "The first task is to manually download DNA and protein sequence\n",
    "data to your computer.\n",
    "The second task is to import the DNA data into Python.\n",
    "The third task is to create an algorithm that\n",
    "translates to DNA using the translation table we will provide.\n",
    "The fourth task, the final task, is to check if your DNA translation matches\n",
    "the protein string you have downloaded."
   ]
  },
  {
   "cell_type": "markdown",
   "metadata": {},
   "source": [
    "### 3.1.2: Downloading DNA Data\n",
    "\n",
    "Learn how to download DNA and protein sequence data from the NCBI"
   ]
  },
  {
   "cell_type": "markdown",
   "metadata": {},
   "source": [
    "### 3.1.3: Importing DNA Data Into Python"
   ]
  },
  {
   "cell_type": "code",
   "execution_count": 1,
   "metadata": {},
   "outputs": [
    {
     "data": {
      "text/plain": [
       "'C:\\\\Users\\\\yo\\\\Desktop\\\\EDX_Python_for_Research'"
      ]
     },
     "execution_count": 1,
     "metadata": {},
     "output_type": "execute_result"
    }
   ],
   "source": [
    "pwd"
   ]
  },
  {
   "cell_type": "code",
   "execution_count": 2,
   "metadata": {},
   "outputs": [
    {
     "data": {
      "text/plain": [
       "'GGTCAGAAAAAGCCCTCTCCATGTCTACTCACGATACATCCCTGAAAACCACTGAGGAAGTGGCTTTTCA\\nGATCATCTTGCTTTGCCAGTTTGGGGTTGGGACTTTTGCCAATGTATTTCTCTTTGTCTATAATTTCTCT\\nCCAATCTCGACTGGTTCTAAACAGAGGCCCAGACAAGTGATTTTAAGACACATGGCTGTGGCCAATGCCT\\nTAACTCTCTTCCTCACTATATTTCCAAACAACATGATGACTTTTGCTCCAATTATTCCTCAAACTGACCT\\nCAAATGTAAATTAGAATTCTTCACTCGCCTCGTGGCAAGAAGCACAAACTTGTGTTCAACTTGTGTTCTG\\nAGTATCCATCAGTTTGTCACACTTGTTCCTGTTAATTCAGGTAAAGGAATACTCAGAGCAAGTGTCACAA\\nACATGGCAAGTTATTCTTGTTACAGTTGTTGGTTCTTCAGTGTCTTAAATAACATCTACATTCCAATTAA\\nGGTCACTGGTCCACAGTTAACAGACAATAACAATAACTCTAAAAGCAAGTTGTTCTGTTCCACTTCTGAT\\nTTCAGTGTAGGCATTGTCTTCTTGAGGTTTGCCCATGATGCCACATTCATGAGCATCATGGTCTGGACCA\\nGTGTCTCCATGGTACTTCTCCTCCATAGACATTGTCAGAGAATGCAGTACATATTCACTCTCAATCAGGA\\nCCCCAGGGGCCAAGCAGAGACCACAGCAACCCATACTATCCTGATGCTGGTAGTCACATTTGTTGGCTTT\\nTATCTTCTAAGTCTTATTTGTATCATCTTTTACACCTATTTTATATATTCTCATCATTCCCTGAGGCATT\\nGCAATGACATTTTGGTTTCGGGTTTCCCTACAATTTCTCCTTTACTGTTGACCTTCAGAGACCCTAAGGG\\nTCCTTGTTCTGTGTTCTTCAACTGTTGAAAGCCAGAGTCACTAAAAATGCCAAACACAGAAGACAGCTTT\\nGCTAATACCATTAAATACTTTATTCCATAAATATGTTTTTAAAAGCTTGTATGAACAAGGTATGGTGCTC\\nACTGCTATACTTATAAAAGAGTAAGGTTATAATCACTTGTTGATATGAAAAGATTTCTGGTTGGAATCTG\\nATTGAAACAGTGAGTTATTCACCACCCTCCATTCTCT'"
      ]
     },
     "execution_count": 2,
     "metadata": {},
     "output_type": "execute_result"
    }
   ],
   "source": [
    "inputfile = \"dna.txt\"\n",
    "f = open(inputfile,\"r\")\n",
    "seq = f.read()\n",
    "\n",
    "seq"
   ]
  },
  {
   "cell_type": "code",
   "execution_count": 3,
   "metadata": {},
   "outputs": [
    {
     "name": "stdout",
     "output_type": "stream",
     "text": [
      "GGTCAGAAAAAGCCCTCTCCATGTCTACTCACGATACATCCCTGAAAACCACTGAGGAAGTGGCTTTTCA\n",
      "GATCATCTTGCTTTGCCAGTTTGGGGTTGGGACTTTTGCCAATGTATTTCTCTTTGTCTATAATTTCTCT\n",
      "CCAATCTCGACTGGTTCTAAACAGAGGCCCAGACAAGTGATTTTAAGACACATGGCTGTGGCCAATGCCT\n",
      "TAACTCTCTTCCTCACTATATTTCCAAACAACATGATGACTTTTGCTCCAATTATTCCTCAAACTGACCT\n",
      "CAAATGTAAATTAGAATTCTTCACTCGCCTCGTGGCAAGAAGCACAAACTTGTGTTCAACTTGTGTTCTG\n",
      "AGTATCCATCAGTTTGTCACACTTGTTCCTGTTAATTCAGGTAAAGGAATACTCAGAGCAAGTGTCACAA\n",
      "ACATGGCAAGTTATTCTTGTTACAGTTGTTGGTTCTTCAGTGTCTTAAATAACATCTACATTCCAATTAA\n",
      "GGTCACTGGTCCACAGTTAACAGACAATAACAATAACTCTAAAAGCAAGTTGTTCTGTTCCACTTCTGAT\n",
      "TTCAGTGTAGGCATTGTCTTCTTGAGGTTTGCCCATGATGCCACATTCATGAGCATCATGGTCTGGACCA\n",
      "GTGTCTCCATGGTACTTCTCCTCCATAGACATTGTCAGAGAATGCAGTACATATTCACTCTCAATCAGGA\n",
      "CCCCAGGGGCCAAGCAGAGACCACAGCAACCCATACTATCCTGATGCTGGTAGTCACATTTGTTGGCTTT\n",
      "TATCTTCTAAGTCTTATTTGTATCATCTTTTACACCTATTTTATATATTCTCATCATTCCCTGAGGCATT\n",
      "GCAATGACATTTTGGTTTCGGGTTTCCCTACAATTTCTCCTTTACTGTTGACCTTCAGAGACCCTAAGGG\n",
      "TCCTTGTTCTGTGTTCTTCAACTGTTGAAAGCCAGAGTCACTAAAAATGCCAAACACAGAAGACAGCTTT\n",
      "GCTAATACCATTAAATACTTTATTCCATAAATATGTTTTTAAAAGCTTGTATGAACAAGGTATGGTGCTC\n",
      "ACTGCTATACTTATAAAAGAGTAAGGTTATAATCACTTGTTGATATGAAAAGATTTCTGGTTGGAATCTG\n",
      "ATTGAAACAGTGAGTTATTCACCACCCTCCATTCTCT\n"
     ]
    }
   ],
   "source": [
    "print(seq)"
   ]
  },
  {
   "cell_type": "code",
   "execution_count": 4,
   "metadata": {},
   "outputs": [],
   "source": [
    "seq = seq.replace(\"\\n\",\"\")"
   ]
  },
  {
   "cell_type": "code",
   "execution_count": 5,
   "metadata": {},
   "outputs": [
    {
     "name": "stdout",
     "output_type": "stream",
     "text": [
      "GGTCAGAAAAAGCCCTCTCCATGTCTACTCACGATACATCCCTGAAAACCACTGAGGAAGTGGCTTTTCAGATCATCTTGCTTTGCCAGTTTGGGGTTGGGACTTTTGCCAATGTATTTCTCTTTGTCTATAATTTCTCTCCAATCTCGACTGGTTCTAAACAGAGGCCCAGACAAGTGATTTTAAGACACATGGCTGTGGCCAATGCCTTAACTCTCTTCCTCACTATATTTCCAAACAACATGATGACTTTTGCTCCAATTATTCCTCAAACTGACCTCAAATGTAAATTAGAATTCTTCACTCGCCTCGTGGCAAGAAGCACAAACTTGTGTTCAACTTGTGTTCTGAGTATCCATCAGTTTGTCACACTTGTTCCTGTTAATTCAGGTAAAGGAATACTCAGAGCAAGTGTCACAAACATGGCAAGTTATTCTTGTTACAGTTGTTGGTTCTTCAGTGTCTTAAATAACATCTACATTCCAATTAAGGTCACTGGTCCACAGTTAACAGACAATAACAATAACTCTAAAAGCAAGTTGTTCTGTTCCACTTCTGATTTCAGTGTAGGCATTGTCTTCTTGAGGTTTGCCCATGATGCCACATTCATGAGCATCATGGTCTGGACCAGTGTCTCCATGGTACTTCTCCTCCATAGACATTGTCAGAGAATGCAGTACATATTCACTCTCAATCAGGACCCCAGGGGCCAAGCAGAGACCACAGCAACCCATACTATCCTGATGCTGGTAGTCACATTTGTTGGCTTTTATCTTCTAAGTCTTATTTGTATCATCTTTTACACCTATTTTATATATTCTCATCATTCCCTGAGGCATTGCAATGACATTTTGGTTTCGGGTTTCCCTACAATTTCTCCTTTACTGTTGACCTTCAGAGACCCTAAGGGTCCTTGTTCTGTGTTCTTCAACTGTTGAAAGCCAGAGTCACTAAAAATGCCAAACACAGAAGACAGCTTTGCTAATACCATTAAATACTTTATTCCATAAATATGTTTTTAAAAGCTTGTATGAACAAGGTATGGTGCTCACTGCTATACTTATAAAAGAGTAAGGTTATAATCACTTGTTGATATGAAAAGATTTCTGGTTGGAATCTGATTGAAACAGTGAGTTATTCACCACCCTCCATTCTCT\n"
     ]
    }
   ],
   "source": [
    "print(seq)"
   ]
  },
  {
   "cell_type": "code",
   "execution_count": 6,
   "metadata": {},
   "outputs": [],
   "source": [
    "seq = seq.replace(\"\\r\",\"\") # este puede estar oculto"
   ]
  },
  {
   "cell_type": "code",
   "execution_count": 7,
   "metadata": {},
   "outputs": [
    {
     "name": "stdout",
     "output_type": "stream",
     "text": [
      "GGTCAGAAAAAGCCCTCTCCATGTCTACTCACGATACATCCCTGAAAACCACTGAGGAAGTGGCTTTTCAGATCATCTTGCTTTGCCAGTTTGGGGTTGGGACTTTTGCCAATGTATTTCTCTTTGTCTATAATTTCTCTCCAATCTCGACTGGTTCTAAACAGAGGCCCAGACAAGTGATTTTAAGACACATGGCTGTGGCCAATGCCTTAACTCTCTTCCTCACTATATTTCCAAACAACATGATGACTTTTGCTCCAATTATTCCTCAAACTGACCTCAAATGTAAATTAGAATTCTTCACTCGCCTCGTGGCAAGAAGCACAAACTTGTGTTCAACTTGTGTTCTGAGTATCCATCAGTTTGTCACACTTGTTCCTGTTAATTCAGGTAAAGGAATACTCAGAGCAAGTGTCACAAACATGGCAAGTTATTCTTGTTACAGTTGTTGGTTCTTCAGTGTCTTAAATAACATCTACATTCCAATTAAGGTCACTGGTCCACAGTTAACAGACAATAACAATAACTCTAAAAGCAAGTTGTTCTGTTCCACTTCTGATTTCAGTGTAGGCATTGTCTTCTTGAGGTTTGCCCATGATGCCACATTCATGAGCATCATGGTCTGGACCAGTGTCTCCATGGTACTTCTCCTCCATAGACATTGTCAGAGAATGCAGTACATATTCACTCTCAATCAGGACCCCAGGGGCCAAGCAGAGACCACAGCAACCCATACTATCCTGATGCTGGTAGTCACATTTGTTGGCTTTTATCTTCTAAGTCTTATTTGTATCATCTTTTACACCTATTTTATATATTCTCATCATTCCCTGAGGCATTGCAATGACATTTTGGTTTCGGGTTTCCCTACAATTTCTCCTTTACTGTTGACCTTCAGAGACCCTAAGGGTCCTTGTTCTGTGTTCTTCAACTGTTGAAAGCCAGAGTCACTAAAAATGCCAAACACAGAAGACAGCTTTGCTAATACCATTAAATACTTTATTCCATAAATATGTTTTTAAAAGCTTGTATGAACAAGGTATGGTGCTCACTGCTATACTTATAAAAGAGTAAGGTTATAATCACTTGTTGATATGAAAAGATTTCTGGTTGGAATCTGATTGAAACAGTGAGTTATTCACCACCCTCCATTCTCT\n"
     ]
    }
   ],
   "source": [
    "print(seq)"
   ]
  },
  {
   "cell_type": "markdown",
   "metadata": {},
   "source": [
    "### 3.1.4: Translating the DNA Sequence\n",
    "\n",
    "Learn how to translate the DNA sequence using a dictionary lookup\n",
    "Learn how to check the length of the sequence using the modulo operator"
   ]
  },
  {
   "cell_type": "code",
   "execution_count": 8,
   "metadata": {},
   "outputs": [],
   "source": [
    "table = {\n",
    "'ATA':'I', 'ATC':'I', 'ATT':'I', 'ATG':'M',\n",
    "'ACA':'T', 'ACC':'T', 'ACG':'T', 'ACT':'T',\n",
    "'AAC':'N', 'AAT':'N', 'AAA':'K', 'AAG':'K',\n",
    "'AGC':'S', 'AGT':'S', 'AGA':'R', 'AGG':'R',\n",
    "'CTA':'L', 'CTC':'L', 'CTG':'L', 'CTT':'L',\n",
    "'CCA':'P', 'CCC':'P', 'CCG':'P', 'CCT':'P',\n",
    "'CAC':'H', 'CAT':'H', 'CAA':'Q', 'CAG':'Q',\n",
    "'CGA':'R', 'CGC':'R', 'CGG':'R', 'CGT':'R',\n",
    "'GTA':'V', 'GTC':'V', 'GTG':'V', 'GTT':'V',\n",
    "'GCA':'A', 'GCC':'A', 'GCG':'A', 'GCT':'A',\n",
    "'GAC':'D', 'GAT':'D', 'GAA':'E', 'GAG':'E',\n",
    "'GGA':'G', 'GGC':'G', 'GGG':'G', 'GGT':'G',\n",
    "'TCA':'S', 'TCC':'S', 'TCG':'S', 'TCT':'S',\n",
    "'TTC':'F', 'TTT':'F', 'TTA':'L', 'TTG':'L',\n",
    "'TAC':'Y', 'TAT':'Y', 'TAA':'_', 'TAG':'_',\n",
    "'TGC':'C', 'TGT':'C', 'TGA':'_', 'TGG':'W',} "
   ]
  },
  {
   "cell_type": "code",
   "execution_count": 9,
   "metadata": {},
   "outputs": [
    {
     "data": {
      "text/plain": [
       "'P'"
      ]
     },
     "execution_count": 9,
     "metadata": {},
     "output_type": "execute_result"
    }
   ],
   "source": [
    "table[\"CCA\"]"
   ]
  },
  {
   "cell_type": "markdown",
   "metadata": {},
   "source": [
    "First, I would check that the length of the sequence is\n",
    "actually divisible by three.\n",
    "It should be, but sometimes things go wrong so it's important to check this.\n",
    "Next, I would look up each three-letter string in our table\n",
    "and store the result somewhere.\n",
    "Finally, you keep doing this in a loop until you\n",
    "get to the end of the sequence."
   ]
  },
  {
   "cell_type": "code",
   "execution_count": 10,
   "metadata": {},
   "outputs": [],
   "source": [
    "protein = \"\"\n",
    "if len(seq)  % 3 == 0: \n",
    "    for i in range(0,len(seq),3):\n",
    "        codon = seq[i:i+3]\n",
    "        protein += table[codon] #Concatenando "
   ]
  },
  {
   "cell_type": "code",
   "execution_count": 11,
   "metadata": {},
   "outputs": [
    {
     "name": "stdout",
     "output_type": "stream",
     "text": [
      "GGTCAGAAAAAGCCCTCTCCATGTCTACTCACGATACATCCCTGAAAACCACTGAGGAAGTGGCTTTTCAGATCATCTTGCTTTGCCAGTTTGGGGTTGGGACTTTTGCCAATGTATTTCTCTTTGTCTATAATTTCTCTCCAATCTCGACTGGTTCTAAACAGAGGCCCAGACAAGTGATTTTAAGACACATGGCTGTGGCCAATGCCTTAACTCTCTTCCTCACTATATTTCCAAACAACATGATGACTTTTGCTCCAATTATTCCTCAAACTGACCTCAAATGTAAATTAGAATTCTTCACTCGCCTCGTGGCAAGAAGCACAAACTTGTGTTCAACTTGTGTTCTGAGTATCCATCAGTTTGTCACACTTGTTCCTGTTAATTCAGGTAAAGGAATACTCAGAGCAAGTGTCACAAACATGGCAAGTTATTCTTGTTACAGTTGTTGGTTCTTCAGTGTCTTAAATAACATCTACATTCCAATTAAGGTCACTGGTCCACAGTTAACAGACAATAACAATAACTCTAAAAGCAAGTTGTTCTGTTCCACTTCTGATTTCAGTGTAGGCATTGTCTTCTTGAGGTTTGCCCATGATGCCACATTCATGAGCATCATGGTCTGGACCAGTGTCTCCATGGTACTTCTCCTCCATAGACATTGTCAGAGAATGCAGTACATATTCACTCTCAATCAGGACCCCAGGGGCCAAGCAGAGACCACAGCAACCCATACTATCCTGATGCTGGTAGTCACATTTGTTGGCTTTTATCTTCTAAGTCTTATTTGTATCATCTTTTACACCTATTTTATATATTCTCATCATTCCCTGAGGCATTGCAATGACATTTTGGTTTCGGGTTTCCCTACAATTTCTCCTTTACTGTTGACCTTCAGAGACCCTAAGGGTCCTTGTTCTGTGTTCTTCAACTGTTGAAAGCCAGAGTCACTAAAAATGCCAAACACAGAAGACAGCTTTGCTAATACCATTAAATACTTTATTCCATAAATATGTTTTTAAAAGCTTGTATGAACAAGGTATGGTGCTCACTGCTATACTTATAAAAGAGTAAGGTTATAATCACTTGTTGATATGAAAAGATTTCTGGTTGGAATCTGATTGAAACAGTGAGTTATTCACCACCCTCCATTCTCT\n"
     ]
    }
   ],
   "source": [
    "print(seq)"
   ]
  },
  {
   "cell_type": "code",
   "execution_count": 12,
   "metadata": {},
   "outputs": [],
   "source": [
    "def translate(seq):\n",
    "    \"\"\"Esta función es usada para traducir una cadena de nucleotidos\n",
    "    divisible por 3, en una cadena de aminoacidos. seq es un string\n",
    "    \n",
    "    Translate a string containing a nucleotide sequence into a\n",
    "    string containing the corresponding sequence of amino acids . \n",
    "    Nucleotides are translated in triplets using the table \n",
    "    dictionary; each amino acid 4 is encoded with a string of\n",
    "    length 1. \"\"\"\n",
    "    \n",
    "    seq = seq.replace(\"\\n\",\"\")\n",
    "    seq = seq.replace(\"\\r\",\"\")\n",
    "    \n",
    "    table = {\n",
    "    'ATA':'I', 'ATC':'I', 'ATT':'I', 'ATG':'M',\n",
    "    'ACA':'T', 'ACC':'T', 'ACG':'T', 'ACT':'T',\n",
    "    'AAC':'N', 'AAT':'N', 'AAA':'K', 'AAG':'K',\n",
    "    'AGC':'S', 'AGT':'S', 'AGA':'R', 'AGG':'R',\n",
    "    'CTA':'L', 'CTC':'L', 'CTG':'L', 'CTT':'L',\n",
    "    'CCA':'P', 'CCC':'P', 'CCG':'P', 'CCT':'P',\n",
    "    'CAC':'H', 'CAT':'H', 'CAA':'Q', 'CAG':'Q',\n",
    "    'CGA':'R', 'CGC':'R', 'CGG':'R', 'CGT':'R',\n",
    "    'GTA':'V', 'GTC':'V', 'GTG':'V', 'GTT':'V',\n",
    "    'GCA':'A', 'GCC':'A', 'GCG':'A', 'GCT':'A',\n",
    "    'GAC':'D', 'GAT':'D', 'GAA':'E', 'GAG':'E',\n",
    "    'GGA':'G', 'GGC':'G', 'GGG':'G', 'GGT':'G',\n",
    "    'TCA':'S', 'TCC':'S', 'TCG':'S', 'TCT':'S',\n",
    "    'TTC':'F', 'TTT':'F', 'TTA':'L', 'TTG':'L',\n",
    "    'TAC':'Y', 'TAT':'Y', 'TAA':'_', 'TAG':'_',\n",
    "    'TGC':'C', 'TGT':'C', 'TGA':'_', 'TGG':'W',} \n",
    "    \n",
    "    protein = \"\"\n",
    "    if len(seq)  % 3 == 0: \n",
    "        for i in range(0,len(seq),3):\n",
    "            codon = seq[i:i+3]\n",
    "            protein += table[codon] #Concatenando \n",
    "    return protein"
   ]
  },
  {
   "cell_type": "code",
   "execution_count": 13,
   "metadata": {},
   "outputs": [
    {
     "data": {
      "text/plain": [
       "'IK'"
      ]
     },
     "execution_count": 13,
     "metadata": {},
     "output_type": "execute_result"
    }
   ],
   "source": [
    "translate(\"ATAAAA\") # len(seq)Tiene que ser divisible por 3 "
   ]
  },
  {
   "cell_type": "code",
   "execution_count": 14,
   "metadata": {},
   "outputs": [
    {
     "name": "stdout",
     "output_type": "stream",
     "text": [
      "Help on function translate in module __main__:\n",
      "\n",
      "translate(seq)\n",
      "    Esta función es usada para traducir una cadena de nucleotidos\n",
      "    divisible por 3, en una cadena de aminoacidos. seq es un string\n",
      "    \n",
      "    Translate a string containing a nucleotide sequence into a\n",
      "    string containing the corresponding sequence of amino acids . \n",
      "    Nucleotides are translated in triplets using the table \n",
      "    dictionary; each amino acid 4 is encoded with a string of\n",
      "    length 1.\n",
      "\n"
     ]
    }
   ],
   "source": [
    "help(translate)"
   ]
  },
  {
   "cell_type": "markdown",
   "metadata": {},
   "source": [
    "### 3.1.5: Comparing Your Translation"
   ]
  },
  {
   "cell_type": "code",
   "execution_count": 15,
   "metadata": {},
   "outputs": [],
   "source": [
    "def read_seq(inputfile):\n",
    "    \"\"\"Reads and returns the input sequence with special\n",
    "    characters removed. \n",
    "    with : It opens a file and uses it for the subsequent\n",
    "    block of code only, and then closes the file \"\"\"\n",
    "   \n",
    "    with open(inputfile,\"r\") as f:\n",
    "        seq = f.read()\n",
    "    seq = seq.replace(\"\\n\",\"\")\n",
    "    seq = seq.replace(\"\\r\",\"\")\n",
    "    return seq"
   ]
  },
  {
   "cell_type": "code",
   "execution_count": 16,
   "metadata": {},
   "outputs": [],
   "source": [
    "prt = read_seq(\"protein.txt\")"
   ]
  },
  {
   "cell_type": "code",
   "execution_count": 17,
   "metadata": {},
   "outputs": [
    {
     "data": {
      "text/plain": [
       "'MSTHDTSLKTTEEVAFQIILLCQFGVGTFANVFLFVYNFSPIST GSKQRPRQVILRHMAVANALTLFLTIFPNNMMTFAPIIPQTDLKCKLEFFTRLVARST NLCSTCVLSIHQFVTLVPVNSGKGILRASVTNMASYSCYSCWFFSVLNNIYIPIKVTG PQLTDNNNNSKSKLFCSTSDFSVGIVFLRFAHDATFMSIMVWTSVSMVLLLHRHCQRM QYIFTLNQDPRGQAETTATHTILMLVVTFVGFYLLSLICIIFYTYFIYSHHSLRHCND ILVSGFPTISPLLLTFRDPKGPCSVFFNC'"
      ]
     },
     "execution_count": 17,
     "metadata": {},
     "output_type": "execute_result"
    }
   ],
   "source": [
    "prt"
   ]
  },
  {
   "cell_type": "code",
   "execution_count": 18,
   "metadata": {},
   "outputs": [],
   "source": [
    "dna = read_seq(\"dna.txt\")"
   ]
  },
  {
   "cell_type": "code",
   "execution_count": 19,
   "metadata": {},
   "outputs": [
    {
     "data": {
      "text/plain": [
       "''"
      ]
     },
     "execution_count": 19,
     "metadata": {},
     "output_type": "execute_result"
    }
   ],
   "source": [
    "translate(dna)"
   ]
  },
  {
   "cell_type": "code",
   "execution_count": 20,
   "metadata": {},
   "outputs": [
    {
     "data": {
      "text/plain": [
       "1157"
      ]
     },
     "execution_count": 20,
     "metadata": {},
     "output_type": "execute_result"
    }
   ],
   "source": [
    "len(dna) "
   ]
  },
  {
   "cell_type": "markdown",
   "metadata": {},
   "source": [
    "CDS ---> 21 and 938 # La secuencia codificante (NCBI)"
   ]
  },
  {
   "cell_type": "code",
   "execution_count": 21,
   "metadata": {},
   "outputs": [
    {
     "data": {
      "text/plain": [
       "918"
      ]
     },
     "execution_count": 21,
     "metadata": {},
     "output_type": "execute_result"
    }
   ],
   "source": [
    "len(dna[20:938])"
   ]
  },
  {
   "cell_type": "code",
   "execution_count": 22,
   "metadata": {},
   "outputs": [
    {
     "data": {
      "text/plain": [
       "'MSTHDTSLKTTEEVAFQIILLCQFGVGTFANVFLFVYNFSPISTGSKQRPRQVILRHMAVANALTLFLTIFPNNMMTFAPIIPQTDLKCKLEFFTRLVARSTNLCSTCVLSIHQFVTLVPVNSGKGILRASVTNMASYSCYSCWFFSVLNNIYIPIKVTGPQLTDNNNNSKSKLFCSTSDFSVGIVFLRFAHDATFMSIMVWTSVSMVLLLHRHCQRMQYIFTLNQDPRGQAETTATHTILMLVVTFVGFYLLSLICIIFYTYFIYSHHSLRHCNDILVSGFPTISPLLLTFRDPKGPCSVFFNC_'"
      ]
     },
     "execution_count": 22,
     "metadata": {},
     "output_type": "execute_result"
    }
   ],
   "source": [
    "translate(dna[20:938])"
   ]
  },
  {
   "cell_type": "code",
   "execution_count": 23,
   "metadata": {},
   "outputs": [
    {
     "data": {
      "text/plain": [
       "True"
      ]
     },
     "execution_count": 23,
     "metadata": {},
     "output_type": "execute_result"
    }
   ],
   "source": [
    "translate(dna[20:938])[:-1] == translate(dna[20:935])"
   ]
  },
  {
   "cell_type": "markdown",
   "metadata": {},
   "source": [
    "## Homework: Case Study 1\n",
    "\n",
    "A cipher is a secret code for a language. In this case study, we will explore a cipher that is reported by contemporary Greek historians to have been used by Julius Caesar to send secret messages to generals during times of war.\n",
    "\n",
    "The Caesar cipher shifts each letter of a message to another letter in the alphabet located a fixed distance from the original letter. If our encryption key were 1, we would shift h to the next letter i, i to the next letter j, and so on. If we reach the end of the alphabet, which for us is the space character, we simply loop back to a. To decode the message, we make a similar shift, except we move the same number of steps backwards in the alphabet.\n",
    "\n",
    "Over the next five exercises, we will create our own Caesar cipher, as well as a message decoder for this cipher. In this exercise, we will define the alphabet used in the cipher."
   ]
  },
  {
   "cell_type": "markdown",
   "metadata": {},
   "source": [
    "### 1\n",
    "\n",
    "The string library has been imported. Create a string called alphabet consisting of the lowercase letters of the space character space ' ', concatenated with string.ascii_lowercase at the end."
   ]
  },
  {
   "cell_type": "code",
   "execution_count": 24,
   "metadata": {},
   "outputs": [],
   "source": [
    "import string "
   ]
  },
  {
   "cell_type": "code",
   "execution_count": 25,
   "metadata": {},
   "outputs": [],
   "source": [
    "alphabet = \" \"  + string.ascii_lowercase "
   ]
  },
  {
   "cell_type": "code",
   "execution_count": 26,
   "metadata": {},
   "outputs": [
    {
     "data": {
      "text/plain": [
       "' abcdefghijklmnopqrstuvwxyz'"
      ]
     },
     "execution_count": 26,
     "metadata": {},
     "output_type": "execute_result"
    }
   ],
   "source": [
    "alphabet"
   ]
  },
  {
   "cell_type": "markdown",
   "metadata": {},
   "source": [
    "### 2\n",
    "\n",
    "In this exercise, we will define a dictionary that specifies the index of each character in alphabet.\n",
    "\n",
    "alphabet has already defined from the last exercise. Create a dictionary with keys consisting of the characters in alphabet, and values consisting of the numbers from 0 to 26.\n",
    "Store this as positions"
   ]
  },
  {
   "cell_type": "code",
   "execution_count": 27,
   "metadata": {},
   "outputs": [],
   "source": [
    "positions = {}\n",
    "for i in range(len(alphabet)):\n",
    "    positions[alphabet[i]] = i"
   ]
  },
  {
   "cell_type": "code",
   "execution_count": 28,
   "metadata": {},
   "outputs": [
    {
     "name": "stdout",
     "output_type": "stream",
     "text": [
      "{' ': 0, 'a': 1, 'b': 2, 'c': 3, 'd': 4, 'e': 5, 'f': 6, 'g': 7, 'h': 8, 'i': 9, 'j': 10, 'k': 11, 'l': 12, 'm': 13, 'n': 14, 'o': 15, 'p': 16, 'q': 17, 'r': 18, 's': 19, 't': 20, 'u': 21, 'v': 22, 'w': 23, 'x': 24, 'y': 25, 'z': 26}\n"
     ]
    }
   ],
   "source": [
    "print(positions)"
   ]
  },
  {
   "cell_type": "markdown",
   "metadata": {},
   "source": [
    "### 3\n",
    "\n",
    "In this exercise, we will encode a message with a Caesar cipher.\n",
    "\n",
    "alphabet and positions have already been defined from previous exercises. Use positions to create an encoded message based on message where each character in message has been shifted forward by 1 position, as defined by positions. Note that you can ensure the result remains within 0-26 using result % 27\n",
    "Store this as encoded_message\n"
   ]
  },
  {
   "cell_type": "code",
   "execution_count": 29,
   "metadata": {},
   "outputs": [],
   "source": [
    "message = \"hi my name is caesar\""
   ]
  },
  {
   "cell_type": "code",
   "execution_count": 30,
   "metadata": {},
   "outputs": [],
   "source": [
    "letters = {}\n",
    "for i in range(len(alphabet)):\n",
    "    letters[i] = alphabet[i]"
   ]
  },
  {
   "cell_type": "code",
   "execution_count": 31,
   "metadata": {},
   "outputs": [
    {
     "name": "stdout",
     "output_type": "stream",
     "text": [
      "{0: ' ', 1: 'a', 2: 'b', 3: 'c', 4: 'd', 5: 'e', 6: 'f', 7: 'g', 8: 'h', 9: 'i', 10: 'j', 11: 'k', 12: 'l', 13: 'm', 14: 'n', 15: 'o', 16: 'p', 17: 'q', 18: 'r', 19: 's', 20: 't', 21: 'u', 22: 'v', 23: 'w', 24: 'x', 25: 'y', 26: 'z'}\n"
     ]
    }
   ],
   "source": [
    "print(letters)"
   ]
  },
  {
   "cell_type": "code",
   "execution_count": 32,
   "metadata": {},
   "outputs": [],
   "source": [
    "def encoder(message,shift=0):\n",
    "    \n",
    "    positions = {\n",
    "    ' ': 0, 'a': 1, 'b': 2, 'c': 3, 'd': 4, 'e': 5,\n",
    "    'f': 6, 'g': 7, 'h': 8, 'i': 9, 'j': 10, 'k': 11,\n",
    "    'l': 12, 'm': 13, 'n': 14, 'o': 15, 'p': 16, 'q': 17,\n",
    "    'r': 18, 's': 19, 't': 20, 'u': 21, 'v': 22, 'w': 23,\n",
    "    'x': 24, 'y': 25, 'z': 26}\n",
    "    \n",
    "    letters = {\n",
    "    0: ' ', 1: 'a', 2: 'b', 3: 'c', 4: 'd', 5: 'e',\n",
    "    6: 'f', 7: 'g', 8: 'h', 9: 'i', 10: 'j', 11: 'k',\n",
    "    12: 'l', 13: 'm', 14: 'n', 15: 'o', 16: 'p', 17: 'q',\n",
    "    18: 'r', 19: 's', 20: 't', 21: 'u', 22: 'v', 23: 'w',\n",
    "    24: 'x', 25: 'y', 26: 'z'}\n",
    "    \n",
    "    encoded_message = \"\"\n",
    "    for letter in message:\n",
    "        encoded_message += letters[(positions[letter] + shift) % 27 ]\n",
    "\n",
    "    return encoded_message"
   ]
  },
  {
   "cell_type": "code",
   "execution_count": 33,
   "metadata": {},
   "outputs": [
    {
     "name": "stdout",
     "output_type": "stream",
     "text": [
      "ijanzaobnfajtadbftbs\n"
     ]
    }
   ],
   "source": [
    "encoded_message = encoder(message,1)\n",
    "print(encoded_message)"
   ]
  },
  {
   "cell_type": "code",
   "execution_count": 34,
   "metadata": {},
   "outputs": [
    {
     "data": {
      "text/plain": [
       "'hi my name is caesar'"
      ]
     },
     "execution_count": 34,
     "metadata": {},
     "output_type": "execute_result"
    }
   ],
   "source": [
    "encoder(encoded_message,-1)"
   ]
  },
  {
   "cell_type": "markdown",
   "metadata": {},
   "source": [
    "### 4\n",
    "\n",
    "In this exercise, we will define a function that encodes a message with any given encryption key.\n",
    "\n",
    "sample code for the previous exercise is provided below. Modify this code to define a function encoding that takes a message as input as well as an int encryption key key to encode a message with the Caesar cipher by shifting each letter in message by key positions.\n",
    "\n",
    "Your function should return a string consisting of these encoded letters.\n",
    "\n",
    "Use encode to encode message using key = 3, and save the result as encoded_message.\n",
    "\n",
    "Print encoded_message"
   ]
  },
  {
   "cell_type": "code",
   "execution_count": 35,
   "metadata": {},
   "outputs": [],
   "source": [
    "def encoding(message,key=0):\n",
    "    encoding_list = []\n",
    "    for char in message:\n",
    "        position = positions[char]\n",
    "        encoded_position = (position + key) % 27\n",
    "        encoding_list.append(alphabet[encoded_position])\n",
    "    encoded_string = \"\".join(encoding_list)\n",
    "    return encoded_string"
   ]
  },
  {
   "cell_type": "code",
   "execution_count": 36,
   "metadata": {},
   "outputs": [
    {
     "name": "stdout",
     "output_type": "stream",
     "text": [
      "klcpacqdphclvcfdhvdu\n"
     ]
    }
   ],
   "source": [
    "encoded_message = encoding(message,3)\n",
    "print(encoded_message)"
   ]
  },
  {
   "cell_type": "markdown",
   "metadata": {},
   "source": [
    "### 5\n",
    "In this exercise, we will decode an encoded message."
   ]
  },
  {
   "cell_type": "code",
   "execution_count": 37,
   "metadata": {},
   "outputs": [
    {
     "name": "stdout",
     "output_type": "stream",
     "text": [
      "hi my name is caesar\n"
     ]
    }
   ],
   "source": [
    "decoded_message = encoding(encoded_message,-3)\n",
    "print(decoded_message)"
   ]
  },
  {
   "cell_type": "markdown",
   "metadata": {},
   "source": [
    "## 3.2.1: Introduction to Language Processing\n",
    "\n",
    "Learn about Project Gutenberg, the oldest digital library of books\n",
    "(An online repository of publically available books in many languages)\n",
    "\n",
    "Get an overview of the language processing tasks we will accomplish in this case study"
   ]
  },
  {
   "cell_type": "markdown",
   "metadata": {},
   "source": [
    "## 3.2.2: Counting Words\n",
    "\n",
    "Learn how to write your own function to count the number of times a unique word appears in a given string text\n",
    "\n",
    "Learn about how to use the Counter tool from the collections module to accomplish the same task"
   ]
  },
  {
   "cell_type": "code",
   "execution_count": 38,
   "metadata": {},
   "outputs": [],
   "source": [
    "text = \"This is my test text. We're keeping this short to keep things manageable.\""
   ]
  },
  {
   "cell_type": "code",
   "execution_count": 39,
   "metadata": {},
   "outputs": [],
   "source": [
    "def count_words(text):    \n",
    "    word_counts = {}\n",
    "    for word in text.split(\" \"):\n",
    "        if word in word_counts:\n",
    "            word_counts[word] += 1\n",
    "        else:\n",
    "            word_counts[word] = 1\n",
    "    return word_counts"
   ]
  },
  {
   "cell_type": "code",
   "execution_count": 40,
   "metadata": {},
   "outputs": [
    {
     "data": {
      "text/plain": [
       "{'This': 1,\n",
       " 'is': 1,\n",
       " 'my': 1,\n",
       " 'test': 1,\n",
       " 'text.': 1,\n",
       " \"We're\": 1,\n",
       " 'keeping': 1,\n",
       " 'this': 1,\n",
       " 'short': 1,\n",
       " 'to': 1,\n",
       " 'keep': 1,\n",
       " 'things': 1,\n",
       " 'manageable.': 1}"
      ]
     },
     "execution_count": 40,
     "metadata": {},
     "output_type": "execute_result"
    }
   ],
   "source": [
    "count_words(text)"
   ]
  },
  {
   "cell_type": "code",
   "execution_count": 41,
   "metadata": {},
   "outputs": [],
   "source": [
    "def count_words(text):  \n",
    "    \"\"\"\n",
    "    Cuenta el número de veces que cada palabra aparece en el texto. \n",
    "    Regresa un diccionario con las palabras y el numero de veces que \n",
    "    aparece. \n",
    "    Omite signos de puntuación y no distinge entre mayúsculas y minusculas.\n",
    "    \"\"\"\n",
    "    text = text.lower()\n",
    "    skips = ['.',',',':',';',\"'\",'\"']\n",
    "    for ch in skips:\n",
    "        text = text.replace(ch,\"\")\n",
    "        \n",
    "    word_counts = {}\n",
    "    for word in text.split(\" \"):\n",
    "        if word in word_counts:\n",
    "            word_counts[word] += 1\n",
    "        else:\n",
    "            word_counts[word] = 1\n",
    "    return word_counts"
   ]
  },
  {
   "cell_type": "code",
   "execution_count": 42,
   "metadata": {},
   "outputs": [
    {
     "data": {
      "text/plain": [
       "{'this': 2,\n",
       " 'is': 1,\n",
       " 'my': 1,\n",
       " 'test': 1,\n",
       " 'text': 1,\n",
       " 'were': 1,\n",
       " 'keeping': 1,\n",
       " 'short': 1,\n",
       " 'to': 1,\n",
       " 'keep': 1,\n",
       " 'things': 1,\n",
       " 'manageable': 1}"
      ]
     },
     "execution_count": 42,
     "metadata": {},
     "output_type": "execute_result"
    }
   ],
   "source": [
    "count_words(text)"
   ]
  },
  {
   "cell_type": "code",
   "execution_count": 43,
   "metadata": {},
   "outputs": [],
   "source": [
    "from collections import Counter\n",
    "\n",
    "def count_words_fast(text):  \n",
    "    \"\"\"\n",
    "    Cuenta el número de veces que cada palabra aparece en el texto. \n",
    "    Regresa un diccionario con las palabras y el numero de veces que \n",
    "    aparece. \n",
    "    Omite signos de puntuación y no distinge entre mayúsculas y minusculas.\n",
    "    \"\"\"\n",
    "    text = text.lower()\n",
    "    skips = ['.',',',':',';',\"'\",'\"']\n",
    "    for ch in skips:\n",
    "        text = text.replace(ch,\"\")\n",
    "        \n",
    "    word_counts = Counter(text.split(\" \"))\n",
    "    return word_counts"
   ]
  },
  {
   "cell_type": "code",
   "execution_count": 44,
   "metadata": {},
   "outputs": [
    {
     "data": {
      "text/plain": [
       "True"
      ]
     },
     "execution_count": 44,
     "metadata": {},
     "output_type": "execute_result"
    }
   ],
   "source": [
    "count_words(text) == count_words_fast(text)"
   ]
  },
  {
   "cell_type": "code",
   "execution_count": 45,
   "metadata": {},
   "outputs": [
    {
     "data": {
      "text/plain": [
       "6"
      ]
     },
     "execution_count": 45,
     "metadata": {},
     "output_type": "execute_result"
    }
   ],
   "source": [
    "len(count_words(\"This comprehension check is to check for comprehension.\"))"
   ]
  },
  {
   "cell_type": "code",
   "execution_count": 46,
   "metadata": {},
   "outputs": [
    {
     "data": {
      "text/plain": [
       "False"
      ]
     },
     "execution_count": 46,
     "metadata": {},
     "output_type": "execute_result"
    }
   ],
   "source": [
    "count_words(text) is count_words_fast(text)"
   ]
  },
  {
   "cell_type": "markdown",
   "metadata": {},
   "source": [
    "### 3.2.3: Reading in a Book"
   ]
  },
  {
   "cell_type": "code",
   "execution_count": 47,
   "metadata": {},
   "outputs": [],
   "source": [
    "def read_book(title_path):\n",
    "    \"\"\"\n",
    "    Read a book and return it as a string.\n",
    "    \"\"\"\n",
    "    \n",
    "    with open(title_path,\"r\", encoding=\"utf8\") as current_file:\n",
    "        text = current_file.read()\n",
    "        text = text.replace(\"\\n\",\"\").replace(\"\\r\",\"\")\n",
    "    return text"
   ]
  },
  {
   "cell_type": "code",
   "execution_count": 48,
   "metadata": {},
   "outputs": [],
   "source": [
    "text = read_book(\"./Books/English/shakespeare/Romeo and Juliet.txt\")"
   ]
  },
  {
   "cell_type": "code",
   "execution_count": 49,
   "metadata": {},
   "outputs": [
    {
     "data": {
      "text/plain": [
       "169275"
      ]
     },
     "execution_count": 49,
     "metadata": {},
     "output_type": "execute_result"
    }
   ],
   "source": [
    "len(text)"
   ]
  },
  {
   "cell_type": "code",
   "execution_count": 50,
   "metadata": {},
   "outputs": [
    {
     "data": {
      "text/plain": [
       "42757"
      ]
     },
     "execution_count": 50,
     "metadata": {},
     "output_type": "execute_result"
    }
   ],
   "source": [
    "ind = text.find(\"What's in a name?\")\n",
    "ind"
   ]
  },
  {
   "cell_type": "code",
   "execution_count": 51,
   "metadata": {},
   "outputs": [
    {
     "name": "stdout",
     "output_type": "stream",
     "text": [
      "What's in a name? That which we call a rose    By any other name would smell as sweet.    So Romeo would, were he not Romeo call'd,    Retain that dear perfection which he owes    Without that title. Romeo, doff thy name;    And for that name, which is no part of thee,    Take all myself.  Rom. I take thee at thy word.    Call me but love, and I'll be new baptiz'd;    Henceforth I never will be Romeo.  Jul. What man art thou that, thus bescreen'd in night,    So stumblest on my counsel?  Rom. By\n"
     ]
    }
   ],
   "source": [
    "sample_text = text[ind : ind + 500]\n",
    "print(sample_text)"
   ]
  },
  {
   "cell_type": "markdown",
   "metadata": {},
   "source": [
    "### 3.2.4: Computing Word Frequency Statistics\n",
    "\n",
    "Learn how to compute some basic word frequency statistics\n",
    "\n",
    "Use the word_stats function to compare different translations of the same book"
   ]
  },
  {
   "cell_type": "code",
   "execution_count": 52,
   "metadata": {},
   "outputs": [],
   "source": [
    "def word_stats(word_counts):\n",
    "    \"\"\"\n",
    "    Return number of unique words and word frequencies\n",
    "    \"\"\"\n",
    "    num_unique = len(word_counts)\n",
    "    counts = word_counts.values()\n",
    "    return (num_unique, counts)"
   ]
  },
  {
   "cell_type": "code",
   "execution_count": 53,
   "metadata": {},
   "outputs": [],
   "source": [
    "text = read_book(\"./Books/English/shakespeare/Romeo and Juliet.txt\")"
   ]
  },
  {
   "cell_type": "code",
   "execution_count": 54,
   "metadata": {},
   "outputs": [],
   "source": [
    "word_counts =  count_words(text)"
   ]
  },
  {
   "cell_type": "code",
   "execution_count": 55,
   "metadata": {},
   "outputs": [],
   "source": [
    "(num_unique, counts) = word_stats(word_counts)"
   ]
  },
  {
   "cell_type": "code",
   "execution_count": 56,
   "metadata": {},
   "outputs": [
    {
     "data": {
      "text/plain": [
       "5118"
      ]
     },
     "execution_count": 56,
     "metadata": {},
     "output_type": "execute_result"
    }
   ],
   "source": [
    "num_unique"
   ]
  },
  {
   "cell_type": "code",
   "execution_count": 57,
   "metadata": {},
   "outputs": [
    {
     "data": {
      "text/plain": [
       "40776"
      ]
     },
     "execution_count": 57,
     "metadata": {},
     "output_type": "execute_result"
    }
   ],
   "source": [
    "sum(counts)"
   ]
  },
  {
   "cell_type": "markdown",
   "metadata": {},
   "source": [
    "### 3.2.5: Reading Multiple Files\n",
    "\n",
    "Learn how to navigate file directories and read in multiple files/books at once\n",
    "\n",
    "Get a brief introduction to pandas, which provides additional data structure and data analysis functionalities for Python"
   ]
  },
  {
   "cell_type": "code",
   "execution_count": 58,
   "metadata": {},
   "outputs": [
    {
     "data": {
      "text/plain": [
       "['English', 'French', 'German', 'Portuguese']"
      ]
     },
     "execution_count": 58,
     "metadata": {},
     "output_type": "execute_result"
    }
   ],
   "source": [
    "import os   # Para leer Directorios\n",
    "book_dir = \"./Books\"\n",
    "os.listdir(book_dir)"
   ]
  },
  {
   "cell_type": "code",
   "execution_count": 59,
   "metadata": {},
   "outputs": [
    {
     "name": "stdout",
     "output_type": "stream",
     "text": [
      "./Books/English/shakespeare/A Midsummer Night's Dream.txt\n",
      "./Books/English/shakespeare/Hamlet.txt\n",
      "./Books/English/shakespeare/Macbeth.txt\n",
      "./Books/English/shakespeare/Othello.txt\n",
      "./Books/English/shakespeare/Richard III.txt\n",
      "./Books/English/shakespeare/Romeo and Juliet.txt\n",
      "./Books/English/shakespeare/The Merchant of Venice.txt\n",
      "./Books/French/chevalier/L'aÌŠle de sable.txt\n",
      "./Books/French/chevalier/L'enfer et le paradis de l'autre monde.txt\n",
      "./Books/French/chevalier/La capitaine.txt\n",
      "./Books/French/chevalier/La fille des indiens rouges.txt\n",
      "./Books/French/chevalier/La fille du pirate.txt\n",
      "./Books/French/chevalier/Le chasseur noir.txt\n",
      "./Books/French/chevalier/Les derniers Iroquois.txt\n",
      "./Books/French/de Maupassant/Boule de Suif.txt\n",
      "./Books/French/de Maupassant/Claire de Lune.txt\n",
      "./Books/French/de Maupassant/Contes de la Becasse.txt\n",
      "./Books/French/de Maupassant/L'inutile beautCÌ§.txt\n",
      "./Books/French/de Maupassant/La Main Gauche.txt\n",
      "./Books/French/de Maupassant/La Maison Tellier.txt\n",
      "./Books/French/de Maupassant/La petite roque.txt\n",
      "./Books/French/de Maupassant/Le Horla.txt\n",
      "./Books/French/de Maupassant/Å’uvres compleÌ€tes de Guy de Maupassant.txt\n",
      "./Books/French/diderot/Ceci n'est pas un conte.txt\n",
      "./Books/French/diderot/Entretien d'un paÌˆre avec ses enfants.txt\n",
      "./Books/French/diderot/L'oiseau blanc.txt\n",
      "./Books/French/diderot/Les deux amis de Bourbonne.txt\n",
      "./Books/French/diderot/Regrets sur ma vieille robe de chambre.txt\n",
      "./Books/French/sand/cora.txt\n",
      "./Books/French/sand/Jacques le fataliste et son maaÌŠtre.txt\n",
      "./Books/French/sand/L' Orco.txt\n",
      "./Books/French/sand/La Coupe; Lupo Liverani; Le Toast; Garnier; Le Contrebandier; La RaÌ€verie OÌˆ Paris.txt\n",
      "./Books/French/sand/La Marquise.txt\n",
      "./Books/French/sand/Le Piccinino.txt\n",
      "./Books/French/sand/Le poaÌ‚me de Myrza.txt\n",
      "./Books/French/sand/Mattea.txt\n",
      "./Books/French/sand/Metella.txt\n",
      "./Books/French/sand/Oeuvres illustrCÌ§es de George Sand.txt\n",
      "./Books/French/sand/Pauline.txt\n",
      "./Books/German/lessing/der freigeist.txt\n",
      "./Books/German/lessing/der junge gelehrte.txt\n",
      "./Books/German/lessing/die juden.txt\n",
      "./Books/German/lessing/emilia galotti.txt\n",
      "./Books/German/lessing/hamburgische dramaturgie.txt\n",
      "./Books/German/lessing/minna von barnhelm.txt\n",
      "./Books/German/lessing/miss sara sampson.txt\n",
      "./Books/German/lessing/philotas.txt\n",
      "./Books/German/raimund/Das MNÌƒdchen aus der Feenwelt.txt\n",
      "./Books/German/raimund/Der AlpenkiÌ‚nig und der Menschenfeind.txt\n",
      "./Books/German/raimund/Der Barometermacher auf der Zauberinsel.txt\n",
      "./Books/German/raimund/Der Diamant des GeisterkiÌ‚nigs.txt\n",
      "./Books/German/raimund/Der Verschwender.txt\n",
      "./Books/German/raimund/Die gefesselte Phantasie.txt\n",
      "./Books/German/raimund/Die unheilbringende Krone.txt\n",
      "./Books/German/raimund/Moisasurs Zauberfluch.txt\n",
      "./Books/German/schiller/Der Neffe als Onkel.txt\n",
      "./Books/German/schiller/Der Parasit, oder die Kunst, sein GlAÌŠck zu machen.txt\n",
      "./Books/German/schiller/die braut von messina.txt\n",
      "./Books/German/schiller/Die Huldigung der KAÌŠnste.txt\n",
      "./Books/German/schiller/Die Jungfrau von Orleans.txt\n",
      "./Books/German/schiller/Die Piccolomini.txt\n",
      "./Books/German/schiller/Die VerschwiÌ‚rung des Fiesco zu Genua.txt\n",
      "./Books/German/schiller/Kabale und Liebe.txt\n",
      "./Books/German/schiller/Turandot, Prinzessin von China.txt\n",
      "./Books/German/schiller/Wallensteins Lager.txt\n",
      "./Books/German/schiller/Wallensteins Tod.txt\n",
      "./Books/German/shakespeare/Der Kaufmann von Venedig.txt\n",
      "./Books/German/shakespeare/Ein Sommernachtstraum.txt\n",
      "./Books/German/shakespeare/Hamlet.txt\n",
      "./Books/German/shakespeare/Macbeth.txt\n",
      "./Books/German/shakespeare/Othello.txt\n",
      "./Books/German/shakespeare/Richard III.txt\n",
      "./Books/German/shakespeare/Romeo und Julia.txt\n",
      "./Books/Portuguese/branco/A Filha do Arcediago.txt\n",
      "./Books/Portuguese/branco/A Neta do Arcediago.txt\n",
      "./Books/Portuguese/branco/A Queda d'um Anjo.txt\n",
      "./Books/Portuguese/branco/Agulha em Palheiro.txt\n",
      "./Books/Portuguese/branco/Amor de PerdicÌ§aÌƒo.txt\n",
      "./Books/Portuguese/branco/Amor de SalvacÌ§aÌƒo.txt\n",
      "./Books/Portuguese/branco/Annos de Prosa.txt\n",
      "./Books/Portuguese/branco/Carlota Angela.txt\n",
      "./Books/Portuguese/branco/Estrellas Funestas.txt\n",
      "./Books/Portuguese/branco/Estrellas PropÂ°cias.txt\n",
      "./Books/Portuguese/branco/Lagrimas AbenaÌoadas.txt\n",
      "./Books/Portuguese/branco/Livro de ConsolacÌ§aÌƒo.txt\n",
      "./Books/Portuguese/branco/O Olho de Vidro.txt\n",
      "./Books/Portuguese/branco/O que fazem mulheres.txt\n",
      "./Books/Portuguese/branco/O Regicida.txt\n",
      "./Books/Portuguese/branco/Scenas Contemporaneas.txt\n",
      "./Books/Portuguese/dinis/A Morgadinha dos Cannaviaes.txt\n",
      "./Books/Portuguese/dinis/Os fidalgos da Casa Mourisca.txt\n",
      "./Books/Portuguese/dinis/Uma famÂ°lia ingleza.txt\n",
      "./Books/Portuguese/QueirÂ¢s/A Cidade e as Serras.txt\n",
      "./Books/Portuguese/QueirÂ¢s/A correspondaÌ€ncia de Fradique Mendes.txt\n",
      "./Books/Portuguese/QueirÂ¢s/A Illustre Casa de Ramires.txt\n",
      "./Books/Portuguese/QueirÂ¢s/A RelÂ°quia.txt\n",
      "./Books/Portuguese/QueirÂ¢s/Cartas de Inglaterra.txt\n",
      "./Books/Portuguese/QueirÂ¢s/O crime do padre Amaro.txt\n",
      "./Books/Portuguese/QueirÂ¢s/O Mandarim.txt\n",
      "./Books/Portuguese/QueirÂ¢s/O Primo Bazilio.txt\n",
      "./Books/Portuguese/QueirÂ¢s/Os Maias.txt\n",
      "./Books/Portuguese/shakespeare/Hamlet.txt\n"
     ]
    }
   ],
   "source": [
    "for language in os.listdir(book_dir):\n",
    "    for author in os.listdir(book_dir + \"/\" + language):\n",
    "        for title in os.listdir(book_dir + \"/\" + language + \"/\" + author):\n",
    "            inputfile =book_dir + \"/\" + language +\"/\"+author+\"/\"+title\n",
    "            print(inputfile)\n",
    "            text = read_book(inputfile)\n",
    "            (num_unique,counts) = word_stats(count_words(text))\n",
    "        "
   ]
  },
  {
   "cell_type": "code",
   "execution_count": 60,
   "metadata": {},
   "outputs": [],
   "source": [
    "import pandas as pd "
   ]
  },
  {
   "cell_type": "code",
   "execution_count": 61,
   "metadata": {},
   "outputs": [],
   "source": [
    "table = pd.DataFrame(columns = (\"name\",\"age\"))"
   ]
  },
  {
   "cell_type": "code",
   "execution_count": 62,
   "metadata": {},
   "outputs": [],
   "source": [
    "table.loc[1] = \"James\",22"
   ]
  },
  {
   "cell_type": "code",
   "execution_count": 63,
   "metadata": {},
   "outputs": [],
   "source": [
    "table.loc[2] = \"Jess\",32"
   ]
  },
  {
   "cell_type": "code",
   "execution_count": 64,
   "metadata": {},
   "outputs": [
    {
     "data": {
      "text/html": [
       "<div>\n",
       "<style scoped>\n",
       "    .dataframe tbody tr th:only-of-type {\n",
       "        vertical-align: middle;\n",
       "    }\n",
       "\n",
       "    .dataframe tbody tr th {\n",
       "        vertical-align: top;\n",
       "    }\n",
       "\n",
       "    .dataframe thead th {\n",
       "        text-align: right;\n",
       "    }\n",
       "</style>\n",
       "<table border=\"1\" class=\"dataframe\">\n",
       "  <thead>\n",
       "    <tr style=\"text-align: right;\">\n",
       "      <th></th>\n",
       "      <th>name</th>\n",
       "      <th>age</th>\n",
       "    </tr>\n",
       "  </thead>\n",
       "  <tbody>\n",
       "    <tr>\n",
       "      <th>1</th>\n",
       "      <td>James</td>\n",
       "      <td>22</td>\n",
       "    </tr>\n",
       "    <tr>\n",
       "      <th>2</th>\n",
       "      <td>Jess</td>\n",
       "      <td>32</td>\n",
       "    </tr>\n",
       "  </tbody>\n",
       "</table>\n",
       "</div>"
      ],
      "text/plain": [
       "    name age\n",
       "1  James  22\n",
       "2   Jess  32"
      ]
     },
     "execution_count": 64,
     "metadata": {},
     "output_type": "execute_result"
    }
   ],
   "source": [
    "table"
   ]
  },
  {
   "cell_type": "code",
   "execution_count": 65,
   "metadata": {},
   "outputs": [
    {
     "data": {
      "text/plain": [
       "1    James\n",
       "2     Jess\n",
       "Name: name, dtype: object"
      ]
     },
     "execution_count": 65,
     "metadata": {},
     "output_type": "execute_result"
    }
   ],
   "source": [
    "table.name "
   ]
  },
  {
   "cell_type": "code",
   "execution_count": 66,
   "metadata": {},
   "outputs": [
    {
     "data": {
      "text/plain": [
       "1    22\n",
       "2    32\n",
       "Name: age, dtype: object"
      ]
     },
     "execution_count": 66,
     "metadata": {},
     "output_type": "execute_result"
    }
   ],
   "source": [
    "table.age"
   ]
  },
  {
   "cell_type": "code",
   "execution_count": 67,
   "metadata": {},
   "outputs": [
    {
     "data": {
      "text/plain": [
       "1    22\n",
       "2    32\n",
       "Name: age, dtype: object"
      ]
     },
     "execution_count": 67,
     "metadata": {},
     "output_type": "execute_result"
    }
   ],
   "source": [
    "table[\"age\"]"
   ]
  },
  {
   "cell_type": "code",
   "execution_count": 68,
   "metadata": {},
   "outputs": [
    {
     "data": {
      "text/html": [
       "<div>\n",
       "<style scoped>\n",
       "    .dataframe tbody tr th:only-of-type {\n",
       "        vertical-align: middle;\n",
       "    }\n",
       "\n",
       "    .dataframe tbody tr th {\n",
       "        vertical-align: top;\n",
       "    }\n",
       "\n",
       "    .dataframe thead th {\n",
       "        text-align: right;\n",
       "    }\n",
       "</style>\n",
       "<table border=\"1\" class=\"dataframe\">\n",
       "  <thead>\n",
       "    <tr style=\"text-align: right;\">\n",
       "      <th></th>\n",
       "      <th>name</th>\n",
       "      <th>age</th>\n",
       "    </tr>\n",
       "  </thead>\n",
       "  <tbody>\n",
       "    <tr>\n",
       "      <th>2</th>\n",
       "      <td>Jess</td>\n",
       "      <td>32</td>\n",
       "    </tr>\n",
       "  </tbody>\n",
       "</table>\n",
       "</div>"
      ],
      "text/plain": [
       "   name age\n",
       "2  Jess  32"
      ]
     },
     "execution_count": 68,
     "metadata": {},
     "output_type": "execute_result"
    }
   ],
   "source": [
    "table[table.name == \"Jess\"]  # select only the rows where the name is Jess"
   ]
  },
  {
   "cell_type": "code",
   "execution_count": 69,
   "metadata": {},
   "outputs": [],
   "source": [
    "stats = pd.DataFrame(columns = (\"language\",\"author\",\"title\",\"length\",\"unique\"))\n",
    "title_num =  1\n",
    "for language in os.listdir(book_dir):\n",
    "    for author in os.listdir(book_dir + \"/\" + language):\n",
    "        for title in os.listdir(book_dir + \"/\" + language + \"/\" + author):\n",
    "            inputfile =book_dir + \"/\" + language +\"/\"+author+\"/\"+title\n",
    "            #print(inputfile)\n",
    "            text = read_book(inputfile)\n",
    "            (num_unique,counts) = word_stats(count_words(text))\n",
    "            stats.loc[title_num] = language,author.capitalize(),title.replace(\".txt\",\"\"),sum(counts),num_unique\n",
    "            title_num += 1"
   ]
  },
  {
   "cell_type": "code",
   "execution_count": 70,
   "metadata": {},
   "outputs": [
    {
     "data": {
      "text/html": [
       "<div>\n",
       "<style scoped>\n",
       "    .dataframe tbody tr th:only-of-type {\n",
       "        vertical-align: middle;\n",
       "    }\n",
       "\n",
       "    .dataframe tbody tr th {\n",
       "        vertical-align: top;\n",
       "    }\n",
       "\n",
       "    .dataframe thead th {\n",
       "        text-align: right;\n",
       "    }\n",
       "</style>\n",
       "<table border=\"1\" class=\"dataframe\">\n",
       "  <thead>\n",
       "    <tr style=\"text-align: right;\">\n",
       "      <th></th>\n",
       "      <th>language</th>\n",
       "      <th>author</th>\n",
       "      <th>title</th>\n",
       "      <th>length</th>\n",
       "      <th>unique</th>\n",
       "    </tr>\n",
       "  </thead>\n",
       "  <tbody>\n",
       "    <tr>\n",
       "      <th>1</th>\n",
       "      <td>English</td>\n",
       "      <td>Shakespeare</td>\n",
       "      <td>A Midsummer Night's Dream</td>\n",
       "      <td>16103</td>\n",
       "      <td>4345</td>\n",
       "    </tr>\n",
       "    <tr>\n",
       "      <th>2</th>\n",
       "      <td>English</td>\n",
       "      <td>Shakespeare</td>\n",
       "      <td>Hamlet</td>\n",
       "      <td>28551</td>\n",
       "      <td>6776</td>\n",
       "    </tr>\n",
       "    <tr>\n",
       "      <th>3</th>\n",
       "      <td>English</td>\n",
       "      <td>Shakespeare</td>\n",
       "      <td>Macbeth</td>\n",
       "      <td>16874</td>\n",
       "      <td>4780</td>\n",
       "    </tr>\n",
       "    <tr>\n",
       "      <th>4</th>\n",
       "      <td>English</td>\n",
       "      <td>Shakespeare</td>\n",
       "      <td>Othello</td>\n",
       "      <td>26590</td>\n",
       "      <td>5898</td>\n",
       "    </tr>\n",
       "    <tr>\n",
       "      <th>5</th>\n",
       "      <td>English</td>\n",
       "      <td>Shakespeare</td>\n",
       "      <td>Richard III</td>\n",
       "      <td>48315</td>\n",
       "      <td>5449</td>\n",
       "    </tr>\n",
       "  </tbody>\n",
       "</table>\n",
       "</div>"
      ],
      "text/plain": [
       "  language       author                      title length unique\n",
       "1  English  Shakespeare  A Midsummer Night's Dream  16103   4345\n",
       "2  English  Shakespeare                     Hamlet  28551   6776\n",
       "3  English  Shakespeare                    Macbeth  16874   4780\n",
       "4  English  Shakespeare                    Othello  26590   5898\n",
       "5  English  Shakespeare                Richard III  48315   5449"
      ]
     },
     "execution_count": 70,
     "metadata": {},
     "output_type": "execute_result"
    }
   ],
   "source": [
    "stats.head()"
   ]
  },
  {
   "cell_type": "code",
   "execution_count": 71,
   "metadata": {},
   "outputs": [
    {
     "data": {
      "text/html": [
       "<div>\n",
       "<style scoped>\n",
       "    .dataframe tbody tr th:only-of-type {\n",
       "        vertical-align: middle;\n",
       "    }\n",
       "\n",
       "    .dataframe tbody tr th {\n",
       "        vertical-align: top;\n",
       "    }\n",
       "\n",
       "    .dataframe thead th {\n",
       "        text-align: right;\n",
       "    }\n",
       "</style>\n",
       "<table border=\"1\" class=\"dataframe\">\n",
       "  <thead>\n",
       "    <tr style=\"text-align: right;\">\n",
       "      <th></th>\n",
       "      <th>language</th>\n",
       "      <th>author</th>\n",
       "      <th>title</th>\n",
       "      <th>length</th>\n",
       "      <th>unique</th>\n",
       "    </tr>\n",
       "  </thead>\n",
       "  <tbody>\n",
       "    <tr>\n",
       "      <th>98</th>\n",
       "      <td>Portuguese</td>\n",
       "      <td>Queirâ¢s</td>\n",
       "      <td>O crime do padre Amaro</td>\n",
       "      <td>128630</td>\n",
       "      <td>29300</td>\n",
       "    </tr>\n",
       "    <tr>\n",
       "      <th>99</th>\n",
       "      <td>Portuguese</td>\n",
       "      <td>Queirâ¢s</td>\n",
       "      <td>O Mandarim</td>\n",
       "      <td>21440</td>\n",
       "      <td>7836</td>\n",
       "    </tr>\n",
       "    <tr>\n",
       "      <th>100</th>\n",
       "      <td>Portuguese</td>\n",
       "      <td>Queirâ¢s</td>\n",
       "      <td>O Primo Bazilio</td>\n",
       "      <td>107303</td>\n",
       "      <td>27644</td>\n",
       "    </tr>\n",
       "    <tr>\n",
       "      <th>101</th>\n",
       "      <td>Portuguese</td>\n",
       "      <td>Queirâ¢s</td>\n",
       "      <td>Os Maias</td>\n",
       "      <td>195771</td>\n",
       "      <td>40665</td>\n",
       "    </tr>\n",
       "    <tr>\n",
       "      <th>102</th>\n",
       "      <td>Portuguese</td>\n",
       "      <td>Shakespeare</td>\n",
       "      <td>Hamlet</td>\n",
       "      <td>30567</td>\n",
       "      <td>9700</td>\n",
       "    </tr>\n",
       "  </tbody>\n",
       "</table>\n",
       "</div>"
      ],
      "text/plain": [
       "       language       author                   title  length unique\n",
       "98   Portuguese     Queirâ¢s  O crime do padre Amaro  128630  29300\n",
       "99   Portuguese     Queirâ¢s              O Mandarim   21440   7836\n",
       "100  Portuguese     Queirâ¢s         O Primo Bazilio  107303  27644\n",
       "101  Portuguese     Queirâ¢s                Os Maias  195771  40665\n",
       "102  Portuguese  Shakespeare                  Hamlet   30567   9700"
      ]
     },
     "execution_count": 71,
     "metadata": {},
     "output_type": "execute_result"
    }
   ],
   "source": [
    "stats.tail()"
   ]
  },
  {
   "cell_type": "markdown",
   "metadata": {},
   "source": [
    "### 3.2.6: Plotting Book Statistics"
   ]
  },
  {
   "cell_type": "code",
   "execution_count": 72,
   "metadata": {},
   "outputs": [],
   "source": [
    "import matplotlib.pyplot as plt"
   ]
  },
  {
   "cell_type": "code",
   "execution_count": 73,
   "metadata": {},
   "outputs": [
    {
     "data": {
      "image/png": "[encoded data removed]",
      "text/plain": [
       "<Figure size 432x288 with 1 Axes>"
      ]
     },
     "metadata": {
      "needs_background": "light"
     },
     "output_type": "display_data"
    }
   ],
   "source": [
    "plt.plot(stats.length,stats.unique,\"bo\");"
   ]
  },
  {
   "cell_type": "code",
   "execution_count": 74,
   "metadata": {},
   "outputs": [
    {
     "data": {
      "image/png": "[encoded data removed]",
      "text/plain": [
       "<Figure size 432x288 with 1 Axes>"
      ]
     },
     "metadata": {
      "needs_background": "light"
     },
     "output_type": "display_data"
    }
   ],
   "source": [
    "plt.loglog(stats.length,stats.unique,\"bo\");"
   ]
  },
  {
   "cell_type": "markdown",
   "metadata": {},
   "source": [
    "Using pandas, we can also stratify data, for example, by language."
   ]
  },
  {
   "cell_type": "code",
   "execution_count": 75,
   "metadata": {},
   "outputs": [
    {
     "data": {
      "text/html": [
       "<div>\n",
       "<style scoped>\n",
       "    .dataframe tbody tr th:only-of-type {\n",
       "        vertical-align: middle;\n",
       "    }\n",
       "\n",
       "    .dataframe tbody tr th {\n",
       "        vertical-align: top;\n",
       "    }\n",
       "\n",
       "    .dataframe thead th {\n",
       "        text-align: right;\n",
       "    }\n",
       "</style>\n",
       "<table border=\"1\" class=\"dataframe\">\n",
       "  <thead>\n",
       "    <tr style=\"text-align: right;\">\n",
       "      <th></th>\n",
       "      <th>language</th>\n",
       "      <th>author</th>\n",
       "      <th>title</th>\n",
       "      <th>length</th>\n",
       "      <th>unique</th>\n",
       "    </tr>\n",
       "  </thead>\n",
       "  <tbody>\n",
       "    <tr>\n",
       "      <th>1</th>\n",
       "      <td>English</td>\n",
       "      <td>Shakespeare</td>\n",
       "      <td>A Midsummer Night's Dream</td>\n",
       "      <td>16103</td>\n",
       "      <td>4345</td>\n",
       "    </tr>\n",
       "    <tr>\n",
       "      <th>2</th>\n",
       "      <td>English</td>\n",
       "      <td>Shakespeare</td>\n",
       "      <td>Hamlet</td>\n",
       "      <td>28551</td>\n",
       "      <td>6776</td>\n",
       "    </tr>\n",
       "    <tr>\n",
       "      <th>3</th>\n",
       "      <td>English</td>\n",
       "      <td>Shakespeare</td>\n",
       "      <td>Macbeth</td>\n",
       "      <td>16874</td>\n",
       "      <td>4780</td>\n",
       "    </tr>\n",
       "    <tr>\n",
       "      <th>4</th>\n",
       "      <td>English</td>\n",
       "      <td>Shakespeare</td>\n",
       "      <td>Othello</td>\n",
       "      <td>26590</td>\n",
       "      <td>5898</td>\n",
       "    </tr>\n",
       "    <tr>\n",
       "      <th>5</th>\n",
       "      <td>English</td>\n",
       "      <td>Shakespeare</td>\n",
       "      <td>Richard III</td>\n",
       "      <td>48315</td>\n",
       "      <td>5449</td>\n",
       "    </tr>\n",
       "    <tr>\n",
       "      <th>6</th>\n",
       "      <td>English</td>\n",
       "      <td>Shakespeare</td>\n",
       "      <td>Romeo and Juliet</td>\n",
       "      <td>40776</td>\n",
       "      <td>5118</td>\n",
       "    </tr>\n",
       "    <tr>\n",
       "      <th>7</th>\n",
       "      <td>English</td>\n",
       "      <td>Shakespeare</td>\n",
       "      <td>The Merchant of Venice</td>\n",
       "      <td>20949</td>\n",
       "      <td>4978</td>\n",
       "    </tr>\n",
       "  </tbody>\n",
       "</table>\n",
       "</div>"
      ],
      "text/plain": [
       "  language       author                      title length unique\n",
       "1  English  Shakespeare  A Midsummer Night's Dream  16103   4345\n",
       "2  English  Shakespeare                     Hamlet  28551   6776\n",
       "3  English  Shakespeare                    Macbeth  16874   4780\n",
       "4  English  Shakespeare                    Othello  26590   5898\n",
       "5  English  Shakespeare                Richard III  48315   5449\n",
       "6  English  Shakespeare           Romeo and Juliet  40776   5118\n",
       "7  English  Shakespeare     The Merchant of Venice  20949   4978"
      ]
     },
     "execution_count": 75,
     "metadata": {},
     "output_type": "execute_result"
    }
   ],
   "source": [
    "stats[stats.language  == \"English\"]"
   ]
  },
  {
   "cell_type": "markdown",
   "metadata": {},
   "source": [
    "Let's construct a plot using different colors for different languages.\n",
    "This allows us to try out some of the interesting color options\n",
    "that Python has.\n",
    "Plt uses essentially the same names for colors as HTML does,\n",
    "the markup language used to create webpages.\n",
    "\n",
    "#### google html colors"
   ]
  },
  {
   "cell_type": "code",
   "execution_count": 76,
   "metadata": {},
   "outputs": [
    {
     "data": {
      "image/png": "[encoded data removed]",
      "text/plain": [
       "<Figure size 720x720 with 1 Axes>"
      ]
     },
     "metadata": {
      "needs_background": "light"
     },
     "output_type": "display_data"
    }
   ],
   "source": [
    "plt.figure(figsize = (10,10))\n",
    "subset = stats[stats.language == \"English\"]\n",
    "plt.loglog(subset.length,subset.unique,\"o\",label = \"English\",color =\"crimson\")\n",
    "subset = stats[stats.language == \"French\"]\n",
    "plt.loglog(subset.length,subset.unique,\"o\",label = \"French\",color =\"forestgreen\")\n",
    "subset = stats[stats.language == \"German\"]\n",
    "plt.loglog(subset.length,subset.unique,\"o\",label = \"German\",color =\"orange\")\n",
    "subset = stats[stats.language == \"Portuguese\"]\n",
    "plt.loglog(subset.length,subset.unique,\"o\",label = \"Portuguese\",color =\"blueviolet\")\n",
    "plt.legend()\n",
    "plt.xlabel(\"book lenght\")\n",
    "plt.ylabel(\"number of unique words\");\n"
   ]
  },
  {
   "cell_type": "markdown",
   "metadata": {},
   "source": [
    "### Homework: Case Study 2\n",
    "\n",
    "In this case study, we will find and plot the distribution of word frequencies for each translation of Hamlet.  Perhaps the distribution of word frequencies of Hamlet depends on the translation --- let's find out!\n",
    "\n",
    "In this case study, we will find and visualize summary statistics of the text of different translations of Hamlet. For this case study, functions count_words_fast, read_book, and word_stats are already defined as in the Case 2 Videos (Videos 3.2.x).\n",
    "\n",
    "book_titles is a nested dictionary, containing book titles within authors within languages, all of which are strings. These books are all stored online, and are accessed throughout this case study. In this exercise, we will first read in and store each translation of Hamlet. "
   ]
  },
  {
   "cell_type": "markdown",
   "metadata": {},
   "source": [
    "### 1\n",
    "Define hamlets as a pandas dataframe with columns language and text.\n",
    "\n",
    "Add an if statement to check if the title is equal to 'Hamlet'.\n",
    "\n",
    "Store the results from read_book(inputfile) to text.\n",
    "\n",
    "Consider: How many translations are there? Which languages are they translated into?\n"
   ]
  },
  {
   "cell_type": "code",
   "execution_count": 77,
   "metadata": {},
   "outputs": [],
   "source": [
    "book_titles= {'English': {'shakespeare': (\"A+Midsummer+Night's+Dream\", 'Hamlet', 'Macbeth', 'Othello', 'Richard+III', 'Romeo+and+Juliet', 'The+Merchant+of+Venice')}, 'Portuguese': {'shakespeare': ('Hamlet',)}, 'French': {'chevalier': (\"L'enfer+et+le+paradis+de+l'autre+monde\", \"L'i%CC%82le+de+sable\", 'La+capitaine', 'La+fille+des+indiens+rouges', 'La+fille+du+pirate', 'Le+chasseur+noir', 'Les+derniers+Iroquois')}, 'German': {'shakespeare': ('Der+Kaufmann+von+Venedig', 'Ein+Sommernachtstraum', 'Hamlet', 'Macbeth', 'Othello', 'Richard+III', 'Romeo+und+Julia')}}"
   ]
  },
  {
   "cell_type": "code",
   "execution_count": 78,
   "metadata": {},
   "outputs": [
    {
     "name": "stdout",
     "output_type": "stream",
     "text": [
      "     language                                               text\n",
      "1     English  The Tragedie of HamletActus Primus Scoena Prim...\n",
      "2  Portuguese  ﻿HAMLETDRAMA EM CINCO ACTOSWILLIAM SHAKESPEARE...\n",
      "3      German  ﻿Hamlet, Prinz von Dännemark.William Shakespea...\n"
     ]
    }
   ],
   "source": [
    "import pandas as pd\n",
    "hamlets = pd.DataFrame(columns = (\"language\",\"text\"))\n",
    "\n",
    "title_num = 1\n",
    "for language in book_titles:\n",
    "    for author in book_titles[language]:\n",
    "        for title in book_titles[language][author]:\n",
    "            if title == \"Hamlet\":\n",
    "                inputfile = \"Books/\"+language+\"/\"+author+\"/\"+title+\".txt\"\n",
    "                text = read_book(inputfile)\n",
    "                hamlets.loc[title_num] = language, text\n",
    "                title_num += 1\n",
    "\n",
    "print(hamlets)"
   ]
  },
  {
   "cell_type": "markdown",
   "metadata": {},
   "source": [
    "### 2 \n",
    "\n",
    "In this exercise, we will summarize the text for a single translation of Hamlet in a pandas dataframe. The language and text of the first translation of Hamlet in hamlets is given in the code section.\n",
    "\n",
    "Find the dictionary of word frequency in text by calling count_words_fast().\n",
    "\n",
    "Store this as counted_text.\n",
    "\n",
    "Create a pandas dataframe named data.\n",
    "\n",
    "Using counted_text, define two columns in data:\n",
    "word, consisting of each unique word in text.\n",
    "\n",
    "count, consisting of the number of times each word in word is included in the text."
   ]
  },
  {
   "cell_type": "code",
   "execution_count": 79,
   "metadata": {},
   "outputs": [],
   "source": [
    "language, text = hamlets.iloc[0]\n",
    "\n",
    "counted_text = count_words_fast(text)\n",
    "\n",
    "data = pd.DataFrame({\n",
    "    \"word\": list(counted_text.keys()),\n",
    "    \"count\": list(counted_text.values())\n",
    "})"
   ]
  },
  {
   "cell_type": "markdown",
   "metadata": {},
   "source": [
    "### 3\n",
    "\n",
    "Add a column to data named length, defined as the length of each word.\n",
    "\n",
    "Add another column named frequency, which is defined as follows for each word in data:\n",
    "\n",
    "If count > 10, frequency is frequent.\n",
    "\n",
    "If 1 < count <= 10, frequency is infrequent.\n",
    "\n",
    "If count == 1, frequency is unique."
   ]
  },
  {
   "cell_type": "code",
   "execution_count": 80,
   "metadata": {},
   "outputs": [
    {
     "data": {
      "text/html": [
       "<div>\n",
       "<style scoped>\n",
       "    .dataframe tbody tr th:only-of-type {\n",
       "        vertical-align: middle;\n",
       "    }\n",
       "\n",
       "    .dataframe tbody tr th {\n",
       "        vertical-align: top;\n",
       "    }\n",
       "\n",
       "    .dataframe thead th {\n",
       "        text-align: right;\n",
       "    }\n",
       "</style>\n",
       "<table border=\"1\" class=\"dataframe\">\n",
       "  <thead>\n",
       "    <tr style=\"text-align: right;\">\n",
       "      <th></th>\n",
       "      <th>word</th>\n",
       "      <th>count</th>\n",
       "    </tr>\n",
       "  </thead>\n",
       "  <tbody>\n",
       "    <tr>\n",
       "      <th>0</th>\n",
       "      <td>the</td>\n",
       "      <td>855</td>\n",
       "    </tr>\n",
       "    <tr>\n",
       "      <th>1</th>\n",
       "      <td>tragedie</td>\n",
       "      <td>2</td>\n",
       "    </tr>\n",
       "    <tr>\n",
       "      <th>2</th>\n",
       "      <td>of</td>\n",
       "      <td>550</td>\n",
       "    </tr>\n",
       "    <tr>\n",
       "      <th>3</th>\n",
       "      <td>hamletactus</td>\n",
       "      <td>1</td>\n",
       "    </tr>\n",
       "    <tr>\n",
       "      <th>4</th>\n",
       "      <td>primus</td>\n",
       "      <td>1</td>\n",
       "    </tr>\n",
       "  </tbody>\n",
       "</table>\n",
       "</div>"
      ],
      "text/plain": [
       "          word  count\n",
       "0          the    855\n",
       "1     tragedie      2\n",
       "2           of    550\n",
       "3  hamletactus      1\n",
       "4       primus      1"
      ]
     },
     "execution_count": 80,
     "metadata": {},
     "output_type": "execute_result"
    }
   ],
   "source": [
    "data.head()"
   ]
  },
  {
   "cell_type": "code",
   "execution_count": 81,
   "metadata": {},
   "outputs": [
    {
     "data": {
      "text/html": [
       "<div>\n",
       "<style scoped>\n",
       "    .dataframe tbody tr th:only-of-type {\n",
       "        vertical-align: middle;\n",
       "    }\n",
       "\n",
       "    .dataframe tbody tr th {\n",
       "        vertical-align: top;\n",
       "    }\n",
       "\n",
       "    .dataframe thead th {\n",
       "        text-align: right;\n",
       "    }\n",
       "</style>\n",
       "<table border=\"1\" class=\"dataframe\">\n",
       "  <thead>\n",
       "    <tr style=\"text-align: right;\">\n",
       "      <th></th>\n",
       "      <th>word</th>\n",
       "      <th>count</th>\n",
       "      <th>length</th>\n",
       "      <th>frequency</th>\n",
       "    </tr>\n",
       "  </thead>\n",
       "  <tbody>\n",
       "    <tr>\n",
       "      <th>0</th>\n",
       "      <td>the</td>\n",
       "      <td>855</td>\n",
       "      <td>3</td>\n",
       "      <td>frequent</td>\n",
       "    </tr>\n",
       "    <tr>\n",
       "      <th>1</th>\n",
       "      <td>tragedie</td>\n",
       "      <td>2</td>\n",
       "      <td>8</td>\n",
       "      <td>infrequent</td>\n",
       "    </tr>\n",
       "    <tr>\n",
       "      <th>2</th>\n",
       "      <td>of</td>\n",
       "      <td>550</td>\n",
       "      <td>2</td>\n",
       "      <td>frequent</td>\n",
       "    </tr>\n",
       "    <tr>\n",
       "      <th>3</th>\n",
       "      <td>hamletactus</td>\n",
       "      <td>1</td>\n",
       "      <td>11</td>\n",
       "      <td>unique</td>\n",
       "    </tr>\n",
       "    <tr>\n",
       "      <th>4</th>\n",
       "      <td>primus</td>\n",
       "      <td>1</td>\n",
       "      <td>6</td>\n",
       "      <td>unique</td>\n",
       "    </tr>\n",
       "  </tbody>\n",
       "</table>\n",
       "</div>"
      ],
      "text/plain": [
       "          word  count  length   frequency\n",
       "0          the    855       3    frequent\n",
       "1     tragedie      2       8  infrequent\n",
       "2           of    550       2    frequent\n",
       "3  hamletactus      1      11      unique\n",
       "4       primus      1       6      unique"
      ]
     },
     "execution_count": 81,
     "metadata": {},
     "output_type": "execute_result"
    }
   ],
   "source": [
    "data[\"length\"] = data[\"word\"].apply(len)\n",
    "\n",
    "data.loc[data[\"count\"] > 10,  \"frequency\"] = \"frequent\"\n",
    "data.loc[data[\"count\"] <= 10, \"frequency\"] = \"infrequent\"\n",
    "data.loc[data[\"count\"] == 1,  \"frequency\"] = \"unique\"\n",
    "\n",
    "data.head()"
   ]
  },
  {
   "cell_type": "code",
   "execution_count": 82,
   "metadata": {},
   "outputs": [
    {
     "data": {
      "text/html": [
       "<div>\n",
       "<style scoped>\n",
       "    .dataframe tbody tr th:only-of-type {\n",
       "        vertical-align: middle;\n",
       "    }\n",
       "\n",
       "    .dataframe tbody tr th {\n",
       "        vertical-align: top;\n",
       "    }\n",
       "\n",
       "    .dataframe thead th {\n",
       "        text-align: right;\n",
       "    }\n",
       "</style>\n",
       "<table border=\"1\" class=\"dataframe\">\n",
       "  <thead>\n",
       "    <tr style=\"text-align: right;\">\n",
       "      <th></th>\n",
       "      <th>word</th>\n",
       "      <th>count</th>\n",
       "      <th>length</th>\n",
       "      <th>frequency</th>\n",
       "    </tr>\n",
       "  </thead>\n",
       "  <tbody>\n",
       "    <tr>\n",
       "      <th>0</th>\n",
       "      <td>the</td>\n",
       "      <td>855</td>\n",
       "      <td>3</td>\n",
       "      <td>frequent</td>\n",
       "    </tr>\n",
       "    <tr>\n",
       "      <th>1</th>\n",
       "      <td>tragedie</td>\n",
       "      <td>2</td>\n",
       "      <td>8</td>\n",
       "      <td>infrequent</td>\n",
       "    </tr>\n",
       "    <tr>\n",
       "      <th>2</th>\n",
       "      <td>of</td>\n",
       "      <td>550</td>\n",
       "      <td>2</td>\n",
       "      <td>frequent</td>\n",
       "    </tr>\n",
       "    <tr>\n",
       "      <th>3</th>\n",
       "      <td>hamletactus</td>\n",
       "      <td>1</td>\n",
       "      <td>11</td>\n",
       "      <td>unique</td>\n",
       "    </tr>\n",
       "    <tr>\n",
       "      <th>4</th>\n",
       "      <td>primus</td>\n",
       "      <td>1</td>\n",
       "      <td>6</td>\n",
       "      <td>unique</td>\n",
       "    </tr>\n",
       "  </tbody>\n",
       "</table>\n",
       "</div>"
      ],
      "text/plain": [
       "          word  count  length   frequency\n",
       "0          the    855       3    frequent\n",
       "1     tragedie      2       8  infrequent\n",
       "2           of    550       2    frequent\n",
       "3  hamletactus      1      11      unique\n",
       "4       primus      1       6      unique"
      ]
     },
     "execution_count": 82,
     "metadata": {},
     "output_type": "execute_result"
    }
   ],
   "source": [
    "# Mi forma fortran de hacer las cosas !! :(\n",
    "word_length = []\n",
    "for word in list(counted_text.keys()):\n",
    "    word_length.append(len(word))\n",
    "\n",
    "data.loc[:,'length'] = word_length\n",
    "\n",
    "word_frequency = []\n",
    "for count in list(counted_text.values()):\n",
    "    if count > 10:\n",
    "        word_frequency.append(\"frequent\")\n",
    "    elif 1 < count <= 10:     \n",
    "        word_frequency.append(\"infrequent\")\n",
    "    elif count == 1:\n",
    "         word_frequency.append(\"unique\")\n",
    "\n",
    "data.loc[:,'frequency'] = word_frequency\n",
    "\n",
    "data.head()"
   ]
  },
  {
   "cell_type": "markdown",
   "metadata": {},
   "source": [
    "### 4\n",
    "We will summarize the statistics in data into a smaller pandas dataframe. \n",
    "\n",
    "\n",
    "Create a pandas dataframe named sub_data including the following columns:\n",
    "\n",
    "language, which is the language of the text.\n",
    "\n",
    "frequency, which is a list containing the strings \"frequent\", \"infrequent\", and \"unique\".\n",
    "\n",
    "mean_word_length, which is the mean word length of each value in frequency.\n",
    "\n",
    "num_words, which is the total number of words in each frequency category.\n",
    "\n",
    "##### Hint:\n",
    "We recommend you use the data.groupby() function, which groups the data according to the unique values in a column specified in the by argument. Try grouping by frequency.\n",
    "You may then find mean_word_length and num_words by calling .mean() and .size() on these grouped datasets, respectively."
   ]
  },
  {
   "cell_type": "code",
   "execution_count": 83,
   "metadata": {},
   "outputs": [],
   "source": [
    "language, text = hamlets.iloc[0]\n",
    "\n",
    "counted_text = count_words_fast(text)\n",
    "\n",
    "data = pd.DataFrame({\n",
    "    \"word\": list(counted_text.keys()),\n",
    "    \"count\": list(counted_text.values())\n",
    "})\n",
    "\n",
    "data[\"length\"] = data[\"word\"].apply(len)\n",
    "\n",
    "data.loc[data[\"count\"] > 10,  \"frequency\"] = \"frequent\"\n",
    "data.loc[data[\"count\"] <= 10, \"frequency\"] = \"infrequent\"\n",
    "data.loc[data[\"count\"] == 1,  \"frequency\"] = \"unique\"\n",
    "\n",
    "\n",
    "sub_data = pd.DataFrame({\n",
    "    \"language\": language,\n",
    "    \"frequency\": [\"frequent\",\"infrequent\",\"unique\"],\n",
    "    \"mean_word_length\": data.groupby(by = \"frequency\")[\"length\"].mean(),\n",
    "    \"num_words\": data.groupby(by = \"frequency\").size()\n",
    "})"
   ]
  },
  {
   "cell_type": "code",
   "execution_count": 84,
   "metadata": {},
   "outputs": [
    {
     "data": {
      "text/html": [
       "<div>\n",
       "<style scoped>\n",
       "    .dataframe tbody tr th:only-of-type {\n",
       "        vertical-align: middle;\n",
       "    }\n",
       "\n",
       "    .dataframe tbody tr th {\n",
       "        vertical-align: top;\n",
       "    }\n",
       "\n",
       "    .dataframe thead th {\n",
       "        text-align: right;\n",
       "    }\n",
       "</style>\n",
       "<table border=\"1\" class=\"dataframe\">\n",
       "  <thead>\n",
       "    <tr style=\"text-align: right;\">\n",
       "      <th></th>\n",
       "      <th>language</th>\n",
       "      <th>frequency</th>\n",
       "      <th>mean_word_length</th>\n",
       "      <th>num_words</th>\n",
       "    </tr>\n",
       "    <tr>\n",
       "      <th>frequency</th>\n",
       "      <th></th>\n",
       "      <th></th>\n",
       "      <th></th>\n",
       "      <th></th>\n",
       "    </tr>\n",
       "  </thead>\n",
       "  <tbody>\n",
       "    <tr>\n",
       "      <th>frequent</th>\n",
       "      <td>English</td>\n",
       "      <td>frequent</td>\n",
       "      <td>4.200000</td>\n",
       "      <td>280</td>\n",
       "    </tr>\n",
       "    <tr>\n",
       "      <th>infrequent</th>\n",
       "      <td>English</td>\n",
       "      <td>infrequent</td>\n",
       "      <td>5.943769</td>\n",
       "      <td>1316</td>\n",
       "    </tr>\n",
       "    <tr>\n",
       "      <th>unique</th>\n",
       "      <td>English</td>\n",
       "      <td>unique</td>\n",
       "      <td>8.088803</td>\n",
       "      <td>5180</td>\n",
       "    </tr>\n",
       "  </tbody>\n",
       "</table>\n",
       "</div>"
      ],
      "text/plain": [
       "           language   frequency  mean_word_length  num_words\n",
       "frequency                                                   \n",
       "frequent    English    frequent          4.200000        280\n",
       "infrequent  English  infrequent          5.943769       1316\n",
       "unique      English      unique          8.088803       5180"
      ]
     },
     "execution_count": 84,
     "metadata": {},
     "output_type": "execute_result"
    }
   ],
   "source": [
    "sub_data.head()"
   ]
  },
  {
   "cell_type": "markdown",
   "metadata": {},
   "source": [
    "##### Renaming columns'name\n",
    "df1 =df1.rename(columns={'length': 'mean_word_length'}) \n",
    "\n",
    "\n",
    "##### Changing the columns order \n",
    "df= df[[\"language\",\"frequency\",\"mean_word_length\",\"num_words\"]] \n",
    "\n"
   ]
  },
  {
   "cell_type": "markdown",
   "metadata": {},
   "source": [
    "### 5\n",
    "In this exercise, we will join all the data summaries for text Hamlet translation.\n",
    "\n",
    "The previous code for summarizing a particular translation of Hamlet is consolidated into a single function called summarize_text."
   ]
  },
  {
   "cell_type": "code",
   "execution_count": 85,
   "metadata": {},
   "outputs": [],
   "source": [
    "def summarize_text(language, text):\n",
    "    counted_text = count_words_fast(text)\n",
    "\n",
    "    data = pd.DataFrame({\n",
    "        \"word\": list(counted_text.keys()),\n",
    "        \"count\": list(counted_text.values())\n",
    "    })\n",
    "    \n",
    "    data.loc[data[\"count\"] > 10,  \"frequency\"] = \"frequent\"\n",
    "    data.loc[data[\"count\"] <= 10, \"frequency\"] = \"infrequent\"\n",
    "    data.loc[data[\"count\"] == 1,  \"frequency\"] = \"unique\"\n",
    "    \n",
    "    data[\"length\"] = data[\"word\"].apply(len)\n",
    "    \n",
    "    sub_data = pd.DataFrame({\n",
    "        \"language\": language,\n",
    "        \"frequency\": [\"frequent\",\"infrequent\",\"unique\"],\n",
    "        \"mean_word_length\": data.groupby(by = \"frequency\")[\"length\"].mean(),\n",
    "        \"num_words\": data.groupby(by = \"frequency\").size()\n",
    "    })\n",
    "    \n",
    "    return(sub_data)"
   ]
  },
  {
   "cell_type": "markdown",
   "metadata": {},
   "source": [
    "Create a pandas dataframe grouped_data consisting of the results of summarize_text for translation of Hamlet in hamlets.\n",
    "\n",
    "Use a for loop across the row indices of hamlets to assign each translation to a new row.\n",
    "\n",
    "Obtain the ith row of hamlets to variables using the .iloc method, and assign the output to variables language and text.\n",
    "\n",
    "Call summarize_text using language and text, and assign the output to sub_data.\n",
    "\n",
    "Use the pandas .append() function to append to pandas dataframes row-wise to grouped_data"
   ]
  },
  {
   "cell_type": "code",
   "execution_count": 86,
   "metadata": {},
   "outputs": [],
   "source": [
    "grouped_data = pd.DataFrame(columns = [\"language\", \"frequency\", \"mean_word_length\", \"num_words\"])\n",
    "\n",
    "for i in range(hamlets.shape[0]):\n",
    "    language, text = hamlets.iloc[i]\n",
    "    sub_data = summarize_text(language, text)\n",
    "    grouped_data = grouped_data.append(sub_data)"
   ]
  },
  {
   "cell_type": "code",
   "execution_count": 87,
   "metadata": {},
   "outputs": [
    {
     "data": {
      "text/html": [
       "<div>\n",
       "<style scoped>\n",
       "    .dataframe tbody tr th:only-of-type {\n",
       "        vertical-align: middle;\n",
       "    }\n",
       "\n",
       "    .dataframe tbody tr th {\n",
       "        vertical-align: top;\n",
       "    }\n",
       "\n",
       "    .dataframe thead th {\n",
       "        text-align: right;\n",
       "    }\n",
       "</style>\n",
       "<table border=\"1\" class=\"dataframe\">\n",
       "  <thead>\n",
       "    <tr style=\"text-align: right;\">\n",
       "      <th></th>\n",
       "      <th>language</th>\n",
       "      <th>frequency</th>\n",
       "      <th>mean_word_length</th>\n",
       "      <th>num_words</th>\n",
       "    </tr>\n",
       "  </thead>\n",
       "  <tbody>\n",
       "    <tr>\n",
       "      <th>frequent</th>\n",
       "      <td>English</td>\n",
       "      <td>frequent</td>\n",
       "      <td>4.200000</td>\n",
       "      <td>280</td>\n",
       "    </tr>\n",
       "    <tr>\n",
       "      <th>infrequent</th>\n",
       "      <td>English</td>\n",
       "      <td>infrequent</td>\n",
       "      <td>5.943769</td>\n",
       "      <td>1316</td>\n",
       "    </tr>\n",
       "    <tr>\n",
       "      <th>unique</th>\n",
       "      <td>English</td>\n",
       "      <td>unique</td>\n",
       "      <td>8.088803</td>\n",
       "      <td>5180</td>\n",
       "    </tr>\n",
       "    <tr>\n",
       "      <th>frequent</th>\n",
       "      <td>Portuguese</td>\n",
       "      <td>frequent</td>\n",
       "      <td>4.592105</td>\n",
       "      <td>304</td>\n",
       "    </tr>\n",
       "    <tr>\n",
       "      <th>infrequent</th>\n",
       "      <td>Portuguese</td>\n",
       "      <td>infrequent</td>\n",
       "      <td>6.742135</td>\n",
       "      <td>1939</td>\n",
       "    </tr>\n",
       "    <tr>\n",
       "      <th>unique</th>\n",
       "      <td>Portuguese</td>\n",
       "      <td>unique</td>\n",
       "      <td>10.145635</td>\n",
       "      <td>7457</td>\n",
       "    </tr>\n",
       "    <tr>\n",
       "      <th>frequent</th>\n",
       "      <td>German</td>\n",
       "      <td>frequent</td>\n",
       "      <td>4.544025</td>\n",
       "      <td>318</td>\n",
       "    </tr>\n",
       "    <tr>\n",
       "      <th>infrequent</th>\n",
       "      <td>German</td>\n",
       "      <td>infrequent</td>\n",
       "      <td>6.646633</td>\n",
       "      <td>1797</td>\n",
       "    </tr>\n",
       "    <tr>\n",
       "      <th>unique</th>\n",
       "      <td>German</td>\n",
       "      <td>unique</td>\n",
       "      <td>10.739073</td>\n",
       "      <td>7527</td>\n",
       "    </tr>\n",
       "  </tbody>\n",
       "</table>\n",
       "</div>"
      ],
      "text/plain": [
       "              language   frequency  mean_word_length num_words\n",
       "frequent       English    frequent          4.200000       280\n",
       "infrequent     English  infrequent          5.943769      1316\n",
       "unique         English      unique          8.088803      5180\n",
       "frequent    Portuguese    frequent          4.592105       304\n",
       "infrequent  Portuguese  infrequent          6.742135      1939\n",
       "unique      Portuguese      unique         10.145635      7457\n",
       "frequent        German    frequent          4.544025       318\n",
       "infrequent      German  infrequent          6.646633      1797\n",
       "unique          German      unique         10.739073      7527"
      ]
     },
     "execution_count": 87,
     "metadata": {},
     "output_type": "execute_result"
    }
   ],
   "source": [
    "grouped_data"
   ]
  },
  {
   "cell_type": "code",
   "execution_count": 88,
   "metadata": {},
   "outputs": [
    {
     "data": {
      "text/plain": [
       "[0, 1, 2]"
      ]
     },
     "execution_count": 88,
     "metadata": {},
     "output_type": "execute_result"
    }
   ],
   "source": [
    "list(range(hamlets.shape[0]))"
   ]
  },
  {
   "cell_type": "markdown",
   "metadata": {},
   "source": [
    "### 6\n",
    "In this exercise, we will plot our results and look for differences across each translation."
   ]
  },
  {
   "cell_type": "markdown",
   "metadata": {},
   "source": [
    "Plot the word statistics of each translations on a single plot. Note that we have already done most of the work for you.\n",
    "Consider: do the word statistics differ by translation?"
   ]
  },
  {
   "cell_type": "code",
   "execution_count": 89,
   "metadata": {},
   "outputs": [
    {
     "data": {
      "image/png": "[encoded data removed]",
      "text/plain": [
       "<Figure size 432x288 with 1 Axes>"
      ]
     },
     "metadata": {
      "needs_background": "light"
     },
     "output_type": "display_data"
    }
   ],
   "source": [
    "colors = {\"Portuguese\": \"green\", \"English\": \"blue\", \"German\": \"red\"}\n",
    "markers = {\"frequent\": \"o\",\"infrequent\": \"s\", \"unique\": \"^\"}\n",
    "import matplotlib.pyplot as plt\n",
    "for i in range(grouped_data.shape[0]):\n",
    "    row = grouped_data.iloc[i]\n",
    "    plt.plot(row.mean_word_length, row.num_words,\n",
    "        marker=markers[row.frequency],\n",
    "        color = colors[row.language],\n",
    "        markersize = 10\n",
    "    )\n",
    "\n",
    "color_legend = []\n",
    "marker_legend = []\n",
    "for color in colors:\n",
    "    color_legend.append(\n",
    "        plt.plot([], [],\n",
    "        color=colors[color],\n",
    "        marker=\"o\",\n",
    "        label = color, markersize = 10, linestyle=\"None\")\n",
    "    )\n",
    "for marker in markers:\n",
    "    marker_legend.append(\n",
    "        plt.plot([], [],\n",
    "        color=\"k\",\n",
    "        marker=markers[marker],\n",
    "        label = marker, markersize = 10, linestyle=\"None\")\n",
    "    )\n",
    "plt.legend(numpoints=1, loc = \"upper left\")\n",
    "\n",
    "plt.xlabel(\"Mean Word Length\")\n",
    "plt.ylabel(\"Number of Words\");\n"
   ]
  },
  {
   "cell_type": "markdown",
   "metadata": {},
   "source": [
    "We see that the original English version of Hamlet contains fewer words overall, and its unique words are shorter than its translations. This concludes the case study"
   ]
  },
  {
   "cell_type": "markdown",
   "metadata": {},
   "source": [
    "### 3.3.1: Introduction to kNN Classification\n",
    "\n",
    "##### How does the -Nearest Neighbors classifier classify observations?\n",
    "\n",
    "According to the most common class among the $K$-nearest  neighbors"
   ]
  },
  {
   "cell_type": "markdown",
   "metadata": {},
   "source": [
    "### 3.3.2: Finding the Distance Between Two Points\n",
    "\n",
    "Learn how to use Python to determine the Euclidean distance between two points expressed as NumPy arrays"
   ]
  },
  {
   "cell_type": "code",
   "execution_count": 90,
   "metadata": {},
   "outputs": [],
   "source": [
    "import numpy as np\n",
    "def distance(p1,p2):\n",
    "    \"\"\"\n",
    "    Find the distance between points p1 and p2\n",
    "    \"\"\"\n",
    "    \n",
    "    distance = np.sqrt(np.sum(np.power(p2-p1,2)))\n",
    "    return distance"
   ]
  },
  {
   "cell_type": "code",
   "execution_count": 91,
   "metadata": {},
   "outputs": [
    {
     "data": {
      "text/plain": [
       "4.242640687119285"
      ]
     },
     "execution_count": 91,
     "metadata": {},
     "output_type": "execute_result"
    }
   ],
   "source": [
    "p1 = np.array([1,1]) # row-vector\n",
    "p2 = np.array([4,4])\n",
    "distance(p1,p2)"
   ]
  },
  {
   "cell_type": "markdown",
   "metadata": {},
   "source": [
    "### 3.3.3: Majority Vote\n",
    "Learn how to find the most common vote in an array or sequence of votes\n",
    "\n",
    "Compare two different methods for finding the most common vote"
   ]
  },
  {
   "cell_type": "code",
   "execution_count": 92,
   "metadata": {},
   "outputs": [],
   "source": [
    "import random\n",
    "def majority_vote(votes):\n",
    "    \"\"\"\n",
    "    Return the most comon element in votes\n",
    "    \n",
    "    Crea un diccionatio con el numero y la cantidad de veces que aparece en una lista\n",
    "    vote_counts.keys() son los diferentes votos\n",
    "    vote_counts.values() son la cantidad de votos\n",
    "    \n",
    "    Luego encuentra el más votado. Si hay más de uno, elige aleatoriamente uno \n",
    "    de ellos   \n",
    "    \"\"\"\n",
    "    \n",
    "    \n",
    "    vote_counts = {}\n",
    "    for vote in votes: \n",
    "        if vote in vote_counts:\n",
    "            vote_counts[vote] += 1\n",
    "        else:\n",
    "            vote_counts[vote] = 1\n",
    "            \n",
    "            \n",
    "    #I'll be keeping track of the keys that correspond to the highest values or counts in the dictionary.\n",
    "\n",
    "    winners = []\n",
    "    max_count = max(vote_counts.values())\n",
    "    for vote, count in vote_counts.items():\n",
    "        if count == max_count:\n",
    "            winners.append(vote)\n",
    "                     \n",
    "    return random.choice(winners)       "
   ]
  },
  {
   "cell_type": "code",
   "execution_count": 93,
   "metadata": {},
   "outputs": [
    {
     "data": {
      "text/plain": [
       "2"
      ]
     },
     "execution_count": 93,
     "metadata": {},
     "output_type": "execute_result"
    }
   ],
   "source": [
    "votes = [1,2,3,1,2,3,1,2,3,3,3,3,2,2,2]\n",
    "winners = majority_vote(votes)\n",
    "winners"
   ]
  },
  {
   "cell_type": "markdown",
   "metadata": {},
   "source": [
    "#### ¿How to find the mode of a NumPy array ? "
   ]
  },
  {
   "cell_type": "code",
   "execution_count": 94,
   "metadata": {},
   "outputs": [],
   "source": [
    "import scipy.stats as ss\n",
    "import random\n",
    "def majority_vote_short(votes):\n",
    "    \"\"\"\n",
    "    Return the most comon element in votes\n",
    "    \"\"\"   \n",
    "    mode, count = ss.mstats.mode(votes)\n",
    "                     \n",
    "    return int(mode)   "
   ]
  },
  {
   "cell_type": "code",
   "execution_count": 95,
   "metadata": {},
   "outputs": [
    {
     "data": {
      "text/plain": [
       "2"
      ]
     },
     "execution_count": 95,
     "metadata": {},
     "output_type": "execute_result"
    }
   ],
   "source": [
    "majority_vote_short(votes) # Ojo, porque elije el ¿ menor ?"
   ]
  },
  {
   "cell_type": "markdown",
   "metadata": {},
   "source": [
    "### 3.3.4: Finding Nearest Neighbors\n",
    "\n",
    "Learn how to find the nearest neighbors of an observation\n",
    "Use the nearest neighbors to predict the class of an observation"
   ]
  },
  {
   "cell_type": "markdown",
   "metadata": {},
   "source": [
    "--- loop over all points\n",
    "\n",
    "    --- compute the distance betwee point p and every other point\n",
    "    \n",
    "--- sort distances and return those k points that are nearest to point p.       "
   ]
  },
  {
   "cell_type": "code",
   "execution_count": 96,
   "metadata": {},
   "outputs": [],
   "source": [
    "points = np.array([[1,1],[1,2],[1,3],[2,1],[2,2],[2,3],[3,1],[3,2],[3,3]])\n",
    "p = np.array([2.5,2])"
   ]
  },
  {
   "cell_type": "code",
   "execution_count": 97,
   "metadata": {},
   "outputs": [
    {
     "data": {
      "image/png": "[encoded data removed]",
      "text/plain": [
       "<Figure size 288x288 with 1 Axes>"
      ]
     },
     "metadata": {
      "needs_background": "light"
     },
     "output_type": "display_data"
    }
   ],
   "source": [
    "import matplotlib.pyplot as plt\n",
    "plt.figure(figsize = (4,4))\n",
    "plt.plot(points[:,0],points[:,1],\"ro\")\n",
    "plt.plot(p[0],p[1],\"bo\") # short notation\n",
    "plt.axis([0.5,3.5,0.5,3.5])\n",
    "plt.xlabel(\"$x$\")\n",
    "plt.ylabel(\"$y$\");"
   ]
  },
  {
   "cell_type": "code",
   "execution_count": 98,
   "metadata": {},
   "outputs": [],
   "source": [
    "distances = np.zeros(points.shape[0]) # type(points.shape)= tuple  ; (9,2)\n",
    "for i in range(len(distances)):\n",
    "    distances[i] = distance(p,points[i])    "
   ]
  },
  {
   "cell_type": "code",
   "execution_count": 99,
   "metadata": {},
   "outputs": [
    {
     "data": {
      "text/plain": [
       "array([1.80277564, 1.5       , 1.80277564, 1.11803399, 0.5       ,\n",
       "       1.11803399, 1.11803399, 0.5       , 1.11803399])"
      ]
     },
     "execution_count": 99,
     "metadata": {},
     "output_type": "execute_result"
    }
   ],
   "source": [
    "distances"
   ]
  },
  {
   "cell_type": "code",
   "execution_count": 100,
   "metadata": {},
   "outputs": [
    {
     "data": {
      "text/plain": [
       "array([3, 2])"
      ]
     },
     "execution_count": 100,
     "metadata": {},
     "output_type": "execute_result"
    }
   ],
   "source": [
    "points[7]"
   ]
  },
  {
   "cell_type": "code",
   "execution_count": 101,
   "metadata": {},
   "outputs": [
    {
     "data": {
      "text/plain": [
       "0.5"
      ]
     },
     "execution_count": 101,
     "metadata": {},
     "output_type": "execute_result"
    }
   ],
   "source": [
    "distances[7]"
   ]
  },
  {
   "cell_type": "markdown",
   "metadata": {},
   "source": [
    "######  What does \"argsort\" do? it returns to indices that would sort the given array."
   ]
  },
  {
   "cell_type": "code",
   "execution_count": 102,
   "metadata": {},
   "outputs": [
    {
     "data": {
      "text/plain": [
       "array([4, 7, 3, 5, 6, 8, 1, 0, 2], dtype=int64)"
      ]
     },
     "execution_count": 102,
     "metadata": {},
     "output_type": "execute_result"
    }
   ],
   "source": [
    "ind = np.argsort(distances)\n",
    "ind"
   ]
  },
  {
   "cell_type": "code",
   "execution_count": 103,
   "metadata": {},
   "outputs": [
    {
     "data": {
      "text/plain": [
       "array([0.5       , 0.5       , 1.11803399, 1.11803399, 1.11803399,\n",
       "       1.11803399, 1.5       , 1.80277564, 1.80277564])"
      ]
     },
     "execution_count": 103,
     "metadata": {},
     "output_type": "execute_result"
    }
   ],
   "source": [
    "distances[ind]"
   ]
  },
  {
   "cell_type": "code",
   "execution_count": 104,
   "metadata": {},
   "outputs": [
    {
     "data": {
      "text/plain": [
       "array([0.5, 0.5])"
      ]
     },
     "execution_count": 104,
     "metadata": {},
     "output_type": "execute_result"
    }
   ],
   "source": [
    "distances[ind[0:2]] # the fisrt two closests"
   ]
  },
  {
   "cell_type": "code",
   "execution_count": 105,
   "metadata": {},
   "outputs": [],
   "source": [
    "def find_nearest_neigthbors(p,points,k=5):\n",
    "    \"\"\"\n",
    "    Find the k nearest neighbors of point p and return their indices.\n",
    "    \"\"\"\n",
    "    distances = np.zeros(points.shape[0]) # type(points.shape)= tuple  ; (9,2)\n",
    "    for i in range(len(distances)):\n",
    "        distances[i] = distance(p,points[i])  \n",
    "        ind = np.argsort(distances)\n",
    "    return ind[0:k]"
   ]
  },
  {
   "cell_type": "code",
   "execution_count": 106,
   "metadata": {},
   "outputs": [
    {
     "name": "stdout",
     "output_type": "stream",
     "text": [
      "[[2 2]\n",
      " [3 2]\n",
      " [2 1]]\n"
     ]
    }
   ],
   "source": [
    "ind = find_nearest_neigthbors(p,points,3) ; print(points[ind])"
   ]
  },
  {
   "cell_type": "code",
   "execution_count": 107,
   "metadata": {},
   "outputs": [],
   "source": [
    "def knn_predict(p,points,outcomes, k=5):\n",
    "    \"\"\"\n",
    "    Predice a que clase pertenece el punto p. \n",
    "    Los points, pertenecen a una de las clases dadas en outcomes.\n",
    "    \"\"\"\n",
    "    ind = find_nearest_neigthbors(p,points,k)\n",
    "    return majority_vote(outcomes[ind])"
   ]
  },
  {
   "cell_type": "code",
   "execution_count": 108,
   "metadata": {},
   "outputs": [],
   "source": [
    "outcomes = np.array([0,0,0,0,1,1,1,1,1]) # Clases de los points"
   ]
  },
  {
   "cell_type": "code",
   "execution_count": 109,
   "metadata": {},
   "outputs": [
    {
     "data": {
      "text/plain": [
       "0"
      ]
     },
     "execution_count": 109,
     "metadata": {},
     "output_type": "execute_result"
    }
   ],
   "source": [
    "knn_predict(np.array([1.1,2.7]),points,outcomes,2) # Predice a que clase pertenece el punto p"
   ]
  },
  {
   "cell_type": "markdown",
   "metadata": {},
   "source": [
    "### 3.3.5: Generating Synthetic Data"
   ]
  },
  {
   "cell_type": "code",
   "execution_count": 110,
   "metadata": {},
   "outputs": [
    {
     "data": {
      "text/plain": [
       "array([[ 9.97266211, 10.03090607],\n",
       "       [10.04355104,  9.8022068 ],\n",
       "       [10.12182194,  9.79370235]])"
      ]
     },
     "execution_count": 110,
     "metadata": {},
     "output_type": "execute_result"
    }
   ],
   "source": [
    "ss.norm(10,0.1).rvs((3,2))"
   ]
  },
  {
   "cell_type": "markdown",
   "metadata": {},
   "source": [
    "And then we need to specify the axis of concatenation, which is in this case,\n",
    "equal to 0.\n",
    "That's because we're concatenating along the rows of these arrays.\n",
    "\n",
    "np.concatenate:\n",
    "\n",
    "Takes in a tuple of np.arrays and joins them lengthwise along the specified axis"
   ]
  },
  {
   "cell_type": "code",
   "execution_count": 111,
   "metadata": {},
   "outputs": [
    {
     "data": {
      "text/plain": [
       "array([[ 1.02440632, -0.07760132],\n",
       "       [ 0.99507047,  0.55279751],\n",
       "       [ 0.48784526, -1.53538839],\n",
       "       [-0.09825279,  0.06285936],\n",
       "       [ 0.28912511, -0.02019431],\n",
       "       [ 1.99282875,  1.07789405]])"
      ]
     },
     "execution_count": 111,
     "metadata": {},
     "output_type": "execute_result"
    }
   ],
   "source": [
    "n = 3\n",
    "np.concatenate((ss.norm(0,1).rvs((n,2)) , ss.norm(1,1).rvs((n,2))), axis = 0   )"
   ]
  },
  {
   "cell_type": "code",
   "execution_count": 112,
   "metadata": {},
   "outputs": [
    {
     "data": {
      "text/plain": [
       "array([0, 0, 0])"
      ]
     },
     "execution_count": 112,
     "metadata": {},
     "output_type": "execute_result"
    }
   ],
   "source": [
    "#Definiendo las clases (outcomes)\n",
    "np.repeat(0,n)"
   ]
  },
  {
   "cell_type": "code",
   "execution_count": 113,
   "metadata": {},
   "outputs": [
    {
     "data": {
      "text/plain": [
       "array([0, 0, 0, 1, 1, 1])"
      ]
     },
     "execution_count": 113,
     "metadata": {},
     "output_type": "execute_result"
    }
   ],
   "source": [
    "np.concatenate((np.repeat(0,n), np.repeat(1,n)))"
   ]
  },
  {
   "cell_type": "code",
   "execution_count": 114,
   "metadata": {},
   "outputs": [],
   "source": [
    "def generate_synth_data(n=50):\n",
    "    \"\"\"\n",
    "    Create two sets of point from bivariate normal distributions.\n",
    "    \"\"\"\n",
    "    points = np.concatenate((ss.norm(0,1).rvs((n,2)),ss.norm(1,1).rvs((n,2))), axis =0   )\n",
    "    outcomes = np.concatenate((np.repeat(0,n), np.repeat(1,n)))\n",
    "    return (points,outcomes)"
   ]
  },
  {
   "cell_type": "code",
   "execution_count": 115,
   "metadata": {},
   "outputs": [],
   "source": [
    "n = 5\n",
    "points, outcomes = generate_synth_data(n)"
   ]
  },
  {
   "cell_type": "code",
   "execution_count": 116,
   "metadata": {},
   "outputs": [
    {
     "data": {
      "text/plain": [
       "(10, 2)"
      ]
     },
     "execution_count": 116,
     "metadata": {},
     "output_type": "execute_result"
    }
   ],
   "source": [
    "points.shape"
   ]
  },
  {
   "cell_type": "code",
   "execution_count": 117,
   "metadata": {},
   "outputs": [
    {
     "data": {
      "text/plain": [
       "array([ 1.81361251,  0.2374919 , -1.70233737,  1.64201932,  1.42347878,\n",
       "       -0.18242964,  0.08475252,  1.34394687,  1.45127178,  1.99940754])"
      ]
     },
     "execution_count": 117,
     "metadata": {},
     "output_type": "execute_result"
    }
   ],
   "source": [
    "points[:,0]"
   ]
  },
  {
   "cell_type": "code",
   "execution_count": 118,
   "metadata": {},
   "outputs": [
    {
     "data": {
      "text/plain": [
       "array([ 1.81361251,  0.2374919 , -1.70233737,  1.64201932,  1.42347878])"
      ]
     },
     "execution_count": 118,
     "metadata": {},
     "output_type": "execute_result"
    }
   ],
   "source": [
    "points[:n,0]"
   ]
  },
  {
   "cell_type": "code",
   "execution_count": 119,
   "metadata": {},
   "outputs": [
    {
     "data": {
      "text/plain": [
       "array([-0.18242964,  0.08475252,  1.34394687,  1.45127178,  1.99940754])"
      ]
     },
     "execution_count": 119,
     "metadata": {},
     "output_type": "execute_result"
    }
   ],
   "source": [
    "points[n:,0]"
   ]
  },
  {
   "cell_type": "code",
   "execution_count": 120,
   "metadata": {},
   "outputs": [
    {
     "data": {
      "image/png": "[encoded data removed]",
      "text/plain": [
       "<Figure size 432x288 with 1 Axes>"
      ]
     },
     "metadata": {
      "needs_background": "light"
     },
     "output_type": "display_data"
    }
   ],
   "source": [
    "n = 50\n",
    "points, outcomes = generate_synth_data(n)\n",
    "plt.figure()\n",
    "plt.plot(points[:n,0],points[:n,1],\"ro\")\n",
    "plt.plot(points[n:,0],points[n:,1],\"bo\");"
   ]
  },
  {
   "cell_type": "markdown",
   "metadata": {},
   "source": [
    "### 3.3.6: Making a Prediction Grid\n",
    "\n",
    "Learn how to use enumerate."
   ]
  },
  {
   "cell_type": "code",
   "execution_count": 121,
   "metadata": {},
   "outputs": [
    {
     "data": {
      "text/plain": [
       "[(0, 'Spring'), (1, 'Summer'), (2, 'Fall'), (3, 'Winter')]"
      ]
     },
     "execution_count": 121,
     "metadata": {},
     "output_type": "execute_result"
    }
   ],
   "source": [
    "seasons = [\"Spring\",\"Summer\",\"Fall\",\"Winter\"]\n",
    "list(enumerate(seasons))"
   ]
  },
  {
   "cell_type": "code",
   "execution_count": 122,
   "metadata": {},
   "outputs": [
    {
     "name": "stdout",
     "output_type": "stream",
     "text": [
      "0 Spring\n",
      "1 Summer\n",
      "2 Fall\n",
      "3 Winter\n"
     ]
    }
   ],
   "source": [
    "for indx, season in enumerate(seasons):\n",
    "    print(indx,season)"
   ]
  },
  {
   "cell_type": "markdown",
   "metadata": {},
   "source": [
    "Learn how to use NumPy meshgrid."
   ]
  },
  {
   "cell_type": "code",
   "execution_count": 123,
   "metadata": {},
   "outputs": [],
   "source": [
    "limits = (0,5,2,8)\n",
    "x_min,x_max,y_min,y_max = limits\n",
    "h = 1\n",
    "xs = np.arange(x_min,x_max,h)\n",
    "ys = np.arange(y_min,y_max,h)"
   ]
  },
  {
   "cell_type": "code",
   "execution_count": 124,
   "metadata": {},
   "outputs": [],
   "source": [
    "xx, yy = np.meshgrid(xs,ys)"
   ]
  },
  {
   "cell_type": "code",
   "execution_count": 125,
   "metadata": {},
   "outputs": [
    {
     "data": {
      "text/plain": [
       "array([[0, 1, 2, 3, 4],\n",
       "       [0, 1, 2, 3, 4],\n",
       "       [0, 1, 2, 3, 4],\n",
       "       [0, 1, 2, 3, 4],\n",
       "       [0, 1, 2, 3, 4],\n",
       "       [0, 1, 2, 3, 4]])"
      ]
     },
     "execution_count": 125,
     "metadata": {},
     "output_type": "execute_result"
    }
   ],
   "source": [
    "xx"
   ]
  },
  {
   "cell_type": "code",
   "execution_count": 126,
   "metadata": {},
   "outputs": [
    {
     "data": {
      "text/plain": [
       "array([[2, 2, 2, 2, 2],\n",
       "       [3, 3, 3, 3, 3],\n",
       "       [4, 4, 4, 4, 4],\n",
       "       [5, 5, 5, 5, 5],\n",
       "       [6, 6, 6, 6, 6],\n",
       "       [7, 7, 7, 7, 7]])"
      ]
     },
     "execution_count": 126,
     "metadata": {},
     "output_type": "execute_result"
    }
   ],
   "source": [
    "yy"
   ]
  },
  {
   "cell_type": "markdown",
   "metadata": {},
   "source": [
    "Learn how to make a prediction grid."
   ]
  },
  {
   "cell_type": "code",
   "execution_count": 127,
   "metadata": {},
   "outputs": [],
   "source": [
    "def make_prediction_grid(predictors,outcomes,limits,h,k):\n",
    "    \"\"\"\n",
    "    Classify each point on the prediction grid.\n",
    "    \"\"\"\n",
    "    x_min,x_max,y_min,y_max = limits\n",
    "    xs = np.arange(x_min,x_max,h)\n",
    "    ys = np.arange(y_min,y_max,h)\n",
    "    xx, yy = np.meshgrid(xs,ys)\n",
    "    \n",
    "    prediction_grid = np.zeros(xx.shape, dtype = int) # 0 o 1\n",
    "    for i,x in enumerate(xs):\n",
    "        for j,y in enumerate(ys):\n",
    "            p = np.array([x,y])\n",
    "            prediction_grid[j,i] = knn_predict(p,predictors,outcomes,k)\n",
    "    return (xx,yy,prediction_grid)"
   ]
  },
  {
   "cell_type": "markdown",
   "metadata": {},
   "source": [
    "### 3.3.7: Plotting the Prediction Grid\n",
    "\n",
    "Learn how to plot the prediction grid.\n",
    "\n",
    "Learn about the bias-variance tradeoff."
   ]
  },
  {
   "cell_type": "code",
   "execution_count": 128,
   "metadata": {},
   "outputs": [],
   "source": [
    "(predictors, outcomes) = generate_synth_data()"
   ]
  },
  {
   "cell_type": "code",
   "execution_count": 129,
   "metadata": {},
   "outputs": [
    {
     "data": {
      "text/plain": [
       "(100, 2)"
      ]
     },
     "execution_count": 129,
     "metadata": {},
     "output_type": "execute_result"
    }
   ],
   "source": [
    "predictors.shape"
   ]
  },
  {
   "cell_type": "code",
   "execution_count": 136,
   "metadata": {},
   "outputs": [],
   "source": [
    "def plot_prediction_grid (xx, yy, prediction_grid, filename):\n",
    "    \"\"\" Plot KNN predictions for every point on the grid.\"\"\"\n",
    "    from matplotlib.colors import ListedColormap\n",
    "    background_colormap = ListedColormap ([\"hotpink\",\"lightskyblue\", \"yellowgreen\"])\n",
    "    observation_colormap = ListedColormap ([\"red\",\"blue\",\"green\"])\n",
    "    plt.figure(figsize =(10,10))\n",
    "    plt.pcolormesh(xx, yy, prediction_grid, cmap = background_colormap, alpha = 0.5)\n",
    "    plt.scatter(predictors[:,0], predictors [:,1], c = outcomes, cmap = observation_colormap, s = 50)\n",
    "    plt.xlabel('Variable 1'); plt.ylabel('Variable 2')\n",
    "    plt.xticks(()); plt.yticks(())\n",
    "    plt.xlim (np.min(xx), np.max(xx))\n",
    "    plt.ylim (np.min(yy), np.max(yy))\n",
    "    plt.savefig(filename)"
   ]
  },
  {
   "cell_type": "code",
   "execution_count": 141,
   "metadata": {},
   "outputs": [
    {
     "data": {
      "image/png": "[encoded data removed]",
      "text/plain": [
       "<Figure size 720x720 with 1 Axes>"
      ]
     },
     "metadata": {},
     "output_type": "display_data"
    }
   ],
   "source": [
    "(predictors, outcomes) = generate_synth_data()\n",
    "\n",
    "k = 50 ; filename=\"knn_synth_50.pdf\";limits=(-3,4,-3,4);h=0.1 \n",
    "(xx,yy,prediction_grid) = make_prediction_grid(predictors, outcomes,limits,h,k)\n",
    "plot_prediction_grid(xx,yy,prediction_grid,filename)"
   ]
  },
  {
   "cell_type": "markdown",
   "metadata": {},
   "source": [
    "### bias-variance tradeoff.\n",
    "\n",
    "It seems that you might be able to find a value of k that maximizes\n",
    "the accuracy of the predictions.\n",
    "But that's somewhat short sighted (Pero eso es un poco miope.)\n",
    "\n",
    "This is because what you really care about is not\n",
    "how well your method performs on the training data set,\n",
    "the data set we've used so far.\n",
    "But rather how well it performs on a future dataset you haven't yet seen.\n",
    "\n",
    "It turns out that using a value for k that's too large or too small\n",
    "is not optimal.\n",
    "\n",
    "A phenomenon that is known as the bias-variance tradeoff.\n",
    "\n",
    "This suggests that some intermediate values of k might be best.\n",
    "\n",
    "k equal to 5 is a reasonable choice."
   ]
  },
  {
   "cell_type": "markdown",
   "metadata": {},
   "source": [
    "### 3.3.8: Applying the kNN Method\n",
    "\n",
    "Learn how to apply the homemade kNN classifier to a real dataset.\n",
    "\n",
    "Compare the performance of the homemade kNN classifier to the performance of the kNN classifier from the scikit-learn module. "
   ]
  },
  {
   "cell_type": "code",
   "execution_count": 143,
   "metadata": {},
   "outputs": [],
   "source": [
    "from sklearn import datasets\n",
    "iris = datasets.load_iris()    "
   ]
  },
  {
   "cell_type": "code",
   "execution_count": 152,
   "metadata": {},
   "outputs": [
    {
     "data": {
      "image/png": "[encoded data removed]",
      "text/plain": [
       "<Figure size 432x288 with 1 Axes>"
      ]
     },
     "metadata": {
      "needs_background": "light"
     },
     "output_type": "display_data"
    }
   ],
   "source": [
    "predictors = iris.data[:, 0:2]\n",
    "outcomes = iris.target\n",
    "plt.plot(predictors[outcomes ==0][:,0],predictors[outcomes ==0][:,1],\"ro\"   )\n",
    "plt.plot(predictors[outcomes ==1][:,0],predictors[outcomes ==1][:,1],\"go\"   )\n",
    "plt.plot(predictors[outcomes ==2][:,0],predictors[outcomes ==2][:,1],\"bo\"   );"
   ]
  },
  {
   "cell_type": "code",
   "execution_count": 153,
   "metadata": {},
   "outputs": [
    {
     "data": {
      "image/png": "[encoded data removed]",
      "text/plain": [
       "<Figure size 720x720 with 1 Axes>"
      ]
     },
     "metadata": {},
     "output_type": "display_data"
    }
   ],
   "source": [
    "k = 5 ; filename=\"iris_grid_50.pdf\";limits=(4,8,1.5,4.5);h=0.1 \n",
    "(xx,yy,prediction_grid) = make_prediction_grid(predictors, outcomes,limits,h,k)\n",
    "plot_prediction_grid(xx,yy,prediction_grid,filename)"
   ]
  },
  {
   "cell_type": "code",
   "execution_count": 154,
   "metadata": {},
   "outputs": [],
   "source": [
    "from sklearn.neighbors import KNeighborsClassifier"
   ]
  },
  {
   "cell_type": "code",
   "execution_count": 155,
   "metadata": {},
   "outputs": [],
   "source": [
    "knn = KNeighborsClassifier(n_neighbors=5)"
   ]
  },
  {
   "cell_type": "code",
   "execution_count": 158,
   "metadata": {},
   "outputs": [],
   "source": [
    "knn.fit(predictors, outcomes)\n",
    "sk_predictions = knn.predict(predictors)"
   ]
  },
  {
   "cell_type": "code",
   "execution_count": 159,
   "metadata": {},
   "outputs": [
    {
     "data": {
      "text/plain": [
       "(150,)"
      ]
     },
     "execution_count": 159,
     "metadata": {},
     "output_type": "execute_result"
    }
   ],
   "source": [
    "sk_predictions.shape"
   ]
  },
  {
   "cell_type": "code",
   "execution_count": null,
   "metadata": {},
   "outputs": [],
   "source": [
    "my_predictions = np.array()"
   ]
  }
 ],
 "metadata": {
  "kernelspec": {
   "display_name": "Python 3",
   "language": "python",
   "name": "python3"
  },
  "language_info": {
   "codemirror_mode": {
    "name": "ipython",
    "version": 3
   },
   "file_extension": ".py",
   "mimetype": "text/x-python",
   "name": "python",
   "nbconvert_exporter": "python",
   "pygments_lexer": "ipython3",
   "version": "3.7.0"
  }
 },
 "nbformat": 4,
 "nbformat_minor": 2
}
