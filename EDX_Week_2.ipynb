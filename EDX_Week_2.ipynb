{
 "cells": [
  {
   "cell_type": "markdown",
   "metadata": {},
   "source": [
    "# Week 2 \n",
    "\n",
    "## introduces you to Python libraries and concepts used in research.\n",
    "\n",
    "### In week 2, you will:\n",
    "\n",
    "Learn about Python scope rules;\n",
    "Learn the basics of scientific and vectorized computing using numpy;\n",
    "Learn the basics of plotting with matplotlib.pyplot;\n",
    "Learn the basics of random numbers with the random module;\n",
    "Learn how to measure time"
   ]
  },
  {
   "cell_type": "markdown",
   "metadata": {},
   "source": [
    "### 2.1.1: Scope Rules\n",
    "# LEGB \n",
    "### Local\n",
    "Local is the current function you're in.\n",
    "### Enclosing Function\n",
    "Enclosing function is the function that called the current function, if any.\n",
    "### Global\n",
    "Global refers to the module in which the function was defined.\n",
    "### Built-in\n",
    "And built-in refers to Python's built-in namespace."
   ]
  },
  {
   "cell_type": "code",
   "execution_count": null,
   "metadata": {},
   "outputs": [],
   "source": [
    "We first call main.\n",
    "Main calls update.\n",
    "The execution then returns to main.\n",
    "And once main exits, we return the global scope,\n",
    "the scope where we defined the functions main and update.\n",
    "\n"
   ]
  },
  {
   "cell_type": "code",
   "execution_count": null,
   "metadata": {},
   "outputs": [],
   "source": [
    "def update(n,x):\n",
    "    n = 2                    #Remember that variables that are \n",
    "    x.append(4)              #created within a function, such as n\n",
    "     print('update: ', n, x) #in the case of the update function, \n",
    "                             #are deleted as soon as Python exits\n",
    "                             #that function.\n",
    "def main():\n",
    "    n = 1\n",
    "    x = [0,1,2,3]\n",
    "    print('main: ', n, x)\n",
    "    update(n,x)\n",
    "    print('main: ', n, x)\n",
    "\n",
    "main()"
   ]
  },
  {
   "cell_type": "code",
   "execution_count": null,
   "metadata": {},
   "outputs": [],
   "source": [
    "Here, n and x are assigned in the function main,\n",
    "so when we get to the first print function,\n",
    "Python finds the objects n and x in the local scope,\n",
    "meaning that the values of the objects are n equal to 1\n",
    "and x is equal to 0, 1, 2, 3, a list.\n",
    "\n",
    "The program then calls the function update with arguments\n",
    "n and x.\n",
    "So the program's control then moves to the function update.\n",
    "All of the function update has a parameter, n.\n",
    "On the first line of the function, we have an assignment,\n",
    "n equals 2, which creates a new variable that happens to\n",
    "be called \"n,\" And its value is set to 2.\n",
    "On the second line, we append the number 4\n",
    "to the object x, which is one of the function's parameters.\n",
    "Just to be clear on terminology, remember\n",
    "that an argument is an object that is passed to a function\n",
    "as its input when the function is called.\n",
    "A parameter, in contrast, is a variable that is used\n",
    "in the function definition to refer to that argument.\n",
    "That means that the second line will append the number 4 to\n",
    "the list that we have created in the main function.\n",
    "So when we get to the print function, Python\n",
    "finds the objects n and x in the local scope,\n",
    "meaning that the values of the objects are n equal to 2\n",
    "and x is a list, 0, 1, 2, 3, 4.\n",
    "\n",
    "Python then exits the function and control returns to the\n",
    "main function.\n",
    "Remember that variables that are created within a function, \n",
    "such as n in the case of the update function, are deleted\n",
    "as soon as Python exits that function.\n",
    "\n",
    "Looking at the final print function, the objects n and x\n",
    "are found in the local scope where n is equal to 1\n",
    "and x is a list, 0, 1, 2, 3 4."
   ]
  },
  {
   "cell_type": "code",
   "execution_count": null,
   "metadata": {},
   "outputs": [],
   "source": [
    "def increment(n): \n",
    "   n += 1 \n",
    "   print(n) \n",
    "\n",
    "n = 1 \n",
    "increment(n) \n",
    "print(n) "
   ]
  },
  {
   "cell_type": "code",
   "execution_count": null,
   "metadata": {},
   "outputs": [],
   "source": [
    "Fill in the #blank# to ensure this prints 10."
   ]
  },
  {
   "cell_type": "code",
   "execution_count": null,
   "metadata": {},
   "outputs": [],
   "source": [
    "def increment(n):\n",
    "   n += 1\n",
    "   return n # blank #\n",
    "\n",
    "n = 1\n",
    "while n < 10:\n",
    "   n = increment(n)\n",
    "print(n)"
   ]
  },
  {
   "cell_type": "markdown",
   "metadata": {},
   "source": [
    "### 2.1.2: Classes and Object-Oriented Programming\n",
    "Aprenda lo básico de la herencia en lo que respecta a las clases y la programación orientada a objetos.\n",
    "\n",
    "In general, an object consists of both internal data and methods\n",
    "that perform operations on the data.\n",
    "\n",
    "Inheritance means that you can define a new object type, a new class, that inherits properties from an existing object\n",
    "\n",
    "Un objeto es una instancia de la clase: the class statement doesn't create any instance of the class"
   ]
  },
  {
   "cell_type": "code",
   "execution_count": null,
   "metadata": {},
   "outputs": [],
   "source": [
    "# Clase derivada de list: puede redefinir cualquier attributo\n",
    "# heredado de list, y además, puede agregar sus nuevos y propios attributes.\n",
    "\n",
    "class Mylist(list): # Notice that we placed parentheses after MyList.\n",
    "                    # This is how Python specifies inheritance.\n",
    "# When a class is created via inheritance, the new class\n",
    "# inherits the attributes defined by its base class, the \n",
    "# class it is inheriting attributes from -- in this case -- a list. \n",
    "\n"
   ]
  },
  {
   "cell_type": "markdown",
   "metadata": {},
   "source": [
    "The functions defined inside a class are known as \"instance methods\" because they operate on an instance of the class.\n",
    "\n",
    "By convention, the name of the class instance is called \"self\",and it is always passed as the first argument\n",
    "to the functions defined as part of a class."
   ]
  },
  {
   "cell_type": "code",
   "execution_count": 1,
   "metadata": {},
   "outputs": [],
   "source": [
    "class Mylist(list):\n",
    "    def remove_min(self):\n",
    "        self.remove(min(self))\n",
    "    def remove_max(self):\n",
    "        self.remove(max(self))"
   ]
  },
  {
   "cell_type": "code",
   "execution_count": 9,
   "metadata": {},
   "outputs": [],
   "source": [
    "x = [1,5,7,9,4,5,7]\n",
    "y = Mylist(x)\n",
    "dir(y) #you'll see that the method to remove max and remove min\n",
    "       #are now available"
   ]
  },
  {
   "cell_type": "code",
   "execution_count": 10,
   "metadata": {},
   "outputs": [],
   "source": [
    "y.remove_min()"
   ]
  },
  {
   "cell_type": "code",
   "execution_count": 11,
   "metadata": {},
   "outputs": [
    {
     "data": {
      "text/plain": [
       "[5, 7, 9, 4, 5, 7]"
      ]
     },
     "execution_count": 11,
     "metadata": {},
     "output_type": "execute_result"
    }
   ],
   "source": [
    "y"
   ]
  },
  {
   "cell_type": "code",
   "execution_count": 12,
   "metadata": {},
   "outputs": [
    {
     "data": {
      "text/plain": [
       "[5, 7, 4, 5, 7]"
      ]
     },
     "execution_count": 12,
     "metadata": {},
     "output_type": "execute_result"
    }
   ],
   "source": [
    "y.remove_max()\n",
    "y"
   ]
  },
  {
   "cell_type": "markdown",
   "metadata": {},
   "source": [
    "### 2.2.1: Introduction to NumPy Arrays\n",
    "\n",
    "NumPy is a Python module designed for scientific computation.\n",
    "\n",
    "NumPy arrays are n-dimensional array objects\n",
    "\n",
    "NumPy arrays are an additional data type provided by NumPy,\n",
    "and they are used for representing vectors and matrices."
   ]
  },
  {
   "cell_type": "code",
   "execution_count": 14,
   "metadata": {},
   "outputs": [],
   "source": [
    "import numpy as np\n",
    "zero_vector = np.zeros(5)\n",
    "zero_matrix = np.zeros((5,3)) "
   ]
  },
  {
   "cell_type": "code",
   "execution_count": 15,
   "metadata": {},
   "outputs": [
    {
     "data": {
      "text/plain": [
       "array([[0., 0., 0.],\n",
       "       [0., 0., 0.],\n",
       "       [0., 0., 0.],\n",
       "       [0., 0., 0.],\n",
       "       [0., 0., 0.]])"
      ]
     },
     "execution_count": 15,
     "metadata": {},
     "output_type": "execute_result"
    }
   ],
   "source": [
    "zero_matrix"
   ]
  },
  {
   "cell_type": "code",
   "execution_count": 17,
   "metadata": {},
   "outputs": [
    {
     "data": {
      "text/plain": [
       "array([1, 2, 3])"
      ]
     },
     "execution_count": 17,
     "metadata": {},
     "output_type": "execute_result"
    }
   ],
   "source": [
    "x = np.array([1,2,3])\n",
    "x"
   ]
  },
  {
   "cell_type": "code",
   "execution_count": 20,
   "metadata": {},
   "outputs": [
    {
     "data": {
      "text/plain": [
       "array([[1, 3],\n",
       "       [5, 6]])"
      ]
     },
     "execution_count": 20,
     "metadata": {},
     "output_type": "execute_result"
    }
   ],
   "source": [
    "m = np.array([[1,3],[5,6]])\n",
    "m"
   ]
  },
  {
   "cell_type": "code",
   "execution_count": 21,
   "metadata": {},
   "outputs": [
    {
     "data": {
      "text/plain": [
       "array([[1, 5],\n",
       "       [3, 6]])"
      ]
     },
     "execution_count": 21,
     "metadata": {},
     "output_type": "execute_result"
    }
   ],
   "source": [
    "mt = m.transpose()\n",
    "mt"
   ]
  },
  {
   "cell_type": "code",
   "execution_count": 22,
   "metadata": {},
   "outputs": [
    {
     "data": {
      "text/plain": [
       "array([0., 0., 0., 0., 0.])"
      ]
     },
     "execution_count": 22,
     "metadata": {},
     "output_type": "execute_result"
    }
   ],
   "source": [
    "np.array([0., 0., 0., 0., 0.])"
   ]
  },
  {
   "cell_type": "code",
   "execution_count": 26,
   "metadata": {},
   "outputs": [
    {
     "data": {
      "text/plain": [
       "array([0., 0., 0., 0., 0.])"
      ]
     },
     "execution_count": 26,
     "metadata": {},
     "output_type": "execute_result"
    }
   ],
   "source": [
    "np.zeros(5)"
   ]
  },
  {
   "cell_type": "code",
   "execution_count": 28,
   "metadata": {},
   "outputs": [
    {
     "name": "stdout",
     "output_type": "stream",
     "text": [
      "[[3 5]\n",
      " [6 7]]\n"
     ]
    }
   ],
   "source": [
    "x = np.array([[3,6],[5,7]]) \n",
    "y = x.transpose() \n",
    "print(y) "
   ]
  },
  {
   "cell_type": "markdown",
   "metadata": {},
   "source": [
    "### 2.2.2: Slicing NumPy Arrays"
   ]
  },
  {
   "cell_type": "code",
   "execution_count": null,
   "metadata": {},
   "outputs": [],
   "source": []
  }
 ],
 "metadata": {
  "kernelspec": {
   "display_name": "Python 3",
   "language": "python",
   "name": "python3"
  },
  "language_info": {
   "codemirror_mode": {
    "name": "ipython",
    "version": 3
   },
   "file_extension": ".py",
   "mimetype": "text/x-python",
   "name": "python",
   "nbconvert_exporter": "python",
   "pygments_lexer": "ipython3",
   "version": "3.7.0"
  }
 },
 "nbformat": 4,
 "nbformat_minor": 2
}
